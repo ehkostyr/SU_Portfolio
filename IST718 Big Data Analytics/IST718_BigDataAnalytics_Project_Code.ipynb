{
  "nbformat": 4,
  "nbformat_minor": 0,
  "metadata": {
    "colab": {
      "name": "Sanjeev_CourseProject.ipynb",
      "provenance": [],
      "collapsed_sections": [],
      "machine_shape": "hm"
    },
    "kernelspec": {
      "name": "python3",
      "display_name": "Python 3"
    },
    "language_info": {
      "codemirror_mode": {
        "name": "ipython",
        "version": 3
      },
      "file_extension": ".py",
      "mimetype": "text/x-python",
      "name": "python",
      "nbconvert_exporter": "python",
      "pygments_lexer": "ipython3",
      "version": "3.7.3"
    },
    "accelerator": "GPU"
  },
  "cells": [
    {
      "cell_type": "markdown",
      "metadata": {
        "id": "q20ll1hHOBhr",
        "colab_type": "text"
      },
      "source": [
        "#***Toronto Real Estate Analysis Project***\n",
        "\n",
        "\n"
      ]
    },
    {
      "cell_type": "markdown",
      "metadata": {
        "id": "KJJPb4rYN-mk",
        "colab_type": "text"
      },
      "source": [
        "### **Introduction**"
      ]
    },
    {
      "cell_type": "markdown",
      "metadata": {
        "id": "LjpNBQd1Ob22",
        "colab_type": "text"
      },
      "source": [
        "There are a lot of reasons rent in Toronto is getting more expensive, and the most obvious reason is simple supply and demand. A lot of people want to live in the city, and landlords know they have a high demand and they can get away with charging crazy prices. In order to avoid paying rent and invest in real property, it would be really awesome if we could predict the sales prices of houses with good accuracy to avoid paying more than what the unit deserves or it could also help owners to list their houses at the right price to sell quickly.\n",
        "\n",
        "Alternatively, realtors might use this model to apply more accuracy to their listing prices and \"comps\" when marketing homes.\n",
        "\n",
        "It would also be great if we can narrow down the features which are the most important in setting the price of a unit. With all this mind, we applied the OSEMIN approach to obtain and analyze the data we had to find some answers."
      ]
    },
    {
      "cell_type": "markdown",
      "metadata": {
        "id": "RurpA5_zPlZ9",
        "colab_type": "text"
      },
      "source": [
        "### **Obtaining Data**"
      ]
    },
    {
      "cell_type": "markdown",
      "metadata": {
        "id": "xwz_EsjVPpzR",
        "colab_type": "text"
      },
      "source": [
        "To Obtain the data used in this experiement, an external RETS connector application account was used to connect to the TREB (Toronto Real Estate Board) website and data from each year was filtered out using select parameters. Later all these different years of data were collated into a single file and read using pandas. The final dataframe had approximately 670,000 rows and 42 columns."
      ]
    },
    {
      "cell_type": "code",
      "metadata": {
        "id": "xHIFZzylU_88",
        "colab_type": "code",
        "outputId": "818b7d90-f59e-4940-b93c-5cab265c13e7",
        "colab": {
          "base_uri": "https://localhost:8080/",
          "height": 123
        }
      },
      "source": [
        "from google.colab import drive\n",
        "drive.mount('/content/drive')"
      ],
      "execution_count": 0,
      "outputs": [
        {
          "output_type": "stream",
          "text": [
            "Go to this URL in a browser: https://accounts.google.com/o/oauth2/auth?client_id=947318989803-6bn6qk8qdgf4n4g3pfee6491hc0brc4i.apps.googleusercontent.com&redirect_uri=urn%3aietf%3awg%3aoauth%3a2.0%3aoob&response_type=code&scope=email%20https%3a%2f%2fwww.googleapis.com%2fauth%2fdocs.test%20https%3a%2f%2fwww.googleapis.com%2fauth%2fdrive%20https%3a%2f%2fwww.googleapis.com%2fauth%2fdrive.photos.readonly%20https%3a%2f%2fwww.googleapis.com%2fauth%2fpeopleapi.readonly\n",
            "\n",
            "Enter your authorization code:\n",
            "··········\n",
            "Mounted at /content/drive\n"
          ],
          "name": "stdout"
        }
      ]
    },
    {
      "cell_type": "code",
      "metadata": {
        "colab_type": "code",
        "id": "Yj5CA52tl48F",
        "colab": {}
      },
      "source": [
        "import pandas as pd\n",
        "import re\n",
        "import numpy as np\n",
        "import matplotlib.pyplot as plt\n",
        "import seaborn as sns"
      ],
      "execution_count": 0,
      "outputs": []
    },
    {
      "cell_type": "markdown",
      "metadata": {
        "id": "ESAEHJtxUSGp",
        "colab_type": "text"
      },
      "source": [
        "The original data file has about 360 features or columns which we don't need here. Hence, specific important features were imported by eliminating redundant and repetitive columns and all 8 files were read in."
      ]
    },
    {
      "cell_type": "code",
      "metadata": {
        "colab_type": "code",
        "id": "Qrs8TeIr1f8x",
        "outputId": "270690f4-2929-452c-979a-d587655f6768",
        "colab": {
          "base_uri": "https://localhost:8080/",
          "height": 86
        }
      },
      "source": [
        "#Reading in only specific columns from the csv files\n",
        "fields = ['MLS#','Address','Approx Age', 'Approx Square Footage', 'Apt/Unit','Unit #', 'Air Conditioning',\n",
        "          'Style','Area','Laundry Level','Taxes','Heat Source','Balcony','List Price','Listing Entry Date', 'Bedrooms',\n",
        "          'Bedrooms +','Washrooms','Rooms','Kitchens','Level','Maintenance','Sale/Lease','Sold Date', 'Water Included', 'Closed Date',\n",
        "          'Community', 'Postal Code', 'Province', 'Exposure', 'Type',\n",
        "          \"Parking Spaces\",\"Total Parking Spaces\", \"Parking Type\", \"Street Direction\", \"Directions/Cross Streets\",\"Original Price\",\n",
        "          \"Sold Price\",\"Last Status\",'Parking/Drive',\"Days On Market\",'Remarks For Clients']\n",
        "\n",
        "#Read in real estate data from drive between the years 2010 to 2017\n",
        "path1 = \"/content/drive/My Drive/IST718_Project/Data/Combined results(2010).csv\"\n",
        "REdf_2010 = pd.read_csv(path1, usecols=fields)\n",
        "path2 = \"/content/drive/My Drive/IST718_Project/Data/Combined results(2011).csv\"\n",
        "REdf_2011 = pd.read_csv(path2, usecols=fields)\n",
        "path3 = \"/content/drive/My Drive/IST718_Project/Data/Combined results(2012).csv\"\n",
        "REdf_2012 = pd.read_csv(path3, usecols=fields)\n",
        "path4 = \"/content/drive/My Drive/IST718_Project/Data/Combined results(2013).csv\"\n",
        "REdf_2013 = pd.read_csv(path4, usecols=fields)\n",
        "path5 = \"/content/drive/My Drive/IST718_Project/Data/Combined results(2014).csv\"\n",
        "REdf_2014 = pd.read_csv(path5, usecols=fields)\n",
        "path6 = \"/content/drive/My Drive/IST718_Project/Data/Combined results(2015).csv\"\n",
        "REdf_2015 = pd.read_csv(path6, usecols=fields)\n",
        "path7 = \"/content/drive/My Drive/IST718_Project/Data/Combined results(2016).csv\"\n",
        "REdf_2016 = pd.read_csv(path7, usecols=fields)\n",
        "path8 = \"/content/drive/My Drive/IST718_Project/Data/Combined results(2017).csv\"\n",
        "REdf_2017 = pd.read_csv(path8, usecols=fields)"
      ],
      "execution_count": 0,
      "outputs": [
        {
          "output_type": "stream",
          "text": [
            "/usr/local/lib/python3.6/dist-packages/IPython/core/interactiveshell.py:2718: DtypeWarning: Columns (240,252) have mixed types. Specify dtype option on import or set low_memory=False.\n",
            "  interactivity=interactivity, compiler=compiler, result=result)\n",
            "/usr/local/lib/python3.6/dist-packages/IPython/core/interactiveshell.py:2718: DtypeWarning: Columns (252) have mixed types. Specify dtype option on import or set low_memory=False.\n",
            "  interactivity=interactivity, compiler=compiler, result=result)\n"
          ],
          "name": "stderr"
        }
      ]
    },
    {
      "cell_type": "markdown",
      "metadata": {
        "id": "errzakj1T8Wc",
        "colab_type": "text"
      },
      "source": [
        "All eight dataframes were merged into a single dataframe and written into a file so it can be easily read from a single file for our further analysis."
      ]
    },
    {
      "cell_type": "code",
      "metadata": {
        "colab_type": "code",
        "id": "DhqFaivv2d8i",
        "colab": {}
      },
      "source": [
        "#Merge dataframes by rows\n",
        "rd_2010_2011 = pd.concat([REdf_2010, REdf_2011], ignore_index=True)\n",
        "rd_2010_2012 = pd.concat([rd_2010_2011, REdf_2012], ignore_index=True)\n",
        "rd_2010_2013 = pd.concat([rd_2010_2012, REdf_2013], ignore_index=True)\n",
        "rd_2010_2014 = pd.concat([rd_2010_2013, REdf_2014], ignore_index=True)\n",
        "rd_2010_2015 = pd.concat([rd_2010_2014, REdf_2015], ignore_index=True)\n",
        "rd_2010_2016 = pd.concat([rd_2010_2015, REdf_2016], ignore_index=True)\n",
        "REdf_2010_2017 = pd.concat([rd_2010_2016, REdf_2017], ignore_index=True)\n",
        "\n",
        "#export the combined dataset into a csv file\n",
        "RealAlyze_export_csv = REdf_2010_2017.to_csv (r'/content/drive/My Drive/IST718_Project/Data/RealAlyze_2010to2017.csv', index = None, header=True)"
      ],
      "execution_count": 0,
      "outputs": []
    },
    {
      "cell_type": "code",
      "metadata": {
        "colab_type": "code",
        "id": "gUE6Tm_Su76S",
        "outputId": "b48b7783-5046-47a5-bd51-c5e45f3d997c",
        "colab": {
          "base_uri": "https://localhost:8080/",
          "height": 34
        }
      },
      "source": [
        "REdf_2010_2017.shape"
      ],
      "execution_count": 0,
      "outputs": [
        {
          "output_type": "execute_result",
          "data": {
            "text/plain": [
              "(678390, 42)"
            ]
          },
          "metadata": {
            "tags": []
          },
          "execution_count": 5
        }
      ]
    },
    {
      "cell_type": "markdown",
      "metadata": {
        "id": "p6ZtwrTyT1uk",
        "colab_type": "text"
      },
      "source": [
        "Most of the column names were renamed for easy usage and reading."
      ]
    },
    {
      "cell_type": "code",
      "metadata": {
        "colab_type": "code",
        "id": "RJKC-oyo7ZU2",
        "outputId": "849d7a49-ae01-4f31-c37c-e7e072165792",
        "colab": {
          "base_uri": "https://localhost:8080/",
          "height": 745
        }
      },
      "source": [
        "#rename column names\n",
        "REdf_2010_2017 = REdf_2010_2017.rename(columns={'MLS#':'MLNum','Approx Age': 'Age', 'Approx Square Footage': 'SqFootage', 'Apt/Unit':'CompUnitNo',\n",
        "                                                'Unit #':'UnitNo', 'Bedrooms +':'Den', 'Level':'FloorNo', 'Maintenance':'MainFee',\n",
        "                                                'Sold Date': 'SoldDate', 'Parking Spaces':'ParkingSpaces', 'Total Parking Spaces':'TotalParkSpaces',\n",
        "                                                'Parking Type':'ParkingType', 'Street Direction':'StreetDir', 'Directions/Cross Streets':'Dir_CrossStreets',\n",
        "                                                'Original Price':'OrigPrice', 'Sold Price':'SoldPrice', 'Last Status':'LastStatus', 'Parking/Drive':'ParkingDrive',\n",
        "                                                'Days On Market':'DaysOnMarket', 'Air Conditioning':'AirCond', 'Laundry Level':'LaundryLevel', \n",
        "                                                'Heat Source':'HeatSource', 'List Price':'ListPrice',  'Listing Entry Date':'ListingEntryDate',\n",
        "                                                'Water Included':'WaterIncl', 'Closed Date':'ClosedDate', 'Postal Code':'PostalCode'})\n",
        "\n",
        "list(REdf_2010_2017.columns) "
      ],
      "execution_count": 0,
      "outputs": [
        {
          "output_type": "execute_result",
          "data": {
            "text/plain": [
              "['AirCond',\n",
              " 'Remarks For Clients',\n",
              " 'Address',\n",
              " 'CompUnitNo',\n",
              " 'Area',\n",
              " 'Washrooms',\n",
              " 'Bedrooms',\n",
              " 'Den',\n",
              " 'SoldDate',\n",
              " 'Community',\n",
              " 'Exposure',\n",
              " 'Province',\n",
              " 'Dir_CrossStreets',\n",
              " 'DaysOnMarket',\n",
              " 'HeatSource',\n",
              " 'ListingEntryDate',\n",
              " 'LaundryLevel',\n",
              " 'ListPrice',\n",
              " 'LastStatus',\n",
              " 'MainFee',\n",
              " 'MLNum',\n",
              " 'Kitchens',\n",
              " 'OrigPrice',\n",
              " 'ParkingType',\n",
              " 'ParkingDrive',\n",
              " 'ParkingSpaces',\n",
              " 'Balcony',\n",
              " 'Rooms',\n",
              " 'Sale/Lease',\n",
              " 'SoldPrice',\n",
              " 'SqFootage',\n",
              " 'StreetDir',\n",
              " 'FloorNo',\n",
              " 'Style',\n",
              " 'Taxes',\n",
              " 'ClosedDate',\n",
              " 'TotalParkSpaces',\n",
              " 'Type',\n",
              " 'UnitNo',\n",
              " 'WaterIncl',\n",
              " 'Age',\n",
              " 'PostalCode']"
            ]
          },
          "metadata": {
            "tags": []
          },
          "execution_count": 6
        }
      ]
    },
    {
      "cell_type": "markdown",
      "metadata": {
        "id": "USLSUGi8Tsux",
        "colab_type": "text"
      },
      "source": [
        "### **Scrubbing**"
      ]
    },
    {
      "cell_type": "markdown",
      "metadata": {
        "id": "jMQKZCBiTkw6",
        "colab_type": "text"
      },
      "source": [
        "To begin with, there were a lot of inconsistencies with the data which was collected.  For example, there were a few entries outside of Canada which were in the TREB listings which were not part of our analysis, these comprise only about 0.01% of the listings.  So we focused our listings to those situated only in the province of ontario.  Furthermore, our data was divided into two separate data frmaes, one which contains only sales data and the other contianing only lease data.   This seemed like a natural division as our analysis is focused on sales -- lease information would only serve to confuse our model and analysis.  All other basic scrubbing work such as removing punctuation, conversion to appropriate datatypes, checking for null values was also completed.  Correlation testing was completed to eliminate features which had the same meaning or had a high positive correlation -- the total number of features was reduced to 37.  The final dataframe for sold units between the years 2010 to 2017 has abut 240,000 rows and 37 columns.\n",
        "\n"
      ]
    },
    {
      "cell_type": "code",
      "metadata": {
        "colab_type": "code",
        "id": "hOYDGWls9xpm",
        "outputId": "caaf3e61-18ee-4c51-915b-cff604c77cdc",
        "colab": {
          "base_uri": "https://localhost:8080/",
          "height": 34
        }
      },
      "source": [
        "#filter data only by Ontario province\n",
        "is_Ont =  REdf_2010_2017['Province']=='Ontario'\n",
        "REstate_Ont = REdf_2010_2017[is_Ont]\n",
        "REstate_Ont.shape"
      ],
      "execution_count": 0,
      "outputs": [
        {
          "output_type": "execute_result",
          "data": {
            "text/plain": [
              "(671478, 42)"
            ]
          },
          "metadata": {
            "tags": []
          },
          "execution_count": 7
        }
      ]
    },
    {
      "cell_type": "code",
      "metadata": {
        "colab_type": "code",
        "id": "-rK6lUwTBIS_",
        "outputId": "368af943-d3f2-46c1-a2f0-26034f464dfa",
        "colab": {
          "base_uri": "https://localhost:8080/",
          "height": 34
        }
      },
      "source": [
        "#Further filter data where listings are for Sale and store it in a separate df\n",
        "is_Sale =  REstate_Ont['Sale/Lease']=='Sale'\n",
        "REstate_Ont_Sale = REstate_Ont[is_Sale]\n",
        "REstate_Ont_Sale.shape\n"
      ],
      "execution_count": 0,
      "outputs": [
        {
          "output_type": "execute_result",
          "data": {
            "text/plain": [
              "(422511, 42)"
            ]
          },
          "metadata": {
            "tags": []
          },
          "execution_count": 8
        }
      ]
    },
    {
      "cell_type": "code",
      "metadata": {
        "colab_type": "code",
        "id": "9l87GhpkYN0V",
        "outputId": "88a2189e-ab37-40bd-f92a-d545eb75e6d6",
        "colab": {
          "base_uri": "https://localhost:8080/",
          "height": 34
        }
      },
      "source": [
        "#filter by sld status to avoid seeing expired, terminated and suspended listings\n",
        "is_LastStatus =  REstate_Ont_Sale['LastStatus']=='Sld'\n",
        "REstate_Ont_Sold = REstate_Ont_Sale[is_LastStatus]\n",
        "REstate_Ont_Sold.shape"
      ],
      "execution_count": 0,
      "outputs": [
        {
          "output_type": "execute_result",
          "data": {
            "text/plain": [
              "(240677, 42)"
            ]
          },
          "metadata": {
            "tags": []
          },
          "execution_count": 9
        }
      ]
    },
    {
      "cell_type": "code",
      "metadata": {
        "colab_type": "code",
        "id": "S-iUTyhbBzAa",
        "outputId": "d9df4296-897b-429c-b2f4-853651950a4b",
        "colab": {
          "base_uri": "https://localhost:8080/",
          "height": 34
        }
      },
      "source": [
        "#Further filter data where listings are for Lease and store it in a separate df\n",
        "is_Lease =  REstate_Ont['Sale/Lease']=='Lease'\n",
        "REstate_Ont_Lease = REstate_Ont[is_Lease]\n",
        "REstate_Ont_Lease.shape"
      ],
      "execution_count": 0,
      "outputs": [
        {
          "output_type": "execute_result",
          "data": {
            "text/plain": [
              "(248964, 42)"
            ]
          },
          "metadata": {
            "tags": []
          },
          "execution_count": 10
        }
      ]
    },
    {
      "cell_type": "code",
      "metadata": {
        "colab_type": "code",
        "id": "a4gveguL_LGw",
        "outputId": "25cc10de-1446-4717-818f-67e5a6a0d907",
        "colab": {
          "base_uri": "https://localhost:8080/",
          "height": 655
        }
      },
      "source": [
        "#Sale Data\n",
        "#convert all text to lowercase to avoid discrepancies\n",
        "REstate_Ont_Sold = REstate_Ont_Sold.applymap(lambda s:s.lower() if type(s) == str else s)\n",
        "#strip off trailing whitespaces from all columns in the dataframe\n",
        "REstate_Ont_Sold = REstate_Ont_Sold.applymap(lambda s:s.strip() if type(s) == str else s)\n",
        "REstate_Ont_Sold.head()\n",
        "\n"
      ],
      "execution_count": 0,
      "outputs": [
        {
          "output_type": "execute_result",
          "data": {
            "text/html": [
              "<div>\n",
              "<style scoped>\n",
              "    .dataframe tbody tr th:only-of-type {\n",
              "        vertical-align: middle;\n",
              "    }\n",
              "\n",
              "    .dataframe tbody tr th {\n",
              "        vertical-align: top;\n",
              "    }\n",
              "\n",
              "    .dataframe thead th {\n",
              "        text-align: right;\n",
              "    }\n",
              "</style>\n",
              "<table border=\"1\" class=\"dataframe\">\n",
              "  <thead>\n",
              "    <tr style=\"text-align: right;\">\n",
              "      <th></th>\n",
              "      <th>AirCond</th>\n",
              "      <th>Remarks For Clients</th>\n",
              "      <th>Address</th>\n",
              "      <th>CompUnitNo</th>\n",
              "      <th>Area</th>\n",
              "      <th>Washrooms</th>\n",
              "      <th>Bedrooms</th>\n",
              "      <th>Den</th>\n",
              "      <th>SoldDate</th>\n",
              "      <th>Community</th>\n",
              "      <th>Exposure</th>\n",
              "      <th>Province</th>\n",
              "      <th>Dir_CrossStreets</th>\n",
              "      <th>DaysOnMarket</th>\n",
              "      <th>HeatSource</th>\n",
              "      <th>ListingEntryDate</th>\n",
              "      <th>LaundryLevel</th>\n",
              "      <th>ListPrice</th>\n",
              "      <th>LastStatus</th>\n",
              "      <th>MainFee</th>\n",
              "      <th>MLNum</th>\n",
              "      <th>Kitchens</th>\n",
              "      <th>OrigPrice</th>\n",
              "      <th>ParkingType</th>\n",
              "      <th>ParkingDrive</th>\n",
              "      <th>ParkingSpaces</th>\n",
              "      <th>Balcony</th>\n",
              "      <th>Rooms</th>\n",
              "      <th>Sale/Lease</th>\n",
              "      <th>SoldPrice</th>\n",
              "      <th>SqFootage</th>\n",
              "      <th>StreetDir</th>\n",
              "      <th>FloorNo</th>\n",
              "      <th>Style</th>\n",
              "      <th>Taxes</th>\n",
              "      <th>ClosedDate</th>\n",
              "      <th>TotalParkSpaces</th>\n",
              "      <th>Type</th>\n",
              "      <th>UnitNo</th>\n",
              "      <th>WaterIncl</th>\n",
              "      <th>Age</th>\n",
              "      <th>PostalCode</th>\n",
              "    </tr>\n",
              "  </thead>\n",
              "  <tbody>\n",
              "    <tr>\n",
              "      <th>14</th>\n",
              "      <td>central air</td>\n",
              "      <td>'malibu' perfect for first time buyer or inves...</td>\n",
              "      <td>600 fleet st</td>\n",
              "      <td>504</td>\n",
              "      <td>toronto</td>\n",
              "      <td>1.0</td>\n",
              "      <td>1.0</td>\n",
              "      <td>1.0</td>\n",
              "      <td>1/6/2010 0:00</td>\n",
              "      <td>niagara</td>\n",
              "      <td>e</td>\n",
              "      <td>ontario</td>\n",
              "      <td>lakeshore/bathurst st.</td>\n",
              "      <td>158.0</td>\n",
              "      <td>gas</td>\n",
              "      <td>8/1/2009 0:00</td>\n",
              "      <td>NaN</td>\n",
              "      <td>319000.0</td>\n",
              "      <td>sld</td>\n",
              "      <td>320.46</td>\n",
              "      <td>c1677165</td>\n",
              "      <td>1.0</td>\n",
              "      <td>299000.0</td>\n",
              "      <td>none</td>\n",
              "      <td>undergrnd</td>\n",
              "      <td>0.0</td>\n",
              "      <td>open</td>\n",
              "      <td>5.0</td>\n",
              "      <td>sale</td>\n",
              "      <td>290000.0</td>\n",
              "      <td>500-699</td>\n",
              "      <td>NaN</td>\n",
              "      <td>5</td>\n",
              "      <td>apartment</td>\n",
              "      <td>0.0</td>\n",
              "      <td>2/1/2010 0:00</td>\n",
              "      <td>NaN</td>\n",
              "      <td>c.</td>\n",
              "      <td>4</td>\n",
              "      <td>y</td>\n",
              "      <td>0-5</td>\n",
              "      <td>m5v1b7</td>\n",
              "    </tr>\n",
              "    <tr>\n",
              "      <th>16</th>\n",
              "      <td>central air</td>\n",
              "      <td>rare 3 storey 5 bedroom harbour sq penthouse. ...</td>\n",
              "      <td>65 harbour sq</td>\n",
              "      <td>ph7</td>\n",
              "      <td>toronto</td>\n",
              "      <td>4.0</td>\n",
              "      <td>5.0</td>\n",
              "      <td>NaN</td>\n",
              "      <td>1/15/2010 0:00</td>\n",
              "      <td>waterfront communities c1</td>\n",
              "      <td>e</td>\n",
              "      <td>ontario</td>\n",
              "      <td>bay/queens quay</td>\n",
              "      <td>155.0</td>\n",
              "      <td>electric</td>\n",
              "      <td>8/13/2009 0:00</td>\n",
              "      <td>upper</td>\n",
              "      <td>1449000.0</td>\n",
              "      <td>sld</td>\n",
              "      <td>1780.00</td>\n",
              "      <td>c1684466</td>\n",
              "      <td>1.0</td>\n",
              "      <td>1499999.0</td>\n",
              "      <td>exclusive</td>\n",
              "      <td>undergrnd</td>\n",
              "      <td>2.0</td>\n",
              "      <td>open</td>\n",
              "      <td>9.0</td>\n",
              "      <td>sale</td>\n",
              "      <td>1395000.0</td>\n",
              "      <td>3500-5000</td>\n",
              "      <td>NaN</td>\n",
              "      <td>38</td>\n",
              "      <td>3-storey</td>\n",
              "      <td>10500.0</td>\n",
              "      <td>3/1/2010 0:00</td>\n",
              "      <td>NaN</td>\n",
              "      <td>c.</td>\n",
              "      <td>7</td>\n",
              "      <td>y</td>\n",
              "      <td>NaN</td>\n",
              "      <td>m5j2l4</td>\n",
              "    </tr>\n",
              "    <tr>\n",
              "      <th>41</th>\n",
              "      <td>central air</td>\n",
              "      <td>approx 1416sf with 174sf open terrace &amp; balcon...</td>\n",
              "      <td>16 yonge st</td>\n",
              "      <td>ph7</td>\n",
              "      <td>toronto</td>\n",
              "      <td>3.0</td>\n",
              "      <td>3.0</td>\n",
              "      <td>NaN</td>\n",
              "      <td>1/14/2010 0:00</td>\n",
              "      <td>waterfront communities c1</td>\n",
              "      <td>sw</td>\n",
              "      <td>ontario</td>\n",
              "      <td>yonge/lake shore</td>\n",
              "      <td>119.0</td>\n",
              "      <td>gas</td>\n",
              "      <td>9/18/2009 0:00</td>\n",
              "      <td>NaN</td>\n",
              "      <td>799900.0</td>\n",
              "      <td>sld</td>\n",
              "      <td>0.00</td>\n",
              "      <td>c1706859</td>\n",
              "      <td>1.0</td>\n",
              "      <td>799900.0</td>\n",
              "      <td>none</td>\n",
              "      <td>none</td>\n",
              "      <td>0.0</td>\n",
              "      <td>open</td>\n",
              "      <td>6.0</td>\n",
              "      <td>sale</td>\n",
              "      <td>807400.0</td>\n",
              "      <td>1300-1499</td>\n",
              "      <td>NaN</td>\n",
              "      <td>40</td>\n",
              "      <td>apartment</td>\n",
              "      <td>0.0</td>\n",
              "      <td>3/31/2010 0:00</td>\n",
              "      <td>NaN</td>\n",
              "      <td>c.</td>\n",
              "      <td>7</td>\n",
              "      <td>y</td>\n",
              "      <td>new</td>\n",
              "      <td>m5e1r4</td>\n",
              "    </tr>\n",
              "    <tr>\n",
              "      <th>54</th>\n",
              "      <td>central air</td>\n",
              "      <td>yonge &amp; lake shore,new downtown 2 bedroom - 2 ...</td>\n",
              "      <td>18 harbour st</td>\n",
              "      <td>1602</td>\n",
              "      <td>toronto</td>\n",
              "      <td>2.0</td>\n",
              "      <td>2.0</td>\n",
              "      <td>1.0</td>\n",
              "      <td>1/27/2010 0:00</td>\n",
              "      <td>waterfront communities c1</td>\n",
              "      <td>nw</td>\n",
              "      <td>ontario</td>\n",
              "      <td>yonge &amp; lake shore</td>\n",
              "      <td>117.0</td>\n",
              "      <td>gas</td>\n",
              "      <td>10/2/2009 0:00</td>\n",
              "      <td>NaN</td>\n",
              "      <td>497000.0</td>\n",
              "      <td>sld</td>\n",
              "      <td>440.63</td>\n",
              "      <td>c1715732</td>\n",
              "      <td>1.0</td>\n",
              "      <td>497000.0</td>\n",
              "      <td>owned</td>\n",
              "      <td>undergrnd</td>\n",
              "      <td>1.0</td>\n",
              "      <td>open</td>\n",
              "      <td>4.0</td>\n",
              "      <td>sale</td>\n",
              "      <td>492000.0</td>\n",
              "      <td>900-1099</td>\n",
              "      <td>NaN</td>\n",
              "      <td>16</td>\n",
              "      <td>apartment</td>\n",
              "      <td>0.0</td>\n",
              "      <td>4/1/2010 0:00</td>\n",
              "      <td>NaN</td>\n",
              "      <td>c.</td>\n",
              "      <td>2</td>\n",
              "      <td>y</td>\n",
              "      <td>new</td>\n",
              "      <td>m5j2z6</td>\n",
              "    </tr>\n",
              "    <tr>\n",
              "      <th>71</th>\n",
              "      <td>NaN</td>\n",
              "      <td>in most sought north york building a beautiful...</td>\n",
              "      <td>1338 york mills rd</td>\n",
              "      <td>1601</td>\n",
              "      <td>toronto</td>\n",
              "      <td>2.0</td>\n",
              "      <td>3.0</td>\n",
              "      <td>NaN</td>\n",
              "      <td>1/31/2010 0:00</td>\n",
              "      <td>parkwoods-donalda</td>\n",
              "      <td>se</td>\n",
              "      <td>ontario</td>\n",
              "      <td>vic park/401</td>\n",
              "      <td>115.0</td>\n",
              "      <td>gas</td>\n",
              "      <td>10/8/2009 0:00</td>\n",
              "      <td>main</td>\n",
              "      <td>220000.0</td>\n",
              "      <td>sld</td>\n",
              "      <td>613.84</td>\n",
              "      <td>c1720379</td>\n",
              "      <td>1.0</td>\n",
              "      <td>220000.0</td>\n",
              "      <td>owned</td>\n",
              "      <td>undergrnd</td>\n",
              "      <td>1.0</td>\n",
              "      <td>open</td>\n",
              "      <td>6.0</td>\n",
              "      <td>sale</td>\n",
              "      <td>210000.0</td>\n",
              "      <td>NaN</td>\n",
              "      <td>NaN</td>\n",
              "      <td>15</td>\n",
              "      <td>apartment</td>\n",
              "      <td>1620.0</td>\n",
              "      <td>3/26/2010 0:00</td>\n",
              "      <td>NaN</td>\n",
              "      <td>c.</td>\n",
              "      <td>1</td>\n",
              "      <td>y</td>\n",
              "      <td>NaN</td>\n",
              "      <td>m3a3m3</td>\n",
              "    </tr>\n",
              "  </tbody>\n",
              "</table>\n",
              "</div>"
            ],
            "text/plain": [
              "        AirCond  ... PostalCode\n",
              "14  central air  ...     m5v1b7\n",
              "16  central air  ...     m5j2l4\n",
              "41  central air  ...     m5e1r4\n",
              "54  central air  ...     m5j2z6\n",
              "71          NaN  ...     m3a3m3\n",
              "\n",
              "[5 rows x 42 columns]"
            ]
          },
          "metadata": {
            "tags": []
          },
          "execution_count": 11
        }
      ]
    },
    {
      "cell_type": "code",
      "metadata": {
        "colab_type": "code",
        "id": "Lyicea_nA6a0",
        "outputId": "399a9b6a-6178-41b1-b62f-fc30e5974c06",
        "colab": {
          "base_uri": "https://localhost:8080/",
          "height": 762
        }
      },
      "source": [
        "#check the number of null values by each column\n",
        "REstate_Ont_Sold.isnull().sum()"
      ],
      "execution_count": 0,
      "outputs": [
        {
          "output_type": "execute_result",
          "data": {
            "text/plain": [
              "AirCond                  5119\n",
              "Remarks For Clients       699\n",
              "Address                     1\n",
              "CompUnitNo              15354\n",
              "Area                       74\n",
              "Washrooms                   1\n",
              "Bedrooms                  160\n",
              "Den                    155454\n",
              "SoldDate                    0\n",
              "Community                1710\n",
              "Exposure                 1992\n",
              "Province                    0\n",
              "Dir_CrossStreets           29\n",
              "DaysOnMarket                4\n",
              "HeatSource                159\n",
              "ListingEntryDate            0\n",
              "LaundryLevel            95709\n",
              "ListPrice                   1\n",
              "LastStatus                  0\n",
              "MainFee                     1\n",
              "MLNum                       0\n",
              "Kitchens                  163\n",
              "OrigPrice                   0\n",
              "ParkingType              1842\n",
              "ParkingDrive             1843\n",
              "ParkingSpaces            1843\n",
              "Balcony                  1989\n",
              "Rooms                     155\n",
              "Sale/Lease                  0\n",
              "SoldPrice                   3\n",
              "SqFootage               22423\n",
              "StreetDir              204119\n",
              "FloorNo                  2023\n",
              "Style                     999\n",
              "Taxes                      73\n",
              "ClosedDate               1831\n",
              "TotalParkSpaces        234269\n",
              "Type                        0\n",
              "UnitNo                    368\n",
              "WaterIncl                 700\n",
              "Age                    135193\n",
              "PostalCode                 74\n",
              "dtype: int64"
            ]
          },
          "metadata": {
            "tags": []
          },
          "execution_count": 12
        }
      ]
    },
    {
      "cell_type": "code",
      "metadata": {
        "colab_type": "code",
        "id": "D-k1zxeoCXqr",
        "outputId": "d1d9d8bd-7e66-4e26-d8f2-c19ed8392260",
        "colab": {
          "base_uri": "https://localhost:8080/",
          "height": 34
        }
      },
      "source": [
        "#Since about 75% of the data is null for streetdir column, we are dropping this column\n",
        "RE_Ont_S_Upd = REstate_Ont_Sold.drop(['StreetDir'], axis=1)\n",
        "#Since about 75% of the data is null for TotalParkSpaces column, we are dropping this column\n",
        "RE_Ont_S_Upd = RE_Ont_S_Upd.drop(['TotalParkSpaces'], axis=1)\n",
        "#dropping off remarks column since this needs text mining later\n",
        "RE_Ont_S_Upd = RE_Ont_S_Upd.drop(['Remarks For Clients'], axis=1)\n",
        "#drop community column to avoid redundancy or correlation with area column\n",
        "RE_Ont_S_Upd = RE_Ont_S_Upd.drop(['Community'], axis=1)\n",
        "#dropping unitNo to avoid redundancy with apt\\unitno column and also because of inconsistent values\n",
        "RE_Ont_S_Upd = RE_Ont_S_Upd.drop(['UnitNo'], axis=1)\n",
        "#Since Sold Price is our response variable that we are going to predict and hence it doesn't make sense to have\n",
        "#rows of data that has this information missing, we are dropping rows without this value.\n",
        "RE_Ont_S_Final = RE_Ont_S_Upd[RE_Ont_S_Upd.SoldPrice.notnull()]\n",
        "#not having an address for a listing also doesn't help with our analysis; hence removing rows without addresses\n",
        "RE_Ont_S_Final = RE_Ont_S_Final[RE_Ont_S_Final.Address.notnull()]\n",
        "RE_Ont_S_Final.shape"
      ],
      "execution_count": 0,
      "outputs": [
        {
          "output_type": "execute_result",
          "data": {
            "text/plain": [
              "(240673, 37)"
            ]
          },
          "metadata": {
            "tags": []
          },
          "execution_count": 13
        }
      ]
    },
    {
      "cell_type": "code",
      "metadata": {
        "colab_type": "code",
        "id": "dxzf4GcNGYWg",
        "colab": {}
      },
      "source": [
        "#Replacement of null values\n",
        "RE_Ont_S_Final['Washrooms'].fillna(0, inplace=True)\n",
        "RE_Ont_S_Final['Den'].fillna(0, inplace=True)\n",
        "RE_Ont_S_Final['Bedrooms'].fillna(0, inplace=True)\n",
        "RE_Ont_S_Final['Kitchens'].fillna(0, inplace=True)\n",
        "RE_Ont_S_Final['DaysOnMarket'].fillna(0, inplace=True)\n",
        "RE_Ont_S_Final['MainFee'].fillna(0, inplace=True)\n",
        "RE_Ont_S_Final['ParkingSpaces'].fillna(0, inplace=True)\n",
        "RE_Ont_S_Final['FloorNo'].fillna(0, inplace=True)\n",
        "RE_Ont_S_Final['Taxes'].fillna(0, inplace=True)\n",
        "RE_Ont_S_Final['ListPrice'].fillna(0, inplace=True)\n",
        "RE_Ont_S_Final['MainFee'].fillna(0, inplace=True)\n",
        "RE_Ont_S_Final['AirCond'].fillna(\"unknown\", inplace=True)\n",
        "RE_Ont_S_Final['Area'].fillna(\"unknown\", inplace=True)\n",
        "RE_Ont_S_Final['CompUnitNo'].fillna(\"unknown\", inplace=True)\n",
        "RE_Ont_S_Final['Exposure'].fillna(\"unknown\", inplace=True)\n",
        "RE_Ont_S_Final['Dir_CrossStreets'].fillna(\"unknown\", inplace=True)\n",
        "RE_Ont_S_Final['HeatSource'].fillna(\"unknown\", inplace=True)\n",
        "RE_Ont_S_Final['LaundryLevel'].fillna(\"unknown\", inplace=True)\n",
        "RE_Ont_S_Final['ParkingType'].fillna(\"unknown\", inplace=True)\n",
        "RE_Ont_S_Final['ParkingDrive'].fillna(\"unknown\", inplace=True)\n",
        "RE_Ont_S_Final['Balcony'].fillna(\"unknown\", inplace=True)\n",
        "RE_Ont_S_Final['FloorNo'].fillna(\"unknown\", inplace=True)\n",
        "RE_Ont_S_Final['Style'].fillna(\"unknown\", inplace=True)\n",
        "RE_Ont_S_Final['WaterIncl'].fillna(\"unknown\", inplace=True)"
      ],
      "execution_count": 0,
      "outputs": []
    },
    {
      "cell_type": "code",
      "metadata": {
        "colab_type": "code",
        "id": "Kfc5u5Y4EsU0",
        "outputId": "8434cb81-1ba2-4e8e-a44c-1c5dec642333",
        "colab": {
          "base_uri": "https://localhost:8080/",
          "height": 675
        }
      },
      "source": [
        "#check the number of null values by each column\n",
        "RE_Ont_S_Final.isnull().sum()"
      ],
      "execution_count": 0,
      "outputs": [
        {
          "output_type": "execute_result",
          "data": {
            "text/plain": [
              "AirCond                  0\n",
              "Address                  0\n",
              "CompUnitNo               0\n",
              "Area                     0\n",
              "Washrooms                0\n",
              "Bedrooms                 0\n",
              "Den                      0\n",
              "SoldDate                 0\n",
              "Exposure                 0\n",
              "Province                 0\n",
              "Dir_CrossStreets         0\n",
              "DaysOnMarket             0\n",
              "HeatSource               0\n",
              "ListingEntryDate         0\n",
              "LaundryLevel             0\n",
              "ListPrice                0\n",
              "LastStatus               0\n",
              "MainFee                  0\n",
              "MLNum                    0\n",
              "Kitchens                 0\n",
              "OrigPrice                0\n",
              "ParkingType              0\n",
              "ParkingDrive             0\n",
              "ParkingSpaces            0\n",
              "Balcony                  0\n",
              "Rooms                  155\n",
              "Sale/Lease               0\n",
              "SoldPrice                0\n",
              "SqFootage            22423\n",
              "FloorNo                  0\n",
              "Style                    0\n",
              "Taxes                    0\n",
              "ClosedDate            1831\n",
              "Type                     0\n",
              "WaterIncl                0\n",
              "Age                 135192\n",
              "PostalCode              74\n",
              "dtype: int64"
            ]
          },
          "metadata": {
            "tags": []
          },
          "execution_count": 15
        }
      ]
    },
    {
      "cell_type": "code",
      "metadata": {
        "colab_type": "code",
        "id": "1qXAxd8V-ehc",
        "outputId": "abe21dea-14ca-4287-bfd8-858fcac0b066",
        "colab": {
          "base_uri": "https://localhost:8080/",
          "height": 675
        }
      },
      "source": [
        "#find the datatypes of existing columns\n",
        "RE_Ont_S_Final.dtypes"
      ],
      "execution_count": 0,
      "outputs": [
        {
          "output_type": "execute_result",
          "data": {
            "text/plain": [
              "AirCond              object\n",
              "Address              object\n",
              "CompUnitNo           object\n",
              "Area                 object\n",
              "Washrooms           float64\n",
              "Bedrooms            float64\n",
              "Den                 float64\n",
              "SoldDate             object\n",
              "Exposure             object\n",
              "Province             object\n",
              "Dir_CrossStreets     object\n",
              "DaysOnMarket        float64\n",
              "HeatSource           object\n",
              "ListingEntryDate     object\n",
              "LaundryLevel         object\n",
              "ListPrice           float64\n",
              "LastStatus           object\n",
              "MainFee             float64\n",
              "MLNum                object\n",
              "Kitchens            float64\n",
              "OrigPrice           float64\n",
              "ParkingType          object\n",
              "ParkingDrive         object\n",
              "ParkingSpaces       float64\n",
              "Balcony              object\n",
              "Rooms               float64\n",
              "Sale/Lease           object\n",
              "SoldPrice           float64\n",
              "SqFootage            object\n",
              "FloorNo              object\n",
              "Style                object\n",
              "Taxes               float64\n",
              "ClosedDate           object\n",
              "Type                 object\n",
              "WaterIncl            object\n",
              "Age                  object\n",
              "PostalCode           object\n",
              "dtype: object"
            ]
          },
          "metadata": {
            "tags": []
          },
          "execution_count": 16
        }
      ]
    },
    {
      "cell_type": "code",
      "metadata": {
        "colab_type": "code",
        "id": "eOI9JddMPJ-D",
        "colab": {}
      },
      "source": [
        "# using apply method to convert some of the columns to numeric datatype so that calculations can be done\n",
        "RE_Ont_S_Final[['Washrooms', 'Den','Bedrooms','Kitchens', 'DaysOnMarket','ListPrice','MainFee','OrigPrice','ParkingSpaces','Rooms','SoldPrice','Taxes']] = RE_Ont_S_Final[['Washrooms', 'Den', 'Bedrooms','Kitchens','DaysOnMarket','ListPrice','MainFee','OrigPrice','ParkingSpaces','Rooms','SoldPrice','Taxes']].apply(pd.to_numeric)\n",
        "\n",
        "RE_Ont_S_Final[['AirCond','Address','CompUnitNo','Area','Exposure','Province','Dir_CrossStreets','HeatSource','LaundryLevel','LastStatus','MLNum','ParkingType',\n",
        "               'ParkingDrive','Balcony','Sale/Lease','SqFootage','FloorNo','Style','WaterIncl','Age','PostalCode','Type']] = RE_Ont_S_Final[['AirCond','Address','CompUnitNo','Area',\n",
        "                                                                                                                                    'Exposure','Province','Dir_CrossStreets',\n",
        "                                                                                                                                    'HeatSource','LaundryLevel','LastStatus','MLNum',\n",
        "                                                                                                                                    'ParkingType','ParkingDrive','Balcony','Sale/Lease',\n",
        "                                                                                                                                    'SqFootage','FloorNo','Style','WaterIncl','Age',\n",
        "                                                                                                                                    'PostalCode','Type']].astype(str)"
      ],
      "execution_count": 0,
      "outputs": []
    },
    {
      "cell_type": "code",
      "metadata": {
        "colab_type": "code",
        "id": "hZBA5aZNVI8q",
        "outputId": "f9769c4d-7aa8-430d-dc5a-938c0de8a940",
        "colab": {
          "base_uri": "https://localhost:8080/",
          "height": 86
        }
      },
      "source": [
        "#remap age values to avoid discrepancy\n",
        "age = {\"0-5\": \"zero to five\", \"16-30\": \"sixteen to thirty\",\"31-50\":\"thirtyone to fifty\", \"51-99\":\"fiftyone to nintyNine\", \"100+\":\"more than 100\",\n",
        "        \"new\":\"new\", \"10-jun\":\"six to ten\", \"15-nov\":\"eleven to fifteen\",\"15-jun\":\"six to fifteen\", \"61-50\":\"fifty to sixty one\", \"nan\":\"unknown\"}\n",
        "RE_Ont_S_Final[\"Age\"].replace(age, inplace=True)\n",
        "\n",
        "RE_Ont_S_Final.Age.unique()"
      ],
      "execution_count": 0,
      "outputs": [
        {
          "output_type": "execute_result",
          "data": {
            "text/plain": [
              "array(['zero to five', 'unknown', 'new', 'six to fifteen',\n",
              "       'thirtyone to fifty', 'sixteen to thirty', 'six to ten',\n",
              "       'fiftyone to nintyNine', 'more than 100', 'eleven to fifteen',\n",
              "       'fifty to sixty one'], dtype=object)"
            ]
          },
          "metadata": {
            "tags": []
          },
          "execution_count": 18
        }
      ]
    },
    {
      "cell_type": "code",
      "metadata": {
        "colab_type": "code",
        "id": "sT5kVhJUXxQ6",
        "outputId": "5d7979c5-3e94-4b62-97e2-6adac768cd9c",
        "colab": {
          "base_uri": "https://localhost:8080/",
          "height": 155
        }
      },
      "source": [
        "#replacing values in Sqfootage column to avoid discrepancies\n",
        "RE_Ont_S_Final['SqFootage'] = RE_Ont_S_Final['SqFootage'].replace(['< 700'], 'less than 700')\n",
        "RE_Ont_S_Final['SqFootage'] = RE_Ont_S_Final['SqFootage'].replace(['5000+'], '5000 plus')\n",
        "RE_Ont_S_Final['SqFootage'] = RE_Ont_S_Final['SqFootage'].replace(['nan'], 'unknown')\n",
        "RE_Ont_S_Final.SqFootage.unique()"
      ],
      "execution_count": 0,
      "outputs": [
        {
          "output_type": "execute_result",
          "data": {
            "text/plain": [
              "array(['500-699', '3500-5000', '1300-1499', '900-1099', 'unknown',\n",
              "       '700-899', '1100-1299', '0-499', '2000-2500', '1500-2000',\n",
              "       '1000-1199', '1200-1399', '500-599', '900-999', '3000-3500',\n",
              "       '800-899', '2500-3000', '1600-1799', '600-699', '700-799',\n",
              "       '1800-1999', '1400-1599', '5000 plus', '3000-3249', '2250-2499',\n",
              "       '2000-2249', '700-1100', '4250-4499', '2500-2749', '2750-2999',\n",
              "       '3250-3499', '3500-3749', '3750-3999', '4500-4749', '4000-4249',\n",
              "       '4750-4999', '1100-1500', 'less than 700'], dtype=object)"
            ]
          },
          "metadata": {
            "tags": []
          },
          "execution_count": 19
        }
      ]
    },
    {
      "cell_type": "code",
      "metadata": {
        "colab_type": "code",
        "id": "tW5amftPKYsu",
        "outputId": "fbe9c7b9-37af-46f6-e6b8-61c2329caaf6",
        "colab": {
          "base_uri": "https://localhost:8080/",
          "height": 51
        }
      },
      "source": [
        "# replacing values in postal code\n",
        "RE_Ont_S_Final['PostalCode'] = RE_Ont_S_Final['PostalCode'].replace(['tba'], 'unknown')\n",
        "RE_Ont_S_Final['PostalCode'] =  RE_Ont_S_Final['PostalCode'].replace(['xxxxxx'], 'unknown')\n",
        "RE_Ont_S_Final['PostalCode'] =  RE_Ont_S_Final['PostalCode'].replace([' '], '')\n",
        "RE_Ont_S_Final.PostalCode.unique()"
      ],
      "execution_count": 0,
      "outputs": [
        {
          "output_type": "execute_result",
          "data": {
            "text/plain": [
              "array(['m5v1b7', 'm5j2l4', 'm5e1r4', ..., 'm8y1w3', 'l1n0c1', 'l4m7c2'],\n",
              "      dtype=object)"
            ]
          },
          "metadata": {
            "tags": []
          },
          "execution_count": 20
        }
      ]
    },
    {
      "cell_type": "code",
      "metadata": {
        "colab_type": "code",
        "id": "Ifwi5Xl_ipEJ",
        "colab": {}
      },
      "source": [
        "#convert date columns to datetime datatype and fill null values with year 1900 for identification\n",
        "RE_Ont_S_Final['SoldDate'] = pd.to_datetime(RE_Ont_S_Final['SoldDate'], errors='coerce').fillna('1900-01-01')\n",
        "RE_Ont_S_Final['ClosedDate'] = pd.to_datetime(RE_Ont_S_Final['ClosedDate'], errors='coerce').fillna('1900-01-01')"
      ],
      "execution_count": 0,
      "outputs": []
    },
    {
      "cell_type": "code",
      "metadata": {
        "colab_type": "code",
        "id": "R9nvFpBvj3yu",
        "colab": {}
      },
      "source": [
        "#Make new Year, Month and Day columns from the SoldDate column\n",
        "RE_Ont_S_Final['SoldYear'] = pd.DatetimeIndex(RE_Ont_S_Final['SoldDate']).year\n",
        "RE_Ont_S_Final['SoldMonth'] = pd.DatetimeIndex(RE_Ont_S_Final['SoldDate']).month\n",
        "RE_Ont_S_Final['SoldDay'] = pd.DatetimeIndex(RE_Ont_S_Final['SoldDate']).day"
      ],
      "execution_count": 0,
      "outputs": []
    },
    {
      "cell_type": "code",
      "metadata": {
        "colab_type": "code",
        "id": "5kJevBOUkjBL",
        "outputId": "3f84cb77-55b5-48a3-eed3-6a31cd8670d3",
        "colab": {
          "base_uri": "https://localhost:8080/",
          "height": 103
        }
      },
      "source": [
        "##remap type values to avoid discrepancy\n",
        "#replace periods with nothing\n",
        "RE_Ont_S_Final['Type'] = RE_Ont_S_Final['Type'].str.replace(\".\",\"\")\n",
        "listingType = {'2': 'comm element condo', 'c': 'condo apartment', 't':'condo townhouse', 'e':'co-op apt', 'w':'co-ownership apt', 'o':'other', '@':'parking space',\n",
        "               'h':'det condo', '3':'leasehold condo', '9':'locker','7':'lower level', '8':'room', 'p':'semi-det condo', 'z':'time share', '~':'upper level',\n",
        "               '5':'vacant land condo', 'a6':'locker','a7':'locker', '4':'phased condo'}\n",
        "RE_Ont_S_Final[\"Type\"].replace(listingType, inplace=True)\n",
        "\n",
        "RE_Ont_S_Final.Type.unique()"
      ],
      "execution_count": 0,
      "outputs": [
        {
          "output_type": "execute_result",
          "data": {
            "text/plain": [
              "array(['condo apartment', 'condo townhouse', 'co-ownership apt',\n",
              "       'comm element condo', 'semi-det condo', 'det condo',\n",
              "       'leasehold condo', 'co-op apt', 'other', 'vacant land condo',\n",
              "       'phased condo', 'parking space', 'locker', 'time share'],\n",
              "      dtype=object)"
            ]
          },
          "metadata": {
            "tags": []
          },
          "execution_count": 23
        }
      ]
    },
    {
      "cell_type": "code",
      "metadata": {
        "colab_type": "code",
        "id": "v4fdHbXoYAxC",
        "outputId": "198af787-ef1d-4164-efec-3695b7c00ff5",
        "colab": {
          "base_uri": "https://localhost:8080/",
          "height": 571
        }
      },
      "source": [
        "#removing special characters from strings using regex\n",
        "\n",
        "RE_Ont_S_Final['Dir_CrossStreets'] = RE_Ont_S_Final['Dir_CrossStreets'].map(lambda x: re.sub(r'\\W+', '', x))\n",
        "RE_Ont_S_Final['Address'] = RE_Ont_S_Final['Address'].map(lambda x: re.sub(r'\\W+', '', x))\n",
        "#RE_Ont_S_Final['FloorNo'] = RE_Ont_S_Final['FloorNo'].map(lambda x: re.sub(r'\\W+', '', x))\n",
        "\n",
        "RE_Ont_S_Final.FloorNo.unique()"
      ],
      "execution_count": 0,
      "outputs": [
        {
          "output_type": "execute_result",
          "data": {
            "text/plain": [
              "array(['5', '38', '40', '16', '15', '14', '1', '42', '13', '6', '43', '8',\n",
              "       '44', '25', '4', '26', '3', '7', '33', '10', '11', '22', '2', '9',\n",
              "       '23', '20', '32', '21', '35', '53', '12', '18', '19', '29', '31',\n",
              "       '17', '30', '24', '34', '27', 'b', '28', 'g', '0', 'c', '36', 'u',\n",
              "       '39', '52', 'p4', '46', 'i', '45', 'gph', 'ph', 'a', '48', '/',\n",
              "       '37', '47', '41', '3&4', '`', 'one', 'p3', 'ph8', '50', 'p1',\n",
              "       'upp', '55', 'l', 'gr', 'gnd', 'uph', '2nd', 'd', 'p2', '1st',\n",
              "       '5&6', 'll', 'a 2', '.', 'lph', 'grd', 'pb', 'n', '223', 'm',\n",
              "       'ter', 'ph5', 'b2', 'rl', 'gt', '1/l', 'up', 'th', '-', 'o', 'ph3',\n",
              "       '14t', '60', 'u/g', '1&2', 'sph', '49', '67', 'z', '51', '', '209',\n",
              "       '682', '70', 'ycc', 'two', '409', 'f', '65', 'x', 'ph1', '908',\n",
              "       '229', 'p5', 'c1', '507', 'a#3', '268', 'lp', '---', 'gd', 'ph2',\n",
              "       '--', 'p', 'fla', 'pcc', '7c', '200', '*', '13a', '54', '57',\n",
              "       '110', 'r l', '62', 'vip', '112', 'l1', 'low', '91', '1+1', 'ph6',\n",
              "       '332', '181', '3rd', 'l0', 'na', '2&3', 'bsm', '4th', 'grn', '433',\n",
              "       '4&5', '101', 'a01', 'q', 'g1', '151', 'tbv', '611', 'b1', 'lp5',\n",
              "       '2c', '1a', 'six', '1.5', '10*', '72', '3-jan', '89', '401', 'rd',\n",
              "       'ph9', '191', 'c0', 'bas', '174', '400', '608', 'x5', '425', '7th',\n",
              "       '90', 'mai', '1-', 's', 'e', '8a', '6-may', 'o1', '266', '214',\n",
              "       '8-jul', '2-jan', 'y', 'ph7', '56', '4-mar', '114', '#8', '7l2',\n",
              "       '225', 'p6', 'a3', '96', '58', '505', 'flt', '610', 'mul', 'p-2',\n",
              "       '2a', '1d', 'ph4', '180', 'cp3', '606', '76', 'nil', 'l7', 'hcp',\n",
              "       's8', '05`', '86', '3-feb', '# 6', '7&8', '64', 'rg', 'j', '118',\n",
              "       '9bd', 'tbd', '120', 'b6', 'gro', '19*', '93', 'pot', 'x11', 'c4',\n",
              "       'lw', '1,2', 'mn', 'gr.', '59', '11d', 'n3', '63', '74', '71',\n",
              "       '142', '63`', 'h', '81', '5-apr', 't', 'p3a', '#1', 'lwr', '1+',\n",
              "       'g/f', 'pk', '#', '218', 'wl', '6+', '69', 'how', 'p1a', '380',\n",
              "       '3c', '10`', '9*', '`15', '3+4', '61', '803', 'n/r', 'twh', '# 2',\n",
              "       '79', '66', '7-jun', 'fp4', '102', '129', '17b', 'l3', 'b3', 'k',\n",
              "       '98', '121', 'mlt', 'sc', '2b', '87', '99', '141', '501', 'non',\n",
              "       '9h', '6ph', '5-may', '1-jan', '1-mar', '4-may', '156', '`1', 'l8',\n",
              "       '103', '350', '1`', '11`', 'gla', '80', '5th', '341'], dtype=object)"
            ]
          },
          "metadata": {
            "tags": []
          },
          "execution_count": 24
        }
      ]
    },
    {
      "cell_type": "code",
      "metadata": {
        "colab_type": "code",
        "id": "Bpx6LUj6McQw",
        "outputId": "9fb81623-bbca-4ff1-d502-210fbcaccd44",
        "colab": {
          "base_uri": "https://localhost:8080/",
          "height": 51
        }
      },
      "source": [
        "## replacing values in Parking Type\n",
        "RE_Ont_S_Final['ParkingType'] = RE_Ont_S_Final['ParkingType'].replace(['u'], 'underground')\n",
        "RE_Ont_S_Final.ParkingType.unique()"
      ],
      "execution_count": 0,
      "outputs": [
        {
          "output_type": "execute_result",
          "data": {
            "text/plain": [
              "array(['none', 'exclusive', 'owned', 'rental', 'common', 'unknown',\n",
              "       'stacked', 'compact', 'underground'], dtype=object)"
            ]
          },
          "metadata": {
            "tags": []
          },
          "execution_count": 25
        }
      ]
    },
    {
      "cell_type": "code",
      "metadata": {
        "colab_type": "code",
        "id": "P7-6c78QMwML",
        "colab": {}
      },
      "source": [
        "## dropping parking drive column isnce information is redundant with parking type\n",
        "RE_Ont_S_Final = RE_Ont_S_Final.drop(['ParkingDrive'], axis=1)"
      ],
      "execution_count": 0,
      "outputs": []
    },
    {
      "cell_type": "code",
      "metadata": {
        "colab_type": "code",
        "id": "s9EnDJv0qJlx",
        "outputId": "6e84f1c1-cf2d-40db-c729-a34c2294cc73",
        "colab": {
          "base_uri": "https://localhost:8080/",
          "height": 308
        }
      },
      "source": [
        "#create a new column to show the total number of rooms by adding washroom, bedroom and den and compare it with the original rooms column. If rooms column value is less than the rooms_new column, replace\n",
        "#otherwise leave it as it is -- this is to make sure all the null values are replaced and any inconsistencies are taken care of.\n",
        "\n",
        "RE_Ont_S_Final['Rooms'] = RE_Ont_S_Final['Bedrooms'] + RE_Ont_S_Final['Den'] + RE_Ont_S_Final['Washrooms'] + RE_Ont_S_Final['Kitchens']\n",
        "\n",
        "#RE_Ont_S_Final.loc[RE_Ont_S_Final['Rooms'] < RE_Ont_S_Final['Rooms_New'], 'Rooms'] = RE_Ont_S_Final['Rooms_New']\n",
        "#RE_Ont_S_Final = RE_Ont_S_Final.drop(['Rooms_New'], axis=1)\n",
        "RE_Ont_S_Final.head()"
      ],
      "execution_count": 0,
      "outputs": [
        {
          "output_type": "execute_result",
          "data": {
            "text/html": [
              "<div>\n",
              "<style scoped>\n",
              "    .dataframe tbody tr th:only-of-type {\n",
              "        vertical-align: middle;\n",
              "    }\n",
              "\n",
              "    .dataframe tbody tr th {\n",
              "        vertical-align: top;\n",
              "    }\n",
              "\n",
              "    .dataframe thead th {\n",
              "        text-align: right;\n",
              "    }\n",
              "</style>\n",
              "<table border=\"1\" class=\"dataframe\">\n",
              "  <thead>\n",
              "    <tr style=\"text-align: right;\">\n",
              "      <th></th>\n",
              "      <th>AirCond</th>\n",
              "      <th>Address</th>\n",
              "      <th>CompUnitNo</th>\n",
              "      <th>Area</th>\n",
              "      <th>Washrooms</th>\n",
              "      <th>Bedrooms</th>\n",
              "      <th>Den</th>\n",
              "      <th>SoldDate</th>\n",
              "      <th>Exposure</th>\n",
              "      <th>Province</th>\n",
              "      <th>Dir_CrossStreets</th>\n",
              "      <th>DaysOnMarket</th>\n",
              "      <th>HeatSource</th>\n",
              "      <th>ListingEntryDate</th>\n",
              "      <th>LaundryLevel</th>\n",
              "      <th>ListPrice</th>\n",
              "      <th>LastStatus</th>\n",
              "      <th>MainFee</th>\n",
              "      <th>MLNum</th>\n",
              "      <th>Kitchens</th>\n",
              "      <th>OrigPrice</th>\n",
              "      <th>ParkingType</th>\n",
              "      <th>ParkingSpaces</th>\n",
              "      <th>Balcony</th>\n",
              "      <th>Rooms</th>\n",
              "      <th>Sale/Lease</th>\n",
              "      <th>SoldPrice</th>\n",
              "      <th>SqFootage</th>\n",
              "      <th>FloorNo</th>\n",
              "      <th>Style</th>\n",
              "      <th>Taxes</th>\n",
              "      <th>ClosedDate</th>\n",
              "      <th>Type</th>\n",
              "      <th>WaterIncl</th>\n",
              "      <th>Age</th>\n",
              "      <th>PostalCode</th>\n",
              "      <th>SoldYear</th>\n",
              "      <th>SoldMonth</th>\n",
              "      <th>SoldDay</th>\n",
              "    </tr>\n",
              "  </thead>\n",
              "  <tbody>\n",
              "    <tr>\n",
              "      <th>14</th>\n",
              "      <td>central air</td>\n",
              "      <td>600fleetst</td>\n",
              "      <td>504</td>\n",
              "      <td>toronto</td>\n",
              "      <td>1.0</td>\n",
              "      <td>1.0</td>\n",
              "      <td>1.0</td>\n",
              "      <td>2010-01-06</td>\n",
              "      <td>e</td>\n",
              "      <td>ontario</td>\n",
              "      <td>lakeshorebathurstst</td>\n",
              "      <td>158.0</td>\n",
              "      <td>gas</td>\n",
              "      <td>8/1/2009 0:00</td>\n",
              "      <td>unknown</td>\n",
              "      <td>319000.0</td>\n",
              "      <td>sld</td>\n",
              "      <td>320.46</td>\n",
              "      <td>c1677165</td>\n",
              "      <td>1.0</td>\n",
              "      <td>299000.0</td>\n",
              "      <td>none</td>\n",
              "      <td>0.0</td>\n",
              "      <td>open</td>\n",
              "      <td>4.0</td>\n",
              "      <td>sale</td>\n",
              "      <td>290000.0</td>\n",
              "      <td>500-699</td>\n",
              "      <td>5</td>\n",
              "      <td>apartment</td>\n",
              "      <td>0.0</td>\n",
              "      <td>2010-02-01 00:00:00</td>\n",
              "      <td>condo apartment</td>\n",
              "      <td>y</td>\n",
              "      <td>zero to five</td>\n",
              "      <td>m5v1b7</td>\n",
              "      <td>2010</td>\n",
              "      <td>1</td>\n",
              "      <td>6</td>\n",
              "    </tr>\n",
              "    <tr>\n",
              "      <th>16</th>\n",
              "      <td>central air</td>\n",
              "      <td>65harboursq</td>\n",
              "      <td>ph7</td>\n",
              "      <td>toronto</td>\n",
              "      <td>4.0</td>\n",
              "      <td>5.0</td>\n",
              "      <td>0.0</td>\n",
              "      <td>2010-01-15</td>\n",
              "      <td>e</td>\n",
              "      <td>ontario</td>\n",
              "      <td>bayqueensquay</td>\n",
              "      <td>155.0</td>\n",
              "      <td>electric</td>\n",
              "      <td>8/13/2009 0:00</td>\n",
              "      <td>upper</td>\n",
              "      <td>1449000.0</td>\n",
              "      <td>sld</td>\n",
              "      <td>1780.00</td>\n",
              "      <td>c1684466</td>\n",
              "      <td>1.0</td>\n",
              "      <td>1499999.0</td>\n",
              "      <td>exclusive</td>\n",
              "      <td>2.0</td>\n",
              "      <td>open</td>\n",
              "      <td>10.0</td>\n",
              "      <td>sale</td>\n",
              "      <td>1395000.0</td>\n",
              "      <td>3500-5000</td>\n",
              "      <td>38</td>\n",
              "      <td>3-storey</td>\n",
              "      <td>10500.0</td>\n",
              "      <td>2010-03-01 00:00:00</td>\n",
              "      <td>condo apartment</td>\n",
              "      <td>y</td>\n",
              "      <td>unknown</td>\n",
              "      <td>m5j2l4</td>\n",
              "      <td>2010</td>\n",
              "      <td>1</td>\n",
              "      <td>15</td>\n",
              "    </tr>\n",
              "    <tr>\n",
              "      <th>41</th>\n",
              "      <td>central air</td>\n",
              "      <td>16yongest</td>\n",
              "      <td>ph7</td>\n",
              "      <td>toronto</td>\n",
              "      <td>3.0</td>\n",
              "      <td>3.0</td>\n",
              "      <td>0.0</td>\n",
              "      <td>2010-01-14</td>\n",
              "      <td>sw</td>\n",
              "      <td>ontario</td>\n",
              "      <td>yongelakeshore</td>\n",
              "      <td>119.0</td>\n",
              "      <td>gas</td>\n",
              "      <td>9/18/2009 0:00</td>\n",
              "      <td>unknown</td>\n",
              "      <td>799900.0</td>\n",
              "      <td>sld</td>\n",
              "      <td>0.00</td>\n",
              "      <td>c1706859</td>\n",
              "      <td>1.0</td>\n",
              "      <td>799900.0</td>\n",
              "      <td>none</td>\n",
              "      <td>0.0</td>\n",
              "      <td>open</td>\n",
              "      <td>7.0</td>\n",
              "      <td>sale</td>\n",
              "      <td>807400.0</td>\n",
              "      <td>1300-1499</td>\n",
              "      <td>40</td>\n",
              "      <td>apartment</td>\n",
              "      <td>0.0</td>\n",
              "      <td>2010-03-31 00:00:00</td>\n",
              "      <td>condo apartment</td>\n",
              "      <td>y</td>\n",
              "      <td>new</td>\n",
              "      <td>m5e1r4</td>\n",
              "      <td>2010</td>\n",
              "      <td>1</td>\n",
              "      <td>14</td>\n",
              "    </tr>\n",
              "    <tr>\n",
              "      <th>54</th>\n",
              "      <td>central air</td>\n",
              "      <td>18harbourst</td>\n",
              "      <td>1602</td>\n",
              "      <td>toronto</td>\n",
              "      <td>2.0</td>\n",
              "      <td>2.0</td>\n",
              "      <td>1.0</td>\n",
              "      <td>2010-01-27</td>\n",
              "      <td>nw</td>\n",
              "      <td>ontario</td>\n",
              "      <td>yongelakeshore</td>\n",
              "      <td>117.0</td>\n",
              "      <td>gas</td>\n",
              "      <td>10/2/2009 0:00</td>\n",
              "      <td>unknown</td>\n",
              "      <td>497000.0</td>\n",
              "      <td>sld</td>\n",
              "      <td>440.63</td>\n",
              "      <td>c1715732</td>\n",
              "      <td>1.0</td>\n",
              "      <td>497000.0</td>\n",
              "      <td>owned</td>\n",
              "      <td>1.0</td>\n",
              "      <td>open</td>\n",
              "      <td>6.0</td>\n",
              "      <td>sale</td>\n",
              "      <td>492000.0</td>\n",
              "      <td>900-1099</td>\n",
              "      <td>16</td>\n",
              "      <td>apartment</td>\n",
              "      <td>0.0</td>\n",
              "      <td>2010-04-01 00:00:00</td>\n",
              "      <td>condo apartment</td>\n",
              "      <td>y</td>\n",
              "      <td>new</td>\n",
              "      <td>m5j2z6</td>\n",
              "      <td>2010</td>\n",
              "      <td>1</td>\n",
              "      <td>27</td>\n",
              "    </tr>\n",
              "    <tr>\n",
              "      <th>71</th>\n",
              "      <td>unknown</td>\n",
              "      <td>1338yorkmillsrd</td>\n",
              "      <td>1601</td>\n",
              "      <td>toronto</td>\n",
              "      <td>2.0</td>\n",
              "      <td>3.0</td>\n",
              "      <td>0.0</td>\n",
              "      <td>2010-01-31</td>\n",
              "      <td>se</td>\n",
              "      <td>ontario</td>\n",
              "      <td>vicpark401</td>\n",
              "      <td>115.0</td>\n",
              "      <td>gas</td>\n",
              "      <td>10/8/2009 0:00</td>\n",
              "      <td>main</td>\n",
              "      <td>220000.0</td>\n",
              "      <td>sld</td>\n",
              "      <td>613.84</td>\n",
              "      <td>c1720379</td>\n",
              "      <td>1.0</td>\n",
              "      <td>220000.0</td>\n",
              "      <td>owned</td>\n",
              "      <td>1.0</td>\n",
              "      <td>open</td>\n",
              "      <td>6.0</td>\n",
              "      <td>sale</td>\n",
              "      <td>210000.0</td>\n",
              "      <td>unknown</td>\n",
              "      <td>15</td>\n",
              "      <td>apartment</td>\n",
              "      <td>1620.0</td>\n",
              "      <td>2010-03-26 00:00:00</td>\n",
              "      <td>condo apartment</td>\n",
              "      <td>y</td>\n",
              "      <td>unknown</td>\n",
              "      <td>m3a3m3</td>\n",
              "      <td>2010</td>\n",
              "      <td>1</td>\n",
              "      <td>31</td>\n",
              "    </tr>\n",
              "  </tbody>\n",
              "</table>\n",
              "</div>"
            ],
            "text/plain": [
              "        AirCond          Address CompUnitNo  ... SoldYear  SoldMonth  SoldDay\n",
              "14  central air       600fleetst        504  ...     2010          1        6\n",
              "16  central air      65harboursq        ph7  ...     2010          1       15\n",
              "41  central air        16yongest        ph7  ...     2010          1       14\n",
              "54  central air      18harbourst       1602  ...     2010          1       27\n",
              "71      unknown  1338yorkmillsrd       1601  ...     2010          1       31\n",
              "\n",
              "[5 rows x 39 columns]"
            ]
          },
          "metadata": {
            "tags": []
          },
          "execution_count": 27
        }
      ]
    },
    {
      "cell_type": "code",
      "metadata": {
        "colab_type": "code",
        "id": "UDfvcJExOHcN",
        "colab": {}
      },
      "source": [
        "#Write this final cleaned and pre-processed dataframe into a csv file\n",
        "RE_Final_S = RE_Ont_S_Final.to_csv (r'/content/drive/My Drive/IST718_Project/Data/RealAlyze_2010to2017_PostCleaning.csv', index = None, header=True)"
      ],
      "execution_count": 0,
      "outputs": []
    },
    {
      "cell_type": "markdown",
      "metadata": {
        "colab_type": "text",
        "id": "O6fPJ8ybN3yE"
      },
      "source": [
        "**Exploratory Data Analysis**"
      ]
    },
    {
      "cell_type": "markdown",
      "metadata": {
        "id": "qzhsygtr3T2w",
        "colab_type": "text"
      },
      "source": [
        "We begin by reading in the cleaned and prepared dataset and view some high-level descriptive statistics from the metric variables."
      ]
    },
    {
      "cell_type": "code",
      "metadata": {
        "colab_type": "code",
        "id": "DVWDQ7SUOhy-",
        "colab": {}
      },
      "source": [
        "#Read in the clean file\n",
        "path_F = \"/content/drive/My Drive/IST718_Project/Data/RealAlyze_2010to2017_PostCleaning.csv\"\n",
        "RE_Final_S = pd.read_csv(path_F)"
      ],
      "execution_count": 0,
      "outputs": []
    },
    {
      "cell_type": "code",
      "metadata": {
        "colab_type": "code",
        "id": "Qx5PTdLApEfF",
        "outputId": "940354d8-8d3c-4897-e03c-6902bbfe0028",
        "colab": {
          "base_uri": "https://localhost:8080/",
          "height": 314
        }
      },
      "source": [
        "RE_Final_S.describe()"
      ],
      "execution_count": 0,
      "outputs": [
        {
          "output_type": "execute_result",
          "data": {
            "text/html": [
              "<div>\n",
              "<style scoped>\n",
              "    .dataframe tbody tr th:only-of-type {\n",
              "        vertical-align: middle;\n",
              "    }\n",
              "\n",
              "    .dataframe tbody tr th {\n",
              "        vertical-align: top;\n",
              "    }\n",
              "\n",
              "    .dataframe thead th {\n",
              "        text-align: right;\n",
              "    }\n",
              "</style>\n",
              "<table border=\"1\" class=\"dataframe\">\n",
              "  <thead>\n",
              "    <tr style=\"text-align: right;\">\n",
              "      <th></th>\n",
              "      <th>Washrooms</th>\n",
              "      <th>Bedrooms</th>\n",
              "      <th>Den</th>\n",
              "      <th>DaysOnMarket</th>\n",
              "      <th>ListPrice</th>\n",
              "      <th>MainFee</th>\n",
              "      <th>Kitchens</th>\n",
              "      <th>OrigPrice</th>\n",
              "      <th>ParkingSpaces</th>\n",
              "      <th>Rooms</th>\n",
              "      <th>SoldPrice</th>\n",
              "      <th>Taxes</th>\n",
              "      <th>SoldYear</th>\n",
              "      <th>SoldMonth</th>\n",
              "      <th>SoldDay</th>\n",
              "    </tr>\n",
              "  </thead>\n",
              "  <tbody>\n",
              "    <tr>\n",
              "      <th>count</th>\n",
              "      <td>240673.000000</td>\n",
              "      <td>240673.000000</td>\n",
              "      <td>240673.000000</td>\n",
              "      <td>240673.000000</td>\n",
              "      <td>2.406730e+05</td>\n",
              "      <td>240673.000000</td>\n",
              "      <td>240673.000000</td>\n",
              "      <td>2.406730e+05</td>\n",
              "      <td>240673.000000</td>\n",
              "      <td>240673.000000</td>\n",
              "      <td>2.406730e+05</td>\n",
              "      <td>240673.000000</td>\n",
              "      <td>240673.000000</td>\n",
              "      <td>240673.000000</td>\n",
              "      <td>240673.000000</td>\n",
              "    </tr>\n",
              "    <tr>\n",
              "      <th>mean</th>\n",
              "      <td>1.789561</td>\n",
              "      <td>1.913401</td>\n",
              "      <td>0.358906</td>\n",
              "      <td>29.107133</td>\n",
              "      <td>3.709021e+05</td>\n",
              "      <td>481.448808</td>\n",
              "      <td>1.000777</td>\n",
              "      <td>3.878523e+05</td>\n",
              "      <td>1.717584</td>\n",
              "      <td>5.062645</td>\n",
              "      <td>3.680340e+05</td>\n",
              "      <td>2206.592578</td>\n",
              "      <td>2013.485480</td>\n",
              "      <td>6.135611</td>\n",
              "      <td>15.827006</td>\n",
              "    </tr>\n",
              "    <tr>\n",
              "      <th>std</th>\n",
              "      <td>0.731878</td>\n",
              "      <td>0.815282</td>\n",
              "      <td>0.498098</td>\n",
              "      <td>32.614795</td>\n",
              "      <td>2.232186e+05</td>\n",
              "      <td>348.716330</td>\n",
              "      <td>0.072208</td>\n",
              "      <td>2.314434e+06</td>\n",
              "      <td>24.532421</td>\n",
              "      <td>1.451257</td>\n",
              "      <td>2.202943e+05</td>\n",
              "      <td>3802.393036</td>\n",
              "      <td>2.210689</td>\n",
              "      <td>3.173675</td>\n",
              "      <td>8.704325</td>\n",
              "    </tr>\n",
              "    <tr>\n",
              "      <th>min</th>\n",
              "      <td>0.000000</td>\n",
              "      <td>0.000000</td>\n",
              "      <td>0.000000</td>\n",
              "      <td>0.000000</td>\n",
              "      <td>0.000000e+00</td>\n",
              "      <td>0.000000</td>\n",
              "      <td>0.000000</td>\n",
              "      <td>0.000000e+00</td>\n",
              "      <td>0.000000</td>\n",
              "      <td>0.000000</td>\n",
              "      <td>0.000000e+00</td>\n",
              "      <td>0.000000</td>\n",
              "      <td>2010.000000</td>\n",
              "      <td>1.000000</td>\n",
              "      <td>1.000000</td>\n",
              "    </tr>\n",
              "    <tr>\n",
              "      <th>25%</th>\n",
              "      <td>1.000000</td>\n",
              "      <td>1.000000</td>\n",
              "      <td>0.000000</td>\n",
              "      <td>10.000000</td>\n",
              "      <td>2.598000e+05</td>\n",
              "      <td>330.000000</td>\n",
              "      <td>1.000000</td>\n",
              "      <td>2.599000e+05</td>\n",
              "      <td>1.000000</td>\n",
              "      <td>4.000000</td>\n",
              "      <td>2.550000e+05</td>\n",
              "      <td>1610.000000</td>\n",
              "      <td>2012.000000</td>\n",
              "      <td>4.000000</td>\n",
              "      <td>8.000000</td>\n",
              "    </tr>\n",
              "    <tr>\n",
              "      <th>50%</th>\n",
              "      <td>2.000000</td>\n",
              "      <td>2.000000</td>\n",
              "      <td>0.000000</td>\n",
              "      <td>20.000000</td>\n",
              "      <td>3.300000e+05</td>\n",
              "      <td>443.880000</td>\n",
              "      <td>1.000000</td>\n",
              "      <td>3.349000e+05</td>\n",
              "      <td>1.000000</td>\n",
              "      <td>5.000000</td>\n",
              "      <td>3.290000e+05</td>\n",
              "      <td>2097.590000</td>\n",
              "      <td>2014.000000</td>\n",
              "      <td>6.000000</td>\n",
              "      <td>16.000000</td>\n",
              "    </tr>\n",
              "    <tr>\n",
              "      <th>75%</th>\n",
              "      <td>2.000000</td>\n",
              "      <td>2.000000</td>\n",
              "      <td>1.000000</td>\n",
              "      <td>38.000000</td>\n",
              "      <td>4.250000e+05</td>\n",
              "      <td>592.270000</td>\n",
              "      <td>1.000000</td>\n",
              "      <td>4.288000e+05</td>\n",
              "      <td>1.000000</td>\n",
              "      <td>6.000000</td>\n",
              "      <td>4.250000e+05</td>\n",
              "      <td>2626.500000</td>\n",
              "      <td>2015.000000</td>\n",
              "      <td>9.000000</td>\n",
              "      <td>23.000000</td>\n",
              "    </tr>\n",
              "    <tr>\n",
              "      <th>max</th>\n",
              "      <td>10.000000</td>\n",
              "      <td>9.000000</td>\n",
              "      <td>7.000000</td>\n",
              "      <td>3720.000000</td>\n",
              "      <td>1.200000e+07</td>\n",
              "      <td>62745.000000</td>\n",
              "      <td>7.000000</td>\n",
              "      <td>8.150000e+08</td>\n",
              "      <td>5187.000000</td>\n",
              "      <td>31.000000</td>\n",
              "      <td>1.200000e+07</td>\n",
              "      <td>533864.000000</td>\n",
              "      <td>2017.000000</td>\n",
              "      <td>12.000000</td>\n",
              "      <td>31.000000</td>\n",
              "    </tr>\n",
              "  </tbody>\n",
              "</table>\n",
              "</div>"
            ],
            "text/plain": [
              "           Washrooms       Bedrooms  ...      SoldMonth        SoldDay\n",
              "count  240673.000000  240673.000000  ...  240673.000000  240673.000000\n",
              "mean        1.789561       1.913401  ...       6.135611      15.827006\n",
              "std         0.731878       0.815282  ...       3.173675       8.704325\n",
              "min         0.000000       0.000000  ...       1.000000       1.000000\n",
              "25%         1.000000       1.000000  ...       4.000000       8.000000\n",
              "50%         2.000000       2.000000  ...       6.000000      16.000000\n",
              "75%         2.000000       2.000000  ...       9.000000      23.000000\n",
              "max        10.000000       9.000000  ...      12.000000      31.000000\n",
              "\n",
              "[8 rows x 15 columns]"
            ]
          },
          "metadata": {
            "tags": []
          },
          "execution_count": 30
        }
      ]
    },
    {
      "cell_type": "code",
      "metadata": {
        "colab_type": "code",
        "id": "4cJS414aqaKV",
        "outputId": "d6aaeec6-f606-4b3f-d401-1b6c9313aea9",
        "colab": {
          "base_uri": "https://localhost:8080/",
          "height": 901
        }
      },
      "source": [
        "#let's do some exploratory data analysis\n",
        "\n",
        "plt.figure(figsize = (15, 10))\n",
        "g = sns.countplot(x= 'Type', data = RE_Final_S, order = RE_Final_S['Type'].value_counts().index)\n",
        "loc,labels = plt.xticks()\n",
        "g.set_xticklabels(labels, rotation=30)"
      ],
      "execution_count": 0,
      "outputs": [
        {
          "output_type": "execute_result",
          "data": {
            "text/plain": [
              "[Text(0, 0, 'condo apartment'),\n",
              " Text(0, 0, 'condo townhouse'),\n",
              " Text(0, 0, 'comm element condo'),\n",
              " Text(0, 0, 'co-op apt'),\n",
              " Text(0, 0, 'det condo'),\n",
              " Text(0, 0, 'semi-det condo'),\n",
              " Text(0, 0, 'co-ownership apt'),\n",
              " Text(0, 0, 'parking space'),\n",
              " Text(0, 0, 'other'),\n",
              " Text(0, 0, 'leasehold condo'),\n",
              " Text(0, 0, 'locker'),\n",
              " Text(0, 0, 'vacant land condo'),\n",
              " Text(0, 0, 'phased condo'),\n",
              " Text(0, 0, 'time share')]"
            ]
          },
          "metadata": {
            "tags": []
          },
          "execution_count": 31
        },
        {
          "output_type": "display_data",
          "data": {
            "image/png": "[encoded data removed]",
            "text/plain": [
              "<Figure size 1080x720 with 1 Axes>"
            ]
          },
          "metadata": {
            "tags": []
          }
        }
      ]
    },
    {
      "cell_type": "markdown",
      "metadata": {
        "colab_type": "text",
        "id": "YNGu47tEmaY6"
      },
      "source": [
        "The above plot shows condo apartments are the highest number of listings in our dataset for sale followed by condo townhouses."
      ]
    },
    {
      "cell_type": "code",
      "metadata": {
        "colab_type": "code",
        "id": "sqUDEv1Ba8K3",
        "outputId": "da09c4c3-4d75-40fa-d342-584b0c094be9",
        "colab": {
          "base_uri": "https://localhost:8080/",
          "height": 846
        }
      },
      "source": [
        "#summarize age of buildings\n",
        "plt.figure(figsize = (15, 10))\n",
        "g2 = sns.countplot(x= 'Age', data = RE_Final_S, order = RE_Final_S['Age'].value_counts().index)\n",
        "loc,labels2 = plt.xticks()\n",
        "g2.set_xticklabels(labels2, rotation=30)"
      ],
      "execution_count": 0,
      "outputs": [
        {
          "output_type": "execute_result",
          "data": {
            "text/plain": [
              "[Text(0, 0, 'unknown'),\n",
              " Text(0, 0, 'zero to five'),\n",
              " Text(0, 0, 'sixteen to thirty'),\n",
              " Text(0, 0, 'new'),\n",
              " Text(0, 0, 'six to ten'),\n",
              " Text(0, 0, 'thirtyone to fifty'),\n",
              " Text(0, 0, 'eleven to fifteen'),\n",
              " Text(0, 0, 'six to fifteen'),\n",
              " Text(0, 0, 'fiftyone to nintyNine'),\n",
              " Text(0, 0, 'more than 100'),\n",
              " Text(0, 0, 'fifty to sixty one')]"
            ]
          },
          "metadata": {
            "tags": []
          },
          "execution_count": 32
        },
        {
          "output_type": "display_data",
          "data": {
            "image/png": "[encoded data removed]",
            "text/plain": [
              "<Figure size 1080x720 with 1 Axes>"
            ]
          },
          "metadata": {
            "tags": []
          }
        }
      ]
    },
    {
      "cell_type": "markdown",
      "metadata": {
        "colab_type": "text",
        "id": "ua_Oab7Vkw1R"
      },
      "source": [
        "As expected, our dataset is clean though the meta data within still has some elements which prove to skew our data and analysis.  The \"age\" of many of the buildings within our dataset is unknown and would require considerable effort to correct.  Furthermore, since we're using data collected and available through the Toronto Real Estate Board and we want to update this model from the same data source, we must proceed by ignoring the \"unknown\" values in the \"age\" variable.  The number of buildings listed in the database with a high count are new buildings with ages ranging from 0 to five years."
      ]
    },
    {
      "cell_type": "code",
      "metadata": {
        "colab_type": "code",
        "id": "vciovig9k_XT",
        "outputId": "31a13f57-41a2-46b3-a846-6330e0fdb8bd",
        "colab": {
          "base_uri": "https://localhost:8080/",
          "height": 793
        }
      },
      "source": [
        "#summarize Parking Space Type for listings\n",
        "plt.figure(figsize = (15, 10))\n",
        "g3 = sns.countplot(x= 'ParkingType', data = RE_Final_S, order = RE_Final_S['ParkingType'].value_counts().index)\n",
        "loc,labels3 = plt.xticks()\n",
        "g3.set_xticklabels(labels3, rotation=30)"
      ],
      "execution_count": 0,
      "outputs": [
        {
          "output_type": "execute_result",
          "data": {
            "text/plain": [
              "[Text(0, 0, 'owned'),\n",
              " Text(0, 0, 'exclusive'),\n",
              " Text(0, 0, 'none'),\n",
              " Text(0, 0, 'common'),\n",
              " Text(0, 0, 'rental'),\n",
              " Text(0, 0, 'unknown'),\n",
              " Text(0, 0, 'stacked'),\n",
              " Text(0, 0, 'compact'),\n",
              " Text(0, 0, 'underground')]"
            ]
          },
          "metadata": {
            "tags": []
          },
          "execution_count": 33
        },
        {
          "output_type": "display_data",
          "data": {
            "image/png": "[encoded data removed]",
            "text/plain": [
              "<Figure size 1080x720 with 1 Axes>"
            ]
          },
          "metadata": {
            "tags": []
          }
        }
      ]
    },
    {
      "cell_type": "markdown",
      "metadata": {
        "colab_type": "text",
        "id": "iqpGCZwql7ww"
      },
      "source": [
        "In this plot we can see the  majority of the listings for sale have their own parking spaces instead of being rented or common for all -- an attractive feature."
      ]
    },
    {
      "cell_type": "code",
      "metadata": {
        "colab_type": "code",
        "id": "MfXV2elznCHO",
        "outputId": "ee09a74c-8f22-4412-ce40-a9812b55ff24",
        "colab": {
          "base_uri": "https://localhost:8080/",
          "height": 1000
        }
      },
      "source": [
        "#summarize Square footage area of buildings\n",
        "plt.figure(figsize = (15, 10))\n",
        "g4 = sns.countplot(x= 'SqFootage', data = RE_Final_S, order = RE_Final_S['SqFootage'].value_counts().index)\n",
        "loc,labels4 = plt.xticks()\n",
        "g4.set_xticklabels(labels4, rotation=90)"
      ],
      "execution_count": 0,
      "outputs": [
        {
          "output_type": "execute_result",
          "data": {
            "text/plain": [
              "[Text(0, 0, '1000-1199'),\n",
              " Text(0, 0, '1200-1399'),\n",
              " Text(0, 0, '600-699'),\n",
              " Text(0, 0, 'unknown'),\n",
              " Text(0, 0, '700-799'),\n",
              " Text(0, 0, '900-999'),\n",
              " Text(0, 0, '800-899'),\n",
              " Text(0, 0, '1400-1599'),\n",
              " Text(0, 0, '500-599'),\n",
              " Text(0, 0, '1600-1799'),\n",
              " Text(0, 0, '700-899'),\n",
              " Text(0, 0, '0-499'),\n",
              " Text(0, 0, '900-1099'),\n",
              " Text(0, 0, '500-699'),\n",
              " Text(0, 0, '1100-1299'),\n",
              " Text(0, 0, '1800-1999'),\n",
              " Text(0, 0, '1500-2000'),\n",
              " Text(0, 0, '1300-1499'),\n",
              " Text(0, 0, '2000-2249'),\n",
              " Text(0, 0, '2250-2499'),\n",
              " Text(0, 0, '2000-2500'),\n",
              " Text(0, 0, '2500-2749'),\n",
              " Text(0, 0, '2750-2999'),\n",
              " Text(0, 0, '2500-3000'),\n",
              " Text(0, 0, '3000-3249'),\n",
              " Text(0, 0, '3250-3499'),\n",
              " Text(0, 0, '3500-3749'),\n",
              " Text(0, 0, '3000-3500'),\n",
              " Text(0, 0, '1100-1500'),\n",
              " Text(0, 0, '5000 plus'),\n",
              " Text(0, 0, '4000-4249'),\n",
              " Text(0, 0, '3500-5000'),\n",
              " Text(0, 0, '4250-4499'),\n",
              " Text(0, 0, '700-1100'),\n",
              " Text(0, 0, '3750-3999'),\n",
              " Text(0, 0, '4500-4749'),\n",
              " Text(0, 0, '4750-4999'),\n",
              " Text(0, 0, 'less than 700')]"
            ]
          },
          "metadata": {
            "tags": []
          },
          "execution_count": 34
        },
        {
          "output_type": "display_data",
          "data": {
            "image/png": "[encoded data removed]",
            "text/plain": [
              "<Figure size 1080x720 with 1 Axes>"
            ]
          },
          "metadata": {
            "tags": []
          }
        }
      ]
    },
    {
      "cell_type": "markdown",
      "metadata": {
        "colab_type": "text",
        "id": "L_gskzB_nRuY"
      },
      "source": [
        "The precise square footage data is contained within the \"notes\" section of the TREB data.  We are working with a categorical variable \"SqFootage\" instead.  There are about 32000 listings in the market with a \"SqFootage\" area of 1100 - 1200 sq ft.  Between the $20,000 to $30,000 range, these are the most common SqFootage values: 1200-1399, 600-699 and 700-799. Listings with less than 700 sqft are extremely rare as indicated on the far right in the plot above. "
      ]
    },
    {
      "cell_type": "code",
      "metadata": {
        "colab_type": "code",
        "id": "yav1wHa9oMjc",
        "outputId": "bfb3afc8-b5c0-4178-9b64-72ef7f10fafa",
        "colab": {
          "base_uri": "https://localhost:8080/",
          "height": 621
        }
      },
      "source": [
        "#summarize Yearly building sale\n",
        "plt.figure(figsize = (15, 10))\n",
        "ax = sns.countplot(x= 'SoldYear', data = RE_Final_S)\n",
        "for item in ax.get_xticklabels():\n",
        "    item.set_rotation(90)\n"
      ],
      "execution_count": 0,
      "outputs": [
        {
          "output_type": "display_data",
          "data": {
            "image/png": "[encoded data removed]",
            "text/plain": [
              "<Figure size 1080x720 with 1 Axes>"
            ]
          },
          "metadata": {
            "tags": []
          }
        }
      ]
    },
    {
      "cell_type": "markdown",
      "metadata": {
        "colab_type": "text",
        "id": "UZHWxE8_v0vG"
      },
      "source": [
        "Apart from 2017 data, as it's incomplete, there is a noticeable upward trend in  the number of listings on sale from 2012 to 2016. There is a brief spike in  2011 but picks up thereafter."
      ]
    },
    {
      "cell_type": "code",
      "metadata": {
        "colab_type": "code",
        "id": "wRdZrpa_sFxe",
        "outputId": "a84f56aa-55a4-4378-fdca-7177ad84cec6",
        "colab": {
          "base_uri": "https://localhost:8080/",
          "height": 606
        }
      },
      "source": [
        "#summarize Monthly Listing sale\n",
        "plt.figure(figsize = (15, 10))\n",
        "ax2 = sns.countplot(x= 'SoldMonth', data = RE_Final_S)\n"
      ],
      "execution_count": 0,
      "outputs": [
        {
          "output_type": "display_data",
          "data": {
            "image/png": "[encoded data removed]",
            "text/plain": [
              "<Figure size 1080x720 with 1 Axes>"
            ]
          },
          "metadata": {
            "tags": []
          }
        }
      ]
    },
    {
      "cell_type": "markdown",
      "metadata": {
        "colab_type": "text",
        "id": "QxbF6tC5w1p6"
      },
      "source": [
        "Most listings are sold between March and May; while the least number of sales occur in Dec and Jan.  The incomplete data from 2017 may play a factor in these numbers, but should not drastically affect the outcome of our analysis."
      ]
    },
    {
      "cell_type": "code",
      "metadata": {
        "colab_type": "code",
        "id": "Q7GaAvyXxCXQ",
        "outputId": "37d03c94-54c0-492c-a1ca-586db7b1bde6",
        "colab": {
          "base_uri": "https://localhost:8080/",
          "height": 606
        }
      },
      "source": [
        "#summarize Monthly Listing sale\n",
        "plt.figure(figsize = (15, 10))\n",
        "ax3 = sns.countplot(x= 'SoldDay', data = RE_Final_S)"
      ],
      "execution_count": 0,
      "outputs": [
        {
          "output_type": "display_data",
          "data": {
            "image/png": "[encoded data removed]",
            "text/plain": [
              "<Figure size 1080x720 with 1 Axes>"
            ]
          },
          "metadata": {
            "tags": []
          }
        }
      ]
    },
    {
      "cell_type": "markdown",
      "metadata": {
        "colab_type": "text",
        "id": "gzP8PoDcxZrm"
      },
      "source": [
        "While no pattern presents in looking at the sales by each day of the month, there is an exceptional dip on the month end.  There are only 39 business days in our dataset which fall on the 31st day of a month.  "
      ]
    },
    {
      "cell_type": "code",
      "metadata": {
        "colab_type": "code",
        "id": "jvPDvvFPos6C",
        "outputId": "efc9f1e5-0d08-456d-e2eb-521c153bb07c",
        "colab": {
          "base_uri": "https://localhost:8080/",
          "height": 710
        }
      },
      "source": [
        "RE_Final_S.dtypes"
      ],
      "execution_count": 0,
      "outputs": [
        {
          "output_type": "execute_result",
          "data": {
            "text/plain": [
              "AirCond              object\n",
              "Address              object\n",
              "CompUnitNo           object\n",
              "Area                 object\n",
              "Washrooms           float64\n",
              "Bedrooms            float64\n",
              "Den                 float64\n",
              "SoldDate             object\n",
              "Exposure             object\n",
              "Province             object\n",
              "Dir_CrossStreets     object\n",
              "DaysOnMarket        float64\n",
              "HeatSource           object\n",
              "ListingEntryDate     object\n",
              "LaundryLevel         object\n",
              "ListPrice           float64\n",
              "LastStatus           object\n",
              "MainFee             float64\n",
              "MLNum                object\n",
              "Kitchens            float64\n",
              "OrigPrice           float64\n",
              "ParkingType          object\n",
              "ParkingSpaces       float64\n",
              "Balcony              object\n",
              "Rooms               float64\n",
              "Sale/Lease           object\n",
              "SoldPrice           float64\n",
              "SqFootage            object\n",
              "FloorNo              object\n",
              "Style                object\n",
              "Taxes               float64\n",
              "ClosedDate           object\n",
              "Type                 object\n",
              "WaterIncl            object\n",
              "Age                  object\n",
              "PostalCode           object\n",
              "SoldYear              int64\n",
              "SoldMonth             int64\n",
              "SoldDay               int64\n",
              "dtype: object"
            ]
          },
          "metadata": {
            "tags": []
          },
          "execution_count": 38
        }
      ]
    },
    {
      "cell_type": "markdown",
      "metadata": {
        "id": "JW4PQsfdIP3o",
        "colab_type": "text"
      },
      "source": [
        "**House Prediction using Keras Model**"
      ]
    },
    {
      "cell_type": "markdown",
      "metadata": {
        "id": "J_HUBc1sIP3p",
        "colab_type": "text"
      },
      "source": [
        "Load the necessary libraries"
      ]
    },
    {
      "cell_type": "code",
      "metadata": {
        "id": "Tj9fuFy1IP3p",
        "colab_type": "code",
        "outputId": "7a09b2ca-e434-4f68-d9ee-3bd7ae5de5ca",
        "colab": {
          "base_uri": "https://localhost:8080/",
          "height": 81
        }
      },
      "source": [
        "import keras\n",
        "from keras import metrics\n",
        "from keras import regularizers\n",
        "from keras.models import Sequential\n",
        "from keras.layers import Dense, Dropout, Flatten, Activation\n",
        "from keras.layers import Conv2D, MaxPooling2D\n",
        "from keras.optimizers import Adam, RMSprop\n",
        "from keras.callbacks import TensorBoard, EarlyStopping, ModelCheckpoint\n",
        "from keras.utils import plot_model\n",
        "from keras.models import load_model"
      ],
      "execution_count": 0,
      "outputs": [
        {
          "output_type": "stream",
          "text": [
            "Using TensorFlow backend.\n"
          ],
          "name": "stderr"
        },
        {
          "output_type": "display_data",
          "data": {
            "text/html": [
              "<p style=\"color: red;\">\n",
              "The default version of TensorFlow in Colab will soon switch to TensorFlow 2.x.<br>\n",
              "We recommend you <a href=\"https://www.tensorflow.org/guide/migrate\" target=\"_blank\">upgrade</a> now \n",
              "or ensure your notebook will continue to use TensorFlow 1.x via the <code>%tensorflow_version 1.x</code> magic:\n",
              "<a href=\"https://colab.research.google.com/notebooks/tensorflow_version.ipynb\" target=\"_blank\">more info</a>.</p>\n"
            ],
            "text/plain": [
              "<IPython.core.display.HTML object>"
            ]
          },
          "metadata": {
            "tags": []
          }
        }
      ]
    },
    {
      "cell_type": "code",
      "metadata": {
        "id": "zfYg7S-B8zbo",
        "colab_type": "code",
        "outputId": "45cb70bc-5fe5-44d5-8b5b-98d3e6c295bc",
        "colab": {
          "base_uri": "https://localhost:8080/",
          "height": 225
        }
      },
      "source": [
        "RE_Final_S = RE_Final_S.drop(['AirCond','Address','CompUnitNo','Area','Den','SoldDate','Exposure','Province','Dir_CrossStreets','HeatSource','ListingEntryDate','LaundryLevel','LastStatus','MLNum','ParkingType','Balcony','Sale/Lease','SqFootage','FloorNo','Style','ClosedDate','Type','WaterIncl','Age','PostalCode','SoldYear','SoldMonth','SoldDay'], axis=1)\n",
        "RE_Final_S.dtypes"
      ],
      "execution_count": 0,
      "outputs": [
        {
          "output_type": "execute_result",
          "data": {
            "text/plain": [
              "Washrooms        float64\n",
              "Bedrooms         float64\n",
              "DaysOnMarket     float64\n",
              "ListPrice        float64\n",
              "MainFee          float64\n",
              "Kitchens         float64\n",
              "OrigPrice        float64\n",
              "ParkingSpaces    float64\n",
              "Rooms            float64\n",
              "SoldPrice        float64\n",
              "Taxes            float64\n",
              "dtype: object"
            ]
          },
          "metadata": {
            "tags": []
          },
          "execution_count": 40
        }
      ]
    },
    {
      "cell_type": "markdown",
      "metadata": {
        "id": "R563PSJaIP3s",
        "colab_type": "text"
      },
      "source": [
        "Data has already been loaded and date transformed into the correct format"
      ]
    },
    {
      "cell_type": "markdown",
      "metadata": {
        "id": "qYWZ7s6iIP3t",
        "colab_type": "text"
      },
      "source": [
        "Split data for training"
      ]
    },
    {
      "cell_type": "code",
      "metadata": {
        "id": "QS5Gh3olIP3w",
        "colab_type": "code",
        "colab": {}
      },
      "source": [
        "def train_validate_test_split(RE_Final_S, train_part=.6, validate_part=.2, test_part=.2, seed=None):\n",
        "    np.random.seed(seed)\n",
        "    total_size = train_part + validate_part + test_part\n",
        "    train_percent = train_part / total_size\n",
        "    validate_percent = validate_part / total_size\n",
        "    test_percent = test_part / total_size\n",
        "    perm = np.random.permutation(RE_Final_S.index)\n",
        "    m = len(RE_Final_S)\n",
        "    train_end = int(train_percent * m)\n",
        "    validate_end = int(validate_percent * m) + train_end\n",
        "    train = perm[:train_end]\n",
        "    validate = perm[train_end:validate_end]\n",
        "    test = perm[validate_end:]\n",
        "    return train, validate, test"
      ],
      "execution_count": 0,
      "outputs": []
    },
    {
      "cell_type": "markdown",
      "metadata": {
        "id": "rsY2Eh7kIP3x",
        "colab_type": "text"
      },
      "source": [
        "Split index ranges into three different parts"
      ]
    },
    {
      "cell_type": "code",
      "metadata": {
        "id": "Kl6mVC5yIP3y",
        "colab_type": "code",
        "colab": {}
      },
      "source": [
        "train_size, valid_size, test_size = (70, 30, 0)\n",
        "toronto_train, toronto_valid, toronto_test = train_validate_test_split(RE_Final_S, \n",
        "                              train_part=train_size, \n",
        "                              validate_part=valid_size,\n",
        "                              test_part=test_size,\n",
        "                              seed=2017)"
      ],
      "execution_count": 0,
      "outputs": []
    },
    {
      "cell_type": "markdown",
      "metadata": {
        "id": "uQctV6qlIP30",
        "colab_type": "text"
      },
      "source": [
        "Extract data for training and also validation (x and y vectors)"
      ]
    },
    {
      "cell_type": "code",
      "metadata": {
        "id": "mM04YRVTIP30",
        "colab_type": "code",
        "colab": {}
      },
      "source": [
        "toronto_y_train = RE_Final_S.loc[toronto_train, ['SoldPrice']]\n",
        "toronto_x_train = RE_Final_S.loc[toronto_train, :].drop('SoldPrice', axis=1)\n",
        "toronto_y_valid = RE_Final_S.loc[toronto_valid, ['SoldPrice']]\n",
        "toronto_x_valid = RE_Final_S.loc[toronto_valid, :].drop('SoldPrice', axis=1)"
      ],
      "execution_count": 0,
      "outputs": []
    },
    {
      "cell_type": "markdown",
      "metadata": {
        "id": "5gTVWoYRIP33",
        "colab_type": "text"
      },
      "source": [
        "Training dataset is twice as large as the validation dataset"
      ]
    },
    {
      "cell_type": "code",
      "metadata": {
        "id": "sgdPyswfIP34",
        "colab_type": "code",
        "outputId": "fa7b6851-ce20-4d83-bd9f-b65666cfeee6",
        "colab": {
          "base_uri": "https://localhost:8080/",
          "height": 69
        }
      },
      "source": [
        "print('Size of training set: ', len(toronto_x_train))\n",
        "print('Size of validation set: ', len(toronto_x_valid))\n",
        "print('Size of test set: ', len(toronto_test), '(not converted)')"
      ],
      "execution_count": 0,
      "outputs": [
        {
          "output_type": "stream",
          "text": [
            "Size of training set:  168471\n",
            "Size of validation set:  72201\n",
            "Size of test set:  1 (not converted)\n"
          ],
          "name": "stdout"
        }
      ]
    },
    {
      "cell_type": "markdown",
      "metadata": {
        "id": "_cJpskWrIP36",
        "colab_type": "text"
      },
      "source": [
        "Function to conduct statistics "
      ]
    },
    {
      "cell_type": "code",
      "metadata": {
        "id": "TZq8OefFIP36",
        "colab_type": "code",
        "colab": {}
      },
      "source": [
        "def norm_stats(df1, df2):\n",
        "    dfs = df1.append(df2)\n",
        "    minimum = np.min(dfs)\n",
        "    maximum = np.max(dfs)\n",
        "    mu = np.mean(dfs)\n",
        "    sigma = np.std(dfs)\n",
        "    return (minimum, maximum, mu, sigma)"
      ],
      "execution_count": 0,
      "outputs": []
    },
    {
      "cell_type": "code",
      "metadata": {
        "id": "sja5ZkjCIP3-",
        "colab_type": "code",
        "colab": {}
      },
      "source": [
        "def z_score(col, stats):\n",
        "    m, M, mu, s = stats\n",
        "    df = pd.DataFrame()\n",
        "    for c in col.columns:\n",
        "        df[c] = (col[c]-mu[c])/s[c]\n",
        "    return df"
      ],
      "execution_count": 0,
      "outputs": []
    },
    {
      "cell_type": "markdown",
      "metadata": {
        "id": "VJGFB8LYIP4A",
        "colab_type": "text"
      },
      "source": [
        "Normalize the training and the validation variables which predict the price"
      ]
    },
    {
      "cell_type": "code",
      "metadata": {
        "id": "ix460O5mIP4A",
        "colab_type": "code",
        "colab": {}
      },
      "source": [
        "stats = norm_stats(toronto_x_train, toronto_x_valid)\n",
        "arr_x_train = np.array(z_score(toronto_x_train, stats))\n",
        "arr_y_train = np.array(toronto_y_train)\n",
        "arr_x_valid = np.array(z_score(toronto_x_valid, stats))\n",
        "arr_y_valid = np.array(toronto_y_valid)"
      ],
      "execution_count": 0,
      "outputs": []
    },
    {
      "cell_type": "code",
      "metadata": {
        "id": "dp9Hh328IP4C",
        "colab_type": "code",
        "outputId": "2baa3113-4271-45fb-bb6f-1cf55ab402c4",
        "colab": {
          "base_uri": "https://localhost:8080/",
          "height": 69
        }
      },
      "source": [
        "print('Training shape:', arr_x_train.shape)\n",
        "print('Training samples: ', arr_x_train.shape[0])\n",
        "print('Validation samples: ', arr_x_valid.shape[0])"
      ],
      "execution_count": 0,
      "outputs": [
        {
          "output_type": "stream",
          "text": [
            "Training shape: (168471, 10)\n",
            "Training samples:  168471\n",
            "Validation samples:  72201\n"
          ],
          "name": "stdout"
        }
      ]
    },
    {
      "cell_type": "markdown",
      "metadata": {
        "id": "GpV95R7pIP4D",
        "colab_type": "text"
      },
      "source": [
        "Initialize three Keras models "
      ]
    },
    {
      "cell_type": "code",
      "metadata": {
        "id": "azCEHmKvIP4H",
        "colab_type": "code",
        "colab": {}
      },
      "source": [
        "def basic_model_1(x_size, y_size):\n",
        "    t_model = Sequential()\n",
        "    t_model.add(Dense(100, activation=\"tanh\", input_shape=(x_size,)))\n",
        "    t_model.add(Dense(50, activation=\"relu\"))\n",
        "    t_model.add(Dense(y_size))\n",
        "    print(t_model.summary())\n",
        "    t_model.compile(loss='mean_squared_error',\n",
        "        optimizer=Adam(),\n",
        "        metrics=[metrics.mae])\n",
        "    return(t_model)"
      ],
      "execution_count": 0,
      "outputs": []
    },
    {
      "cell_type": "code",
      "metadata": {
        "id": "eF_6xuDjIP4J",
        "colab_type": "code",
        "colab": {}
      },
      "source": [
        "def basic_model_2(x_size, y_size):\n",
        "    t_model = Sequential()\n",
        "    t_model.add(Dense(100, activation=\"tanh\", input_shape=(x_size,)))\n",
        "    t_model.add(Dropout(0.1))\n",
        "    t_model.add(Dense(50, activation=\"relu\"))\n",
        "    t_model.add(Dense(20, activation=\"relu\"))\n",
        "    t_model.add(Dense(y_size))\n",
        "    print(t_model.summary())\n",
        "    t_model.compile(loss='mean_squared_error',\n",
        "        optimizer=Adam(),\n",
        "        metrics=[metrics.mae])\n",
        "    return(t_model)"
      ],
      "execution_count": 0,
      "outputs": []
    },
    {
      "cell_type": "code",
      "metadata": {
        "id": "IqNfy_jtIP4K",
        "colab_type": "code",
        "colab": {}
      },
      "source": [
        "def basic_model_3(x_size, y_size):\n",
        "    t_model = Sequential()\n",
        "    t_model.add(Dense(80, activation=\"tanh\", kernel_initializer='normal', input_shape=(x_size,)))\n",
        "    t_model.add(Dropout(0.2))\n",
        "    t_model.add(Dense(120, activation=\"relu\", kernel_initializer='normal', \n",
        "        kernel_regularizer=regularizers.l1(0.01), bias_regularizer=regularizers.l1(0.01)))\n",
        "    t_model.add(Dropout(0.1))\n",
        "    t_model.add(Dense(20, activation=\"relu\", kernel_initializer='normal', \n",
        "        kernel_regularizer=regularizers.l1_l2(0.01), bias_regularizer=regularizers.l1_l2(0.01)))\n",
        "    t_model.add(Dropout(0.1))\n",
        "    t_model.add(Dense(10, activation=\"relu\", kernel_initializer='normal'))\n",
        "    t_model.add(Dropout(0.0))\n",
        "    t_model.add(Dense(y_size))\n",
        "    t_model.compile(\n",
        "        loss='mean_squared_error',\n",
        "        optimizer='nadam',\n",
        "        metrics=[metrics.mae])\n",
        "    return(t_model)"
      ],
      "execution_count": 0,
      "outputs": []
    },
    {
      "cell_type": "markdown",
      "metadata": {
        "id": "U4JLKQqvIP4L",
        "colab_type": "text"
      },
      "source": [
        "Create the Keras model"
      ]
    },
    {
      "cell_type": "code",
      "metadata": {
        "id": "j_lAaq-zIP4M",
        "colab_type": "code",
        "outputId": "cd0ca71a-c1c9-44fd-ebd8-89c741bffc04",
        "colab": {
          "base_uri": "https://localhost:8080/",
          "height": 747
        }
      },
      "source": [
        "model = basic_model_3(arr_x_train.shape[1], arr_y_train.shape[1])\n",
        "model.summary()"
      ],
      "execution_count": 0,
      "outputs": [
        {
          "output_type": "stream",
          "text": [
            "WARNING:tensorflow:From /usr/local/lib/python3.6/dist-packages/keras/backend/tensorflow_backend.py:66: The name tf.get_default_graph is deprecated. Please use tf.compat.v1.get_default_graph instead.\n",
            "\n",
            "WARNING:tensorflow:From /usr/local/lib/python3.6/dist-packages/keras/backend/tensorflow_backend.py:541: The name tf.placeholder is deprecated. Please use tf.compat.v1.placeholder instead.\n",
            "\n",
            "WARNING:tensorflow:From /usr/local/lib/python3.6/dist-packages/keras/backend/tensorflow_backend.py:4409: The name tf.random_normal is deprecated. Please use tf.random.normal instead.\n",
            "\n",
            "WARNING:tensorflow:From /usr/local/lib/python3.6/dist-packages/keras/backend/tensorflow_backend.py:148: The name tf.placeholder_with_default is deprecated. Please use tf.compat.v1.placeholder_with_default instead.\n",
            "\n",
            "WARNING:tensorflow:From /usr/local/lib/python3.6/dist-packages/keras/backend/tensorflow_backend.py:3733: calling dropout (from tensorflow.python.ops.nn_ops) with keep_prob is deprecated and will be removed in a future version.\n",
            "Instructions for updating:\n",
            "Please use `rate` instead of `keep_prob`. Rate should be set to `rate = 1 - keep_prob`.\n",
            "WARNING:tensorflow:From /usr/local/lib/python3.6/dist-packages/keras/backend/tensorflow_backend.py:4432: The name tf.random_uniform is deprecated. Please use tf.random.uniform instead.\n",
            "\n",
            "WARNING:tensorflow:From /usr/local/lib/python3.6/dist-packages/keras/optimizers.py:793: The name tf.train.Optimizer is deprecated. Please use tf.compat.v1.train.Optimizer instead.\n",
            "\n",
            "Model: \"sequential_1\"\n",
            "_________________________________________________________________\n",
            "Layer (type)                 Output Shape              Param #   \n",
            "=================================================================\n",
            "dense_1 (Dense)              (None, 80)                880       \n",
            "_________________________________________________________________\n",
            "dropout_1 (Dropout)          (None, 80)                0         \n",
            "_________________________________________________________________\n",
            "dense_2 (Dense)              (None, 120)               9720      \n",
            "_________________________________________________________________\n",
            "dropout_2 (Dropout)          (None, 120)               0         \n",
            "_________________________________________________________________\n",
            "dense_3 (Dense)              (None, 20)                2420      \n",
            "_________________________________________________________________\n",
            "dropout_3 (Dropout)          (None, 20)                0         \n",
            "_________________________________________________________________\n",
            "dense_4 (Dense)              (None, 10)                210       \n",
            "_________________________________________________________________\n",
            "dropout_4 (Dropout)          (None, 10)                0         \n",
            "_________________________________________________________________\n",
            "dense_5 (Dense)              (None, 1)                 11        \n",
            "=================================================================\n",
            "Total params: 13,241\n",
            "Trainable params: 13,241\n",
            "Non-trainable params: 0\n",
            "_________________________________________________________________\n"
          ],
          "name": "stdout"
        }
      ]
    },
    {
      "cell_type": "markdown",
      "metadata": {
        "id": "jpTmRKzcIP4N",
        "colab_type": "text"
      },
      "source": [
        "Fit the Keras model"
      ]
    },
    {
      "cell_type": "code",
      "metadata": {
        "id": "AIcGPLnYIP4O",
        "colab_type": "code",
        "outputId": "0889dd65-17a3-4906-fc03-02925d61a2e3",
        "colab": {
          "base_uri": "https://localhost:8080/",
          "height": 51
        }
      },
      "source": [
        "\n",
        "\n",
        "epochs = 500\n",
        "batch_size = 128\n",
        "\n",
        "print('Epochs: ', epochs)\n",
        "print('Batch size: ', batch_size)\n",
        "\n"
      ],
      "execution_count": 0,
      "outputs": [
        {
          "output_type": "stream",
          "text": [
            "Epochs:  500\n",
            "Batch size:  128\n"
          ],
          "name": "stdout"
        }
      ]
    },
    {
      "cell_type": "code",
      "metadata": {
        "id": "lMLa5UZLIP4P",
        "colab_type": "code",
        "colab": {}
      },
      "source": [
        "keras_callbacks = [\n",
        "    # ModelCheckpoint('/tmp/keras_checkpoints/model.{epoch:02d}-{val_loss:.2f}.hdf5', monitor='val_loss', save_best_only=True, verbose=2)\n",
        "    # ModelCheckpoint('/tmp/keras_checkpoints/model.{epoch:02d}.hdf5', monitor='val_loss', save_best_only=True, verbose=0)\n",
        "    # TensorBoard(log_dir='/tmp/keras_logs/model_3', histogram_freq=0, write_graph=True, write_images=True, embeddings_freq=0, embeddings_layer_names=None, embeddings_metadata=None),\n",
        "    EarlyStopping(monitor='val_mean_absolute_error', patience=20, verbose=0)\n",
        "]"
      ],
      "execution_count": 0,
      "outputs": []
    },
    {
      "cell_type": "markdown",
      "metadata": {
        "id": "_aRENUVnIP4T",
        "colab_type": "text"
      },
      "source": [
        "Fit the model"
      ]
    },
    {
      "cell_type": "code",
      "metadata": {
        "id": "K1AtthtoIP4U",
        "colab_type": "code",
        "outputId": "1c54a312-bac4-46ca-cb8b-0a9aa22357e0",
        "colab": {
          "base_uri": "https://localhost:8080/",
          "height": 314
        }
      },
      "source": [
        "history = model.fit(arr_x_train, arr_y_train,\n",
        "    batch_size=batch_size,\n",
        "    epochs=epochs,\n",
        "    shuffle=True,\n",
        "    verbose=0, # Change it to 2, if wished to observe execution\n",
        "    validation_data=(arr_x_valid, arr_y_valid),\n",
        "    callbacks=keras_callbacks)"
      ],
      "execution_count": 0,
      "outputs": [
        {
          "output_type": "stream",
          "text": [
            "WARNING:tensorflow:From /usr/local/lib/python3.6/dist-packages/keras/backend/tensorflow_backend.py:1033: The name tf.assign_add is deprecated. Please use tf.compat.v1.assign_add instead.\n",
            "\n",
            "WARNING:tensorflow:From /usr/local/lib/python3.6/dist-packages/keras/backend/tensorflow_backend.py:1020: The name tf.assign is deprecated. Please use tf.compat.v1.assign instead.\n",
            "\n",
            "WARNING:tensorflow:From /usr/local/lib/python3.6/dist-packages/keras/backend/tensorflow_backend.py:3005: The name tf.Session is deprecated. Please use tf.compat.v1.Session instead.\n",
            "\n",
            "WARNING:tensorflow:From /usr/local/lib/python3.6/dist-packages/keras/backend/tensorflow_backend.py:190: The name tf.get_default_session is deprecated. Please use tf.compat.v1.get_default_session instead.\n",
            "\n",
            "WARNING:tensorflow:From /usr/local/lib/python3.6/dist-packages/keras/backend/tensorflow_backend.py:197: The name tf.ConfigProto is deprecated. Please use tf.compat.v1.ConfigProto instead.\n",
            "\n",
            "WARNING:tensorflow:From /usr/local/lib/python3.6/dist-packages/keras/backend/tensorflow_backend.py:207: The name tf.global_variables is deprecated. Please use tf.compat.v1.global_variables instead.\n",
            "\n",
            "WARNING:tensorflow:From /usr/local/lib/python3.6/dist-packages/keras/backend/tensorflow_backend.py:216: The name tf.is_variable_initialized is deprecated. Please use tf.compat.v1.is_variable_initialized instead.\n",
            "\n",
            "WARNING:tensorflow:From /usr/local/lib/python3.6/dist-packages/keras/backend/tensorflow_backend.py:223: The name tf.variables_initializer is deprecated. Please use tf.compat.v1.variables_initializer instead.\n",
            "\n"
          ],
          "name": "stdout"
        }
      ]
    },
    {
      "cell_type": "code",
      "metadata": {
        "id": "aO9gnC79IP4X",
        "colab_type": "code",
        "outputId": "c6caa5a1-751c-48ed-97cb-bd8e0a57708b",
        "colab": {
          "base_uri": "https://localhost:8080/",
          "height": 51
        }
      },
      "source": [
        "train_score = model.evaluate(arr_x_train, arr_y_train, verbose=0)\n",
        "valid_score = model.evaluate(arr_x_valid, arr_y_valid, verbose=0)\n",
        "\n",
        "print('Train MAE: ', round(train_score[1], 4), ', Train Loss: ', round(train_score[0], 4)) \n",
        "print('Val MAE: ', round(valid_score[1], 4), ', Val Loss: ', round(valid_score[0], 4))"
      ],
      "execution_count": 0,
      "outputs": [
        {
          "output_type": "stream",
          "text": [
            "Train MAE:  12633.9455 , Train Loss:  928414228.5042\n",
            "Val MAE:  12924.5073 , Val Loss:  1519942653.4387\n"
          ],
          "name": "stdout"
        }
      ]
    },
    {
      "cell_type": "markdown",
      "metadata": {
        "id": "_1RlgAsuIP4Z",
        "colab_type": "text"
      },
      "source": [
        "Function to plot the training history"
      ]
    },
    {
      "cell_type": "code",
      "metadata": {
        "id": "e0RrlHEuIP4Z",
        "colab_type": "code",
        "colab": {}
      },
      "source": [
        "def plot_hist(h, xsize=6, ysize=10):\n",
        "    # Prepare plotting\n",
        "    fig_size = plt.rcParams[\"figure.figsize\"]\n",
        "    plt.rcParams[\"figure.figsize\"] = [xsize, ysize]\n",
        "    fig, axes = plt.subplots(nrows=4, ncols=4, sharex=True)\n",
        "    \n",
        "    # summarize history for MAE\n",
        "    plt.subplot(211)\n",
        "    plt.plot(h['mean_absolute_error'])\n",
        "    plt.plot(h['val_mean_absolute_error'])\n",
        "    plt.title('Training vs Validation MAE')\n",
        "    plt.ylabel('MAE')\n",
        "    plt.xlabel('Epoch')\n",
        "    plt.legend(['Train', 'Validation'], loc='upper left')\n",
        "    \n",
        "    # summarize history for loss\n",
        "    plt.subplot(212)\n",
        "    plt.plot(h['loss'])\n",
        "    plt.plot(h['val_loss'])\n",
        "    plt.title('Training vs Validation Loss')\n",
        "    plt.ylabel('Loss')\n",
        "    plt.xlabel('Epoch')\n",
        "    plt.legend(['Train', 'Validation'], loc='upper left')\n",
        "    \n",
        "    # Plot it all in IPython (non-interactive)\n",
        "    plt.draw()\n",
        "    plt.show()\n",
        "\n",
        "    return"
      ],
      "execution_count": 0,
      "outputs": []
    },
    {
      "cell_type": "markdown",
      "metadata": {
        "id": "boIdUYR1IP4b",
        "colab_type": "text"
      },
      "source": [
        "Plot the training history"
      ]
    },
    {
      "cell_type": "markdown",
      "metadata": {
        "id": "n8ejsnvrIP4c",
        "colab_type": "text"
      },
      "source": [
        "Training error after 500 epochs versus training error for the last batch after model improvement"
      ]
    },
    {
      "cell_type": "markdown",
      "metadata": {
        "id": "L0FqFFE8IP4c",
        "colab_type": "text"
      },
      "source": [
        "The difference between the \"ground truth\" and predicted house prices (e.g., mean absolute error) is approximately 10K"
      ]
    },
    {
      "cell_type": "markdown",
      "metadata": {
        "id": "2Gc_Gn6nIP4d",
        "colab_type": "text"
      },
      "source": [
        "The loss function helped to improve the performance of the model"
      ]
    },
    {
      "cell_type": "code",
      "metadata": {
        "id": "IbO3dL4AIP4e",
        "colab_type": "code",
        "outputId": "11376d0c-a2e0-4b37-a6b7-870292e9ab93",
        "colab": {
          "base_uri": "https://localhost:8080/",
          "height": 730
        }
      },
      "source": [
        "plot_hist(history.history, xsize=8, ysize=12)"
      ],
      "execution_count": 0,
      "outputs": [
        {
          "output_type": "display_data",
          "data": {
            "image/png": "[encoded data removed]",
            "text/plain": [
              "<Figure size 576x864 with 2 Axes>"
            ]
          },
          "metadata": {
            "tags": []
          }
        }
      ]
    },
    {
      "cell_type": "markdown",
      "metadata": {
        "id": "gDqg_tVWItRH",
        "colab_type": "text"
      },
      "source": [
        "**House Prediction Using Time Series Model**"
      ]
    },
    {
      "cell_type": "code",
      "metadata": {
        "id": "UqTn1jzMIj6L",
        "colab_type": "code",
        "outputId": "aa18afa7-5ab4-4bf5-9db8-d6fa4c161c25",
        "colab": {
          "base_uri": "https://localhost:8080/",
          "height": 759
        }
      },
      "source": [
        "#Read in the clean file\n",
        "path_F = \"/content/drive/My Drive/IST718_Project/Data/RealAlyze_2010to2017_PostCleaning.csv\"\n",
        "RE_Final_S = pd.read_csv(path_F)\n",
        "\n",
        "#Read in postal code details\n",
        "path_C = \"/content/drive/My Drive/IST718_Project/Data/ca_postal_codes.csv\"\n",
        "postal_cd_data = pd.read_csv(path_C)\n",
        "postal_cd_data = postal_cd_data.rename(columns={'Postal Code':'PostalCode_3'})\n",
        "postal_cd_data['PostalCode_3'] = postal_cd_data['PostalCode_3'].str.lower()\n",
        "\n",
        "# Append additional details to postal codes\n",
        "RE_Final_S['PostalCode_3'] = RE_Final_S['PostalCode'].str.slice(0,3)\n",
        "RE_Final_S = RE_Final_S.merge(postal_cd_data,on='PostalCode_3')\n",
        "RE_Final_S.head()"
      ],
      "execution_count": 0,
      "outputs": [
        {
          "output_type": "execute_result",
          "data": {
            "text/html": [
              "<div>\n",
              "<style scoped>\n",
              "    .dataframe tbody tr th:only-of-type {\n",
              "        vertical-align: middle;\n",
              "    }\n",
              "\n",
              "    .dataframe tbody tr th {\n",
              "        vertical-align: top;\n",
              "    }\n",
              "\n",
              "    .dataframe thead th {\n",
              "        text-align: right;\n",
              "    }\n",
              "</style>\n",
              "<table border=\"1\" class=\"dataframe\">\n",
              "  <thead>\n",
              "    <tr style=\"text-align: right;\">\n",
              "      <th></th>\n",
              "      <th>AirCond</th>\n",
              "      <th>Address</th>\n",
              "      <th>CompUnitNo</th>\n",
              "      <th>Area</th>\n",
              "      <th>Washrooms</th>\n",
              "      <th>Bedrooms</th>\n",
              "      <th>Den</th>\n",
              "      <th>SoldDate</th>\n",
              "      <th>Exposure</th>\n",
              "      <th>Province_x</th>\n",
              "      <th>Dir_CrossStreets</th>\n",
              "      <th>DaysOnMarket</th>\n",
              "      <th>HeatSource</th>\n",
              "      <th>ListingEntryDate</th>\n",
              "      <th>LaundryLevel</th>\n",
              "      <th>ListPrice</th>\n",
              "      <th>LastStatus</th>\n",
              "      <th>MainFee</th>\n",
              "      <th>MLNum</th>\n",
              "      <th>Kitchens</th>\n",
              "      <th>OrigPrice</th>\n",
              "      <th>ParkingType</th>\n",
              "      <th>ParkingSpaces</th>\n",
              "      <th>Balcony</th>\n",
              "      <th>Rooms</th>\n",
              "      <th>Sale/Lease</th>\n",
              "      <th>SoldPrice</th>\n",
              "      <th>SqFootage</th>\n",
              "      <th>FloorNo</th>\n",
              "      <th>Style</th>\n",
              "      <th>Taxes</th>\n",
              "      <th>ClosedDate</th>\n",
              "      <th>Type</th>\n",
              "      <th>WaterIncl</th>\n",
              "      <th>Age</th>\n",
              "      <th>PostalCode</th>\n",
              "      <th>SoldYear</th>\n",
              "      <th>SoldMonth</th>\n",
              "      <th>SoldDay</th>\n",
              "      <th>PostalCode_3</th>\n",
              "      <th>Place Name</th>\n",
              "      <th>Province_y</th>\n",
              "      <th>Latitude</th>\n",
              "      <th>Longitude</th>\n",
              "      <th>Unnamed: 5</th>\n",
              "      <th>Unnamed: 6</th>\n",
              "    </tr>\n",
              "  </thead>\n",
              "  <tbody>\n",
              "    <tr>\n",
              "      <th>0</th>\n",
              "      <td>central air</td>\n",
              "      <td>600fleetst</td>\n",
              "      <td>504</td>\n",
              "      <td>toronto</td>\n",
              "      <td>1.0</td>\n",
              "      <td>1.0</td>\n",
              "      <td>1.0</td>\n",
              "      <td>2010-01-06</td>\n",
              "      <td>e</td>\n",
              "      <td>ontario</td>\n",
              "      <td>lakeshorebathurstst</td>\n",
              "      <td>158.0</td>\n",
              "      <td>gas</td>\n",
              "      <td>8/1/2009 0:00</td>\n",
              "      <td>unknown</td>\n",
              "      <td>319000.0</td>\n",
              "      <td>sld</td>\n",
              "      <td>320.46</td>\n",
              "      <td>c1677165</td>\n",
              "      <td>1.0</td>\n",
              "      <td>299000.0</td>\n",
              "      <td>none</td>\n",
              "      <td>0.0</td>\n",
              "      <td>open</td>\n",
              "      <td>4.0</td>\n",
              "      <td>sale</td>\n",
              "      <td>290000.0</td>\n",
              "      <td>500-699</td>\n",
              "      <td>5</td>\n",
              "      <td>apartment</td>\n",
              "      <td>0.00</td>\n",
              "      <td>2010-02-01 00:00:00</td>\n",
              "      <td>condo apartment</td>\n",
              "      <td>y</td>\n",
              "      <td>zero to five</td>\n",
              "      <td>m5v1b7</td>\n",
              "      <td>2010</td>\n",
              "      <td>1</td>\n",
              "      <td>6</td>\n",
              "      <td>m5v</td>\n",
              "      <td>Downtown Toronto (CN Tower / King and Spadina ...</td>\n",
              "      <td>ON</td>\n",
              "      <td>43.6404</td>\n",
              "      <td>-79.3995</td>\n",
              "      <td>NaN</td>\n",
              "      <td>NaN</td>\n",
              "    </tr>\n",
              "    <tr>\n",
              "      <th>1</th>\n",
              "      <td>central air</td>\n",
              "      <td>55bremnerblvd</td>\n",
              "      <td>2109</td>\n",
              "      <td>toronto</td>\n",
              "      <td>1.0</td>\n",
              "      <td>1.0</td>\n",
              "      <td>0.0</td>\n",
              "      <td>2010-01-28</td>\n",
              "      <td>e</td>\n",
              "      <td>ontario</td>\n",
              "      <td>yorkbremner</td>\n",
              "      <td>108.0</td>\n",
              "      <td>gas</td>\n",
              "      <td>10/14/2009 0:00</td>\n",
              "      <td>unknown</td>\n",
              "      <td>376900.0</td>\n",
              "      <td>sld</td>\n",
              "      <td>270.00</td>\n",
              "      <td>c1722935</td>\n",
              "      <td>1.0</td>\n",
              "      <td>376900.0</td>\n",
              "      <td>owned</td>\n",
              "      <td>0.0</td>\n",
              "      <td>open</td>\n",
              "      <td>3.0</td>\n",
              "      <td>sale</td>\n",
              "      <td>409400.0</td>\n",
              "      <td>unknown</td>\n",
              "      <td>14</td>\n",
              "      <td>apartment</td>\n",
              "      <td>0.00</td>\n",
              "      <td>2010-05-17 00:00:00</td>\n",
              "      <td>condo apartment</td>\n",
              "      <td>y</td>\n",
              "      <td>new</td>\n",
              "      <td>m5v0a1</td>\n",
              "      <td>2010</td>\n",
              "      <td>1</td>\n",
              "      <td>28</td>\n",
              "      <td>m5v</td>\n",
              "      <td>Downtown Toronto (CN Tower / King and Spadina ...</td>\n",
              "      <td>ON</td>\n",
              "      <td>43.6404</td>\n",
              "      <td>-79.3995</td>\n",
              "      <td>NaN</td>\n",
              "      <td>NaN</td>\n",
              "    </tr>\n",
              "    <tr>\n",
              "      <th>2</th>\n",
              "      <td>central air</td>\n",
              "      <td>250wellingtonstw</td>\n",
              "      <td>132</td>\n",
              "      <td>toronto</td>\n",
              "      <td>1.0</td>\n",
              "      <td>1.0</td>\n",
              "      <td>0.0</td>\n",
              "      <td>2010-01-08</td>\n",
              "      <td>s</td>\n",
              "      <td>ontario</td>\n",
              "      <td>johnwellington</td>\n",
              "      <td>86.0</td>\n",
              "      <td>gas</td>\n",
              "      <td>10/14/2009 0:00</td>\n",
              "      <td>unknown</td>\n",
              "      <td>429900.0</td>\n",
              "      <td>sld</td>\n",
              "      <td>453.27</td>\n",
              "      <td>c1723605</td>\n",
              "      <td>1.0</td>\n",
              "      <td>429900.0</td>\n",
              "      <td>owned</td>\n",
              "      <td>1.0</td>\n",
              "      <td>terr</td>\n",
              "      <td>3.0</td>\n",
              "      <td>sale</td>\n",
              "      <td>401000.0</td>\n",
              "      <td>700-899</td>\n",
              "      <td>1</td>\n",
              "      <td>apartment</td>\n",
              "      <td>2425.44</td>\n",
              "      <td>2010-03-26 00:00:00</td>\n",
              "      <td>condo apartment</td>\n",
              "      <td>y</td>\n",
              "      <td>zero to five</td>\n",
              "      <td>m5v3p6</td>\n",
              "      <td>2010</td>\n",
              "      <td>1</td>\n",
              "      <td>8</td>\n",
              "      <td>m5v</td>\n",
              "      <td>Downtown Toronto (CN Tower / King and Spadina ...</td>\n",
              "      <td>ON</td>\n",
              "      <td>43.6404</td>\n",
              "      <td>-79.3995</td>\n",
              "      <td>NaN</td>\n",
              "      <td>NaN</td>\n",
              "    </tr>\n",
              "    <tr>\n",
              "      <th>3</th>\n",
              "      <td>central air</td>\n",
              "      <td>11brunelcrt</td>\n",
              "      <td>4809</td>\n",
              "      <td>toronto</td>\n",
              "      <td>1.0</td>\n",
              "      <td>1.0</td>\n",
              "      <td>0.0</td>\n",
              "      <td>2010-01-07</td>\n",
              "      <td>e</td>\n",
              "      <td>ontario</td>\n",
              "      <td>spadinaandfrontqew</td>\n",
              "      <td>70.0</td>\n",
              "      <td>gas</td>\n",
              "      <td>10/29/2009 0:00</td>\n",
              "      <td>main</td>\n",
              "      <td>279000.0</td>\n",
              "      <td>sld</td>\n",
              "      <td>218.88</td>\n",
              "      <td>c1732970</td>\n",
              "      <td>1.0</td>\n",
              "      <td>298000.0</td>\n",
              "      <td>none</td>\n",
              "      <td>0.0</td>\n",
              "      <td>none</td>\n",
              "      <td>3.0</td>\n",
              "      <td>sale</td>\n",
              "      <td>258000.0</td>\n",
              "      <td>unknown</td>\n",
              "      <td>42</td>\n",
              "      <td>apartment</td>\n",
              "      <td>0.00</td>\n",
              "      <td>2010-02-26 00:00:00</td>\n",
              "      <td>condo apartment</td>\n",
              "      <td>y</td>\n",
              "      <td>zero to five</td>\n",
              "      <td>m5v3y3</td>\n",
              "      <td>2010</td>\n",
              "      <td>1</td>\n",
              "      <td>7</td>\n",
              "      <td>m5v</td>\n",
              "      <td>Downtown Toronto (CN Tower / King and Spadina ...</td>\n",
              "      <td>ON</td>\n",
              "      <td>43.6404</td>\n",
              "      <td>-79.3995</td>\n",
              "      <td>NaN</td>\n",
              "      <td>NaN</td>\n",
              "    </tr>\n",
              "    <tr>\n",
              "      <th>4</th>\n",
              "      <td>central air</td>\n",
              "      <td>36bluejaysway</td>\n",
              "      <td>1307</td>\n",
              "      <td>toronto</td>\n",
              "      <td>2.0</td>\n",
              "      <td>1.0</td>\n",
              "      <td>1.0</td>\n",
              "      <td>2010-01-17</td>\n",
              "      <td>e</td>\n",
              "      <td>ontario</td>\n",
              "      <td>wellingtonbluejays</td>\n",
              "      <td>80.0</td>\n",
              "      <td>gas</td>\n",
              "      <td>10/29/2009 0:00</td>\n",
              "      <td>unknown</td>\n",
              "      <td>379000.0</td>\n",
              "      <td>sld</td>\n",
              "      <td>651.19</td>\n",
              "      <td>c1733027</td>\n",
              "      <td>1.0</td>\n",
              "      <td>379000.0</td>\n",
              "      <td>none</td>\n",
              "      <td>0.0</td>\n",
              "      <td>none</td>\n",
              "      <td>5.0</td>\n",
              "      <td>sale</td>\n",
              "      <td>365000.0</td>\n",
              "      <td>900-1099</td>\n",
              "      <td>13</td>\n",
              "      <td>apartment</td>\n",
              "      <td>2767.35</td>\n",
              "      <td>2010-02-01 00:00:00</td>\n",
              "      <td>condo apartment</td>\n",
              "      <td>y</td>\n",
              "      <td>unknown</td>\n",
              "      <td>m5v3t3</td>\n",
              "      <td>2010</td>\n",
              "      <td>1</td>\n",
              "      <td>17</td>\n",
              "      <td>m5v</td>\n",
              "      <td>Downtown Toronto (CN Tower / King and Spadina ...</td>\n",
              "      <td>ON</td>\n",
              "      <td>43.6404</td>\n",
              "      <td>-79.3995</td>\n",
              "      <td>NaN</td>\n",
              "      <td>NaN</td>\n",
              "    </tr>\n",
              "  </tbody>\n",
              "</table>\n",
              "</div>"
            ],
            "text/plain": [
              "       AirCond           Address CompUnitNo  ... Longitude  Unnamed: 5  Unnamed: 6\n",
              "0  central air        600fleetst        504  ...  -79.3995         NaN         NaN\n",
              "1  central air     55bremnerblvd       2109  ...  -79.3995         NaN         NaN\n",
              "2  central air  250wellingtonstw        132  ...  -79.3995         NaN         NaN\n",
              "3  central air       11brunelcrt       4809  ...  -79.3995         NaN         NaN\n",
              "4  central air     36bluejaysway       1307  ...  -79.3995         NaN         NaN\n",
              "\n",
              "[5 rows x 46 columns]"
            ]
          },
          "metadata": {
            "tags": []
          },
          "execution_count": 59
        }
      ]
    },
    {
      "cell_type": "code",
      "metadata": {
        "id": "l1ZcvpAAIzXj",
        "colab_type": "code",
        "colab": {}
      },
      "source": [
        "from pandas.plotting import lag_plot, autocorrelation_plot\n",
        "from statsmodels.graphics.tsaplots import plot_acf\n",
        "from sklearn.metrics import mean_squared_error, mean_absolute_error\n",
        "from statsmodels.tsa.statespace.sarimax import SARIMAX\n",
        "import datetime\n",
        "import warnings\n",
        "from statsmodels.tsa.ar_model import AR\n",
        "import matplotlib.ticker as ticker"
      ],
      "execution_count": 0,
      "outputs": []
    },
    {
      "cell_type": "markdown",
      "metadata": {
        "id": "QtAc8MSXKjrY",
        "colab_type": "text"
      },
      "source": [
        "With the limited number of home sales in a given zip code each month, the data is summarized at a 3 digit zip code and quarterly level to provide a more stable data set to analyze.  Temporal and spatial data require aggregation at some level prior to analysis which will certainly introduce some intrinsic variability."
      ]
    },
    {
      "cell_type": "code",
      "metadata": {
        "id": "4LxnWS-WI6ob",
        "colab_type": "code",
        "outputId": "5d8296a6-dcbd-4424-b3ff-e22e277398ee",
        "colab": {
          "base_uri": "https://localhost:8080/",
          "height": 202
        }
      },
      "source": [
        "# Prepare data for time series analysis\n",
        "\n",
        "# Remove any Postal Codes that are not 6 characters\n",
        "RE_ts_data = RE_Final_S[RE_Final_S['PostalCode'].str.len()==6]\n",
        "\n",
        "#Remove any invalid zip codes\n",
        "RE_ts_data = RE_ts_data[~RE_ts_data['PostalCode'].isin(['******','------','.0.0.0'])]\n",
        "\n",
        "# Add a column that represents the quarter in which the home was sold\n",
        "RE_ts_data['SoldQtr'] = pd.to_datetime(RE_ts_data['SoldDate']).dt.quarter\n",
        "\n",
        "# Group the zip codes by year and month and calculate the average\n",
        "RE_ts_data = RE_ts_data.groupby(by=['PostalCode_3','SoldYear','SoldQtr'],as_index=False)[['SoldPrice']].mean()\n",
        "\n",
        "# Combine the year and month into one column\n",
        "RE_ts_data['Yr-Qtr'] = RE_ts_data['SoldYear'].astype(str) + '-Q' + RE_ts_data['SoldQtr'].astype(str)\n",
        "\n",
        "RE_ts_data.head()"
      ],
      "execution_count": 0,
      "outputs": [
        {
          "output_type": "execute_result",
          "data": {
            "text/html": [
              "<div>\n",
              "<style scoped>\n",
              "    .dataframe tbody tr th:only-of-type {\n",
              "        vertical-align: middle;\n",
              "    }\n",
              "\n",
              "    .dataframe tbody tr th {\n",
              "        vertical-align: top;\n",
              "    }\n",
              "\n",
              "    .dataframe thead th {\n",
              "        text-align: right;\n",
              "    }\n",
              "</style>\n",
              "<table border=\"1\" class=\"dataframe\">\n",
              "  <thead>\n",
              "    <tr style=\"text-align: right;\">\n",
              "      <th></th>\n",
              "      <th>PostalCode_3</th>\n",
              "      <th>SoldYear</th>\n",
              "      <th>SoldQtr</th>\n",
              "      <th>SoldPrice</th>\n",
              "      <th>Yr-Qtr</th>\n",
              "    </tr>\n",
              "  </thead>\n",
              "  <tbody>\n",
              "    <tr>\n",
              "      <th>0</th>\n",
              "      <td>a1a</td>\n",
              "      <td>2011</td>\n",
              "      <td>2</td>\n",
              "      <td>379000.0</td>\n",
              "      <td>2011-Q2</td>\n",
              "    </tr>\n",
              "    <tr>\n",
              "      <th>1</th>\n",
              "      <td>h2n</td>\n",
              "      <td>2015</td>\n",
              "      <td>1</td>\n",
              "      <td>575000.0</td>\n",
              "      <td>2015-Q1</td>\n",
              "    </tr>\n",
              "    <tr>\n",
              "      <th>2</th>\n",
              "      <td>h2n</td>\n",
              "      <td>2016</td>\n",
              "      <td>1</td>\n",
              "      <td>598000.0</td>\n",
              "      <td>2016-Q1</td>\n",
              "    </tr>\n",
              "    <tr>\n",
              "      <th>3</th>\n",
              "      <td>h3n</td>\n",
              "      <td>2010</td>\n",
              "      <td>3</td>\n",
              "      <td>125000.0</td>\n",
              "      <td>2010-Q3</td>\n",
              "    </tr>\n",
              "    <tr>\n",
              "      <th>4</th>\n",
              "      <td>j5m</td>\n",
              "      <td>2012</td>\n",
              "      <td>1</td>\n",
              "      <td>220000.0</td>\n",
              "      <td>2012-Q1</td>\n",
              "    </tr>\n",
              "  </tbody>\n",
              "</table>\n",
              "</div>"
            ],
            "text/plain": [
              "  PostalCode_3  SoldYear  SoldQtr  SoldPrice   Yr-Qtr\n",
              "0          a1a      2011        2   379000.0  2011-Q2\n",
              "1          h2n      2015        1   575000.0  2015-Q1\n",
              "2          h2n      2016        1   598000.0  2016-Q1\n",
              "3          h3n      2010        3   125000.0  2010-Q3\n",
              "4          j5m      2012        1   220000.0  2012-Q1"
            ]
          },
          "metadata": {
            "tags": []
          },
          "execution_count": 61
        }
      ]
    },
    {
      "cell_type": "markdown",
      "metadata": {
        "id": "_xHVk7f6Kr4D",
        "colab_type": "text"
      },
      "source": [
        "The graphs below show a managable and tighter range of values for each quarter, providing some stability for modeling. Additionally the charts below show a relatively steady increase in the sales prices with a more significant spike in the most recent two quarters"
      ]
    },
    {
      "cell_type": "code",
      "metadata": {
        "id": "GO57ldOGI8a8",
        "colab_type": "code",
        "outputId": "bb55781c-2b1c-4b09-c692-fe51791744ae",
        "colab": {
          "base_uri": "https://localhost:8080/",
          "height": 1000
        }
      },
      "source": [
        "# List of zips with at least 12 Quarters of data\n",
        "RE_temp = RE_ts_data.groupby(by='PostalCode_3').count()\n",
        "valid_zips = RE_temp[RE_temp['SoldPrice']>=12].index.values\n",
        "\n",
        "# Data Views Over Time\n",
        "sns.boxplot(x='Yr-Qtr',y='SoldPrice',data=RE_ts_data[RE_ts_data['PostalCode_3'].isin(valid_zips)])\n",
        "\n",
        "loc,labels3 = plt.xticks()\n",
        "ax.set_xticklabels(labels3, rotation=30)\n",
        "\n",
        "RE_yr_qtr_agg = RE_ts_data.groupby('Yr-Qtr').describe()['SoldPrice']\n",
        "fig, ax = plt.subplots()\n",
        "ax.xaxis.set_major_locator(ticker.MultipleLocator(25))\n",
        "sns.barplot(x=RE_yr_qtr_agg.index,y='50%',data=RE_yr_qtr_agg)\n",
        "\n",
        "plt.show()"
      ],
      "execution_count": 0,
      "outputs": [
        {
          "output_type": "display_data",
          "data": {
            "image/png": "[encoded data removed]",
            "text/plain": [
              "<Figure size 576x864 with 1 Axes>"
            ]
          },
          "metadata": {
            "tags": []
          }
        },
        {
          "output_type": "display_data",
          "data": {
            "image/png": "[encoded data removed]",
            "text/plain": [
              "<Figure size 576x864 with 1 Axes>"
            ]
          },
          "metadata": {
            "tags": []
          }
        }
      ]
    },
    {
      "cell_type": "markdown",
      "metadata": {
        "id": "Uviqyt_tKuyX",
        "colab_type": "text"
      },
      "source": [
        "The Autocorrelation plot shows some relationship between prior quarters and the next quarter providing some evidence the future quarters can be forecast based on historical results."
      ]
    },
    {
      "cell_type": "code",
      "metadata": {
        "id": "1VfjsW6mI-Sl",
        "colab_type": "code",
        "outputId": "63420a1b-6a25-463e-c028-5610bb9c0180",
        "colab": {
          "base_uri": "https://localhost:8080/",
          "height": 770
        }
      },
      "source": [
        "# Correlation analysis of time periods for all data\n",
        "RE_ts_mean = RE_ts_data[['Yr-Qtr','SoldPrice']].groupby('Yr-Qtr').mean()\n",
        "lag_plot(RE_ts_mean)\n",
        "pd.concat((RE_ts_mean.shift(1),RE_ts_mean),axis=1).corr()\n",
        "\n",
        "# Autocorrelation Plot\n",
        "autocorrelation_plot(RE_ts_mean)"
      ],
      "execution_count": 0,
      "outputs": [
        {
          "output_type": "stream",
          "text": [
            "/usr/local/lib/python3.6/dist-packages/pandas/plotting/_matplotlib/misc.py:409: UserWarning: Requested projection is different from current axis projection, creating new axis with requested projection.\n",
            "  ax = plt.gca(xlim=(1, n), ylim=(-1.0, 1.0))\n"
          ],
          "name": "stderr"
        },
        {
          "output_type": "execute_result",
          "data": {
            "text/plain": [
              "<matplotlib.axes._subplots.AxesSubplot at 0x7f3791df2940>"
            ]
          },
          "metadata": {
            "tags": []
          },
          "execution_count": 66
        },
        {
          "output_type": "display_data",
          "data": {
            "image/png": "[encoded data removed]",
            "text/plain": [
              "<Figure size 576x864 with 2 Axes>"
            ]
          },
          "metadata": {
            "tags": []
          }
        }
      ]
    },
    {
      "cell_type": "code",
      "metadata": {
        "id": "sVFKdozyJAQj",
        "colab_type": "code",
        "colab": {}
      },
      "source": [
        "# Functions to run models and return MAE\n",
        "def AR_Model(zip_cd):\n",
        "  sold_price = RE_ts_data[RE_ts_data['PostalCode_3']==zip_cd]\n",
        "  pre_2017_values = sold_price[sold_price['SoldYear'] != 2017]['SoldPrice']\n",
        "  sold_price_2017 = sold_price[sold_price['SoldYear'] == 2017]['SoldPrice']\n",
        "  try:\n",
        "    AR_Model = AR(pre_2017_values)\n",
        "    AR_fit = AR_Model.fit()\n",
        "    predictions = AR_fit.predict(start=len(pre_2017_values), end=len(pre_2017_values)+1, dynamic=False)\n",
        "    AR_Error = mean_absolute_error(sold_price_2017, predictions)\n",
        "  except:\n",
        "    AR_Error = -1\n",
        "  return AR_Error, predictions, zip_cd\n",
        "\n",
        "def SARIMA_Model(zip_cd):\n",
        "  sold_price = RE_ts_data[RE_ts_data['PostalCode_3']==zip_cd]\n",
        "  pre_2017_values = sold_price[sold_price['SoldYear'] != 2017]['SoldPrice']\n",
        "  sold_price_2017 = sold_price[sold_price['SoldYear'] == 2017]['SoldPrice']    # SARIMA Model & Prediction\n",
        "  try:\n",
        "    sarima_model = SARIMAX(pre_2017_values)\n",
        "    sarima_model_fit = sarima_model.fit(disp=False)\n",
        "    yhat = sarima_model_fit.forecast(2)\n",
        "    SARIMA_Error = mean_absolute_error(yhat,sold_price_2017)\n",
        "  except:\n",
        "    SARIMA_Error = -1\n",
        "    \n",
        "  return SARIMA_Error, yhat, zip_cd"
      ],
      "execution_count": 0,
      "outputs": []
    },
    {
      "cell_type": "code",
      "metadata": {
        "id": "dPW3oh8kJCWL",
        "colab_type": "code",
        "outputId": "0cc36278-bc94-4af6-acf0-fc4deb5b923d",
        "colab": {
          "base_uri": "https://localhost:8080/",
          "height": 34
        }
      },
      "source": [
        "# Run Autoregression Model\n",
        "from multiprocessing import Pool, cpu_count\n",
        "warnings.filterwarnings('ignore')\n",
        "start_time = datetime.datetime.now()\n",
        "p = Pool(cpu_count())\n",
        "ar_preds = list(p.imap(AR_Model,valid_zips))\n",
        "p.close()\n",
        "p.join()\n",
        "print(datetime.datetime.now()-start_time)\n",
        "\n",
        "AR_Preds_df = pd.DataFrame(ar_preds, columns=['error','predictions','postal_cd_3'])"
      ],
      "execution_count": 0,
      "outputs": [
        {
          "output_type": "stream",
          "text": [
            "0:00:00.792408\n"
          ],
          "name": "stdout"
        }
      ]
    },
    {
      "cell_type": "code",
      "metadata": {
        "id": "QsRovpS8JEP7",
        "colab_type": "code",
        "outputId": "cebe090d-4611-452a-e384-6dbecef30fb1",
        "colab": {
          "base_uri": "https://localhost:8080/",
          "height": 34
        }
      },
      "source": [
        "# Run Seasonal Autoregression Model\n",
        "warnings.filterwarnings('ignore')\n",
        "start_time = datetime.datetime.now()\n",
        "p = Pool(cpu_count())\n",
        "SARIMA_MAE = list(p.imap(SARIMA_Model,valid_zips))\n",
        "p.close()\n",
        "p.join()\n",
        "print(datetime.datetime.now()-start_time)\n",
        "\n",
        "SARIMA_Preds_df = pd.DataFrame(SARIMA_MAE, columns=['error', 'yhat','postal_cd_3'])"
      ],
      "execution_count": 0,
      "outputs": [
        {
          "output_type": "stream",
          "text": [
            "0:00:02.702570\n"
          ],
          "name": "stdout"
        }
      ]
    },
    {
      "cell_type": "markdown",
      "metadata": {
        "id": "2k4fU4rGKzCX",
        "colab_type": "text"
      },
      "source": [
        "Running the ARIMA model and the Seasonal ARIMA model we get a wide range of error for both models.  The SARIMA significantly outperforms the ARIMA model mostly due to fewer outliers.  Looking at the charts below we can see the ARIMA and SARIMA have similar medians for the errors but the ARIMA missed some forecasts significantly."
      ]
    },
    {
      "cell_type": "code",
      "metadata": {
        "id": "6flHnIEwJFrO",
        "colab_type": "code",
        "outputId": "4a07374c-8670-4494-f8fc-31e96eeb21f1",
        "colab": {
          "base_uri": "https://localhost:8080/",
          "height": 474
        }
      },
      "source": [
        "# Compare Errors by model\n",
        "Error_compare_df = AR_Preds_df.merge(SARIMA_Preds_df,on='postal_cd_3',suffixes=('_AR','_SARIMA'))\n",
        "Error_compare_df = Error_compare_df[(Error_compare_df['error_AR'] != -1) & (Error_compare_df['error_SARIMA'] != -1)]\n",
        "Error_compare_df = Error_compare_df.rename(columns = {'postal_cd_3':'PostalCode_3'})\n",
        "Error_compare_df = Error_compare_df.merge(postal_cd_data,on='PostalCode_3')\n",
        "\n",
        "# Average Errors by Model\n",
        "print(Error_compare_df[['error_AR', 'error_SARIMA']].mean())\n",
        "\n",
        "# Boxplot of errors by model\n",
        "sns.set(style=\"whitegrid\")\n",
        "fig, ax = plt.subplots()\n",
        "fig.set_size_inches(8, 6)\n",
        "sns.boxplot(x='Model',y='Error',data=pd.melt(Error_compare_df[['error_AR','error_SARIMA']],value_vars=['error_AR','error_SARIMA'],var_name='Model',value_name='Error'))"
      ],
      "execution_count": 0,
      "outputs": [
        {
          "output_type": "stream",
          "text": [
            "error_AR        548119.258643\n",
            "error_SARIMA    104009.979134\n",
            "dtype: float64\n"
          ],
          "name": "stdout"
        },
        {
          "output_type": "execute_result",
          "data": {
            "text/plain": [
              "<matplotlib.axes._subplots.AxesSubplot at 0x7f3880d4eb38>"
            ]
          },
          "metadata": {
            "tags": []
          },
          "execution_count": 73
        },
        {
          "output_type": "display_data",
          "data": {
            "image/png": "[encoded data removed]",
            "text/plain": [
              "<Figure size 576x432 with 1 Axes>"
            ]
          },
          "metadata": {
            "tags": []
          }
        }
      ]
    },
    {
      "cell_type": "code",
      "metadata": {
        "id": "oio6Wvk9JHJG",
        "colab_type": "code",
        "outputId": "c1858b03-a51f-40cf-f90e-dc5a4f5717a8",
        "colab": {
          "base_uri": "https://localhost:8080/",
          "height": 415
        }
      },
      "source": [
        "Error_compare_df.groupby(by='Place Name', as_index=False).mean()[['Place Name','error_AR']]"
      ],
      "execution_count": 0,
      "outputs": [
        {
          "output_type": "execute_result",
          "data": {
            "text/html": [
              "<div>\n",
              "<style scoped>\n",
              "    .dataframe tbody tr th:only-of-type {\n",
              "        vertical-align: middle;\n",
              "    }\n",
              "\n",
              "    .dataframe tbody tr th {\n",
              "        vertical-align: top;\n",
              "    }\n",
              "\n",
              "    .dataframe thead th {\n",
              "        text-align: right;\n",
              "    }\n",
              "</style>\n",
              "<table border=\"1\" class=\"dataframe\">\n",
              "  <thead>\n",
              "    <tr style=\"text-align: right;\">\n",
              "      <th></th>\n",
              "      <th>Place Name</th>\n",
              "      <th>error_AR</th>\n",
              "    </tr>\n",
              "  </thead>\n",
              "  <tbody>\n",
              "    <tr>\n",
              "      <th>0</th>\n",
              "      <td>Acton</td>\n",
              "      <td>72614.726244</td>\n",
              "    </tr>\n",
              "    <tr>\n",
              "      <th>1</th>\n",
              "      <td>Ajax East</td>\n",
              "      <td>96380.472110</td>\n",
              "    </tr>\n",
              "    <tr>\n",
              "      <th>2</th>\n",
              "      <td>Ajax Northwest</td>\n",
              "      <td>54560.374577</td>\n",
              "    </tr>\n",
              "    <tr>\n",
              "      <th>3</th>\n",
              "      <td>Ajax Southwest</td>\n",
              "      <td>19577.810484</td>\n",
              "    </tr>\n",
              "    <tr>\n",
              "      <th>4</th>\n",
              "      <td>Alliston</td>\n",
              "      <td>136034.600243</td>\n",
              "    </tr>\n",
              "    <tr>\n",
              "      <th>...</th>\n",
              "      <td>...</td>\n",
              "      <td>...</td>\n",
              "    </tr>\n",
              "    <tr>\n",
              "      <th>216</th>\n",
              "      <td>Woodbridge South</td>\n",
              "      <td>22020.560220</td>\n",
              "    </tr>\n",
              "    <tr>\n",
              "      <th>217</th>\n",
              "      <td>York (Cedarvale)</td>\n",
              "      <td>138760.352490</td>\n",
              "    </tr>\n",
              "    <tr>\n",
              "      <th>218</th>\n",
              "      <td>York (Del Ray / Keelsdale / Mount Dennis / Sil...</td>\n",
              "      <td>27129.114240</td>\n",
              "    </tr>\n",
              "    <tr>\n",
              "      <th>219</th>\n",
              "      <td>York (Fairbank / Oakwood)</td>\n",
              "      <td>80024.407229</td>\n",
              "    </tr>\n",
              "    <tr>\n",
              "      <th>220</th>\n",
              "      <td>York (Runnymede / The Junction North)</td>\n",
              "      <td>20926.774604</td>\n",
              "    </tr>\n",
              "  </tbody>\n",
              "</table>\n",
              "<p>221 rows × 2 columns</p>\n",
              "</div>"
            ],
            "text/plain": [
              "                                            Place Name       error_AR\n",
              "0                                                Acton   72614.726244\n",
              "1                                            Ajax East   96380.472110\n",
              "2                                       Ajax Northwest   54560.374577\n",
              "3                                       Ajax Southwest   19577.810484\n",
              "4                                             Alliston  136034.600243\n",
              "..                                                 ...            ...\n",
              "216                                   Woodbridge South   22020.560220\n",
              "217                                   York (Cedarvale)  138760.352490\n",
              "218  York (Del Ray / Keelsdale / Mount Dennis / Sil...   27129.114240\n",
              "219                          York (Fairbank / Oakwood)   80024.407229\n",
              "220              York (Runnymede / The Junction North)   20926.774604\n",
              "\n",
              "[221 rows x 2 columns]"
            ]
          },
          "metadata": {
            "tags": []
          },
          "execution_count": 74
        }
      ]
    },
    {
      "cell_type": "markdown",
      "metadata": {
        "id": "VD5UH_5lK5pv",
        "colab_type": "text"
      },
      "source": [
        "In Conclusion, the ability to accurately forecast home value is limited as the data points available are limited and the values have a wide range of possibilities as you spread to larger geographic areas.  Additionally, there are many factors outside of historical prices which contribute to sales price of a home."
      ]
    },
    {
      "cell_type": "markdown",
      "metadata": {
        "id": "Rtx6-ipVJpbN",
        "colab_type": "text"
      },
      "source": [
        "**House Prediction Using Regression**"
      ]
    },
    {
      "cell_type": "markdown",
      "metadata": {
        "id": "X7QpbEkjmt_e",
        "colab_type": "text"
      },
      "source": [
        "**REGRESSION ANALYSIS**"
      ]
    },
    {
      "cell_type": "code",
      "metadata": {
        "id": "SXq2qSqom2HT",
        "colab_type": "code",
        "colab": {}
      },
      "source": [
        "re_final_data = RE_Final_S"
      ],
      "execution_count": 0,
      "outputs": []
    },
    {
      "cell_type": "code",
      "metadata": {
        "id": "TJc4kCJQm2Z8",
        "colab_type": "code",
        "outputId": "b60baa1a-97eb-44b0-f659-face021c958c",
        "colab": {
          "base_uri": "https://localhost:8080/",
          "height": 759
        }
      },
      "source": [
        "re_final_data.head()"
      ],
      "execution_count": 0,
      "outputs": [
        {
          "output_type": "execute_result",
          "data": {
            "text/html": [
              "<div>\n",
              "<style scoped>\n",
              "    .dataframe tbody tr th:only-of-type {\n",
              "        vertical-align: middle;\n",
              "    }\n",
              "\n",
              "    .dataframe tbody tr th {\n",
              "        vertical-align: top;\n",
              "    }\n",
              "\n",
              "    .dataframe thead th {\n",
              "        text-align: right;\n",
              "    }\n",
              "</style>\n",
              "<table border=\"1\" class=\"dataframe\">\n",
              "  <thead>\n",
              "    <tr style=\"text-align: right;\">\n",
              "      <th></th>\n",
              "      <th>AirCond</th>\n",
              "      <th>Address</th>\n",
              "      <th>CompUnitNo</th>\n",
              "      <th>Area</th>\n",
              "      <th>Washrooms</th>\n",
              "      <th>Bedrooms</th>\n",
              "      <th>Den</th>\n",
              "      <th>SoldDate</th>\n",
              "      <th>Exposure</th>\n",
              "      <th>Province_x</th>\n",
              "      <th>Dir_CrossStreets</th>\n",
              "      <th>DaysOnMarket</th>\n",
              "      <th>HeatSource</th>\n",
              "      <th>ListingEntryDate</th>\n",
              "      <th>LaundryLevel</th>\n",
              "      <th>ListPrice</th>\n",
              "      <th>LastStatus</th>\n",
              "      <th>MainFee</th>\n",
              "      <th>MLNum</th>\n",
              "      <th>Kitchens</th>\n",
              "      <th>OrigPrice</th>\n",
              "      <th>ParkingType</th>\n",
              "      <th>ParkingSpaces</th>\n",
              "      <th>Balcony</th>\n",
              "      <th>Rooms</th>\n",
              "      <th>Sale/Lease</th>\n",
              "      <th>SoldPrice</th>\n",
              "      <th>SqFootage</th>\n",
              "      <th>FloorNo</th>\n",
              "      <th>Style</th>\n",
              "      <th>Taxes</th>\n",
              "      <th>ClosedDate</th>\n",
              "      <th>Type</th>\n",
              "      <th>WaterIncl</th>\n",
              "      <th>Age</th>\n",
              "      <th>PostalCode</th>\n",
              "      <th>SoldYear</th>\n",
              "      <th>SoldMonth</th>\n",
              "      <th>SoldDay</th>\n",
              "      <th>PostalCode_3</th>\n",
              "      <th>Place Name</th>\n",
              "      <th>Province_y</th>\n",
              "      <th>Latitude</th>\n",
              "      <th>Longitude</th>\n",
              "      <th>Unnamed: 5</th>\n",
              "      <th>Unnamed: 6</th>\n",
              "      <th>runiform</th>\n",
              "    </tr>\n",
              "  </thead>\n",
              "  <tbody>\n",
              "    <tr>\n",
              "      <th>0</th>\n",
              "      <td>central air</td>\n",
              "      <td>600fleetst</td>\n",
              "      <td>504</td>\n",
              "      <td>toronto</td>\n",
              "      <td>1.0</td>\n",
              "      <td>1.0</td>\n",
              "      <td>1.0</td>\n",
              "      <td>2010-01-06</td>\n",
              "      <td>e</td>\n",
              "      <td>ontario</td>\n",
              "      <td>lakeshorebathurstst</td>\n",
              "      <td>158.0</td>\n",
              "      <td>gas</td>\n",
              "      <td>8/1/2009 0:00</td>\n",
              "      <td>unknown</td>\n",
              "      <td>319000.0</td>\n",
              "      <td>sld</td>\n",
              "      <td>320.46</td>\n",
              "      <td>c1677165</td>\n",
              "      <td>1.0</td>\n",
              "      <td>299000.0</td>\n",
              "      <td>none</td>\n",
              "      <td>0.0</td>\n",
              "      <td>open</td>\n",
              "      <td>4.0</td>\n",
              "      <td>sale</td>\n",
              "      <td>290000.0</td>\n",
              "      <td>500-699</td>\n",
              "      <td>5</td>\n",
              "      <td>apartment</td>\n",
              "      <td>0.00</td>\n",
              "      <td>2010-02-01 00:00:00</td>\n",
              "      <td>condo apartment</td>\n",
              "      <td>y</td>\n",
              "      <td>zero to five</td>\n",
              "      <td>m5v1b7</td>\n",
              "      <td>2010</td>\n",
              "      <td>1</td>\n",
              "      <td>6</td>\n",
              "      <td>m5v</td>\n",
              "      <td>Downtown Toronto (CN Tower / King and Spadina ...</td>\n",
              "      <td>ON</td>\n",
              "      <td>43.6404</td>\n",
              "      <td>-79.3995</td>\n",
              "      <td>NaN</td>\n",
              "      <td>NaN</td>\n",
              "      <td>0.191519</td>\n",
              "    </tr>\n",
              "    <tr>\n",
              "      <th>1</th>\n",
              "      <td>central air</td>\n",
              "      <td>55bremnerblvd</td>\n",
              "      <td>2109</td>\n",
              "      <td>toronto</td>\n",
              "      <td>1.0</td>\n",
              "      <td>1.0</td>\n",
              "      <td>0.0</td>\n",
              "      <td>2010-01-28</td>\n",
              "      <td>e</td>\n",
              "      <td>ontario</td>\n",
              "      <td>yorkbremner</td>\n",
              "      <td>108.0</td>\n",
              "      <td>gas</td>\n",
              "      <td>10/14/2009 0:00</td>\n",
              "      <td>unknown</td>\n",
              "      <td>376900.0</td>\n",
              "      <td>sld</td>\n",
              "      <td>270.00</td>\n",
              "      <td>c1722935</td>\n",
              "      <td>1.0</td>\n",
              "      <td>376900.0</td>\n",
              "      <td>owned</td>\n",
              "      <td>0.0</td>\n",
              "      <td>open</td>\n",
              "      <td>3.0</td>\n",
              "      <td>sale</td>\n",
              "      <td>409400.0</td>\n",
              "      <td>unknown</td>\n",
              "      <td>14</td>\n",
              "      <td>apartment</td>\n",
              "      <td>0.00</td>\n",
              "      <td>2010-05-17 00:00:00</td>\n",
              "      <td>condo apartment</td>\n",
              "      <td>y</td>\n",
              "      <td>new</td>\n",
              "      <td>m5v0a1</td>\n",
              "      <td>2010</td>\n",
              "      <td>1</td>\n",
              "      <td>28</td>\n",
              "      <td>m5v</td>\n",
              "      <td>Downtown Toronto (CN Tower / King and Spadina ...</td>\n",
              "      <td>ON</td>\n",
              "      <td>43.6404</td>\n",
              "      <td>-79.3995</td>\n",
              "      <td>NaN</td>\n",
              "      <td>NaN</td>\n",
              "      <td>0.622109</td>\n",
              "    </tr>\n",
              "    <tr>\n",
              "      <th>2</th>\n",
              "      <td>central air</td>\n",
              "      <td>250wellingtonstw</td>\n",
              "      <td>132</td>\n",
              "      <td>toronto</td>\n",
              "      <td>1.0</td>\n",
              "      <td>1.0</td>\n",
              "      <td>0.0</td>\n",
              "      <td>2010-01-08</td>\n",
              "      <td>s</td>\n",
              "      <td>ontario</td>\n",
              "      <td>johnwellington</td>\n",
              "      <td>86.0</td>\n",
              "      <td>gas</td>\n",
              "      <td>10/14/2009 0:00</td>\n",
              "      <td>unknown</td>\n",
              "      <td>429900.0</td>\n",
              "      <td>sld</td>\n",
              "      <td>453.27</td>\n",
              "      <td>c1723605</td>\n",
              "      <td>1.0</td>\n",
              "      <td>429900.0</td>\n",
              "      <td>owned</td>\n",
              "      <td>1.0</td>\n",
              "      <td>terr</td>\n",
              "      <td>3.0</td>\n",
              "      <td>sale</td>\n",
              "      <td>401000.0</td>\n",
              "      <td>700-899</td>\n",
              "      <td>1</td>\n",
              "      <td>apartment</td>\n",
              "      <td>2425.44</td>\n",
              "      <td>2010-03-26 00:00:00</td>\n",
              "      <td>condo apartment</td>\n",
              "      <td>y</td>\n",
              "      <td>zero to five</td>\n",
              "      <td>m5v3p6</td>\n",
              "      <td>2010</td>\n",
              "      <td>1</td>\n",
              "      <td>8</td>\n",
              "      <td>m5v</td>\n",
              "      <td>Downtown Toronto (CN Tower / King and Spadina ...</td>\n",
              "      <td>ON</td>\n",
              "      <td>43.6404</td>\n",
              "      <td>-79.3995</td>\n",
              "      <td>NaN</td>\n",
              "      <td>NaN</td>\n",
              "      <td>0.437728</td>\n",
              "    </tr>\n",
              "    <tr>\n",
              "      <th>3</th>\n",
              "      <td>central air</td>\n",
              "      <td>11brunelcrt</td>\n",
              "      <td>4809</td>\n",
              "      <td>toronto</td>\n",
              "      <td>1.0</td>\n",
              "      <td>1.0</td>\n",
              "      <td>0.0</td>\n",
              "      <td>2010-01-07</td>\n",
              "      <td>e</td>\n",
              "      <td>ontario</td>\n",
              "      <td>spadinaandfrontqew</td>\n",
              "      <td>70.0</td>\n",
              "      <td>gas</td>\n",
              "      <td>10/29/2009 0:00</td>\n",
              "      <td>main</td>\n",
              "      <td>279000.0</td>\n",
              "      <td>sld</td>\n",
              "      <td>218.88</td>\n",
              "      <td>c1732970</td>\n",
              "      <td>1.0</td>\n",
              "      <td>298000.0</td>\n",
              "      <td>none</td>\n",
              "      <td>0.0</td>\n",
              "      <td>none</td>\n",
              "      <td>3.0</td>\n",
              "      <td>sale</td>\n",
              "      <td>258000.0</td>\n",
              "      <td>unknown</td>\n",
              "      <td>42</td>\n",
              "      <td>apartment</td>\n",
              "      <td>0.00</td>\n",
              "      <td>2010-02-26 00:00:00</td>\n",
              "      <td>condo apartment</td>\n",
              "      <td>y</td>\n",
              "      <td>zero to five</td>\n",
              "      <td>m5v3y3</td>\n",
              "      <td>2010</td>\n",
              "      <td>1</td>\n",
              "      <td>7</td>\n",
              "      <td>m5v</td>\n",
              "      <td>Downtown Toronto (CN Tower / King and Spadina ...</td>\n",
              "      <td>ON</td>\n",
              "      <td>43.6404</td>\n",
              "      <td>-79.3995</td>\n",
              "      <td>NaN</td>\n",
              "      <td>NaN</td>\n",
              "      <td>0.785359</td>\n",
              "    </tr>\n",
              "    <tr>\n",
              "      <th>4</th>\n",
              "      <td>central air</td>\n",
              "      <td>36bluejaysway</td>\n",
              "      <td>1307</td>\n",
              "      <td>toronto</td>\n",
              "      <td>2.0</td>\n",
              "      <td>1.0</td>\n",
              "      <td>1.0</td>\n",
              "      <td>2010-01-17</td>\n",
              "      <td>e</td>\n",
              "      <td>ontario</td>\n",
              "      <td>wellingtonbluejays</td>\n",
              "      <td>80.0</td>\n",
              "      <td>gas</td>\n",
              "      <td>10/29/2009 0:00</td>\n",
              "      <td>unknown</td>\n",
              "      <td>379000.0</td>\n",
              "      <td>sld</td>\n",
              "      <td>651.19</td>\n",
              "      <td>c1733027</td>\n",
              "      <td>1.0</td>\n",
              "      <td>379000.0</td>\n",
              "      <td>none</td>\n",
              "      <td>0.0</td>\n",
              "      <td>none</td>\n",
              "      <td>5.0</td>\n",
              "      <td>sale</td>\n",
              "      <td>365000.0</td>\n",
              "      <td>900-1099</td>\n",
              "      <td>13</td>\n",
              "      <td>apartment</td>\n",
              "      <td>2767.35</td>\n",
              "      <td>2010-02-01 00:00:00</td>\n",
              "      <td>condo apartment</td>\n",
              "      <td>y</td>\n",
              "      <td>unknown</td>\n",
              "      <td>m5v3t3</td>\n",
              "      <td>2010</td>\n",
              "      <td>1</td>\n",
              "      <td>17</td>\n",
              "      <td>m5v</td>\n",
              "      <td>Downtown Toronto (CN Tower / King and Spadina ...</td>\n",
              "      <td>ON</td>\n",
              "      <td>43.6404</td>\n",
              "      <td>-79.3995</td>\n",
              "      <td>NaN</td>\n",
              "      <td>NaN</td>\n",
              "      <td>0.779976</td>\n",
              "    </tr>\n",
              "  </tbody>\n",
              "</table>\n",
              "</div>"
            ],
            "text/plain": [
              "       AirCond           Address CompUnitNo  ... Unnamed: 5  Unnamed: 6  runiform\n",
              "0  central air        600fleetst        504  ...        NaN         NaN  0.191519\n",
              "1  central air     55bremnerblvd       2109  ...        NaN         NaN  0.622109\n",
              "2  central air  250wellingtonstw        132  ...        NaN         NaN  0.437728\n",
              "3  central air       11brunelcrt       4809  ...        NaN         NaN  0.785359\n",
              "4  central air     36bluejaysway       1307  ...        NaN         NaN  0.779976\n",
              "\n",
              "[5 rows x 47 columns]"
            ]
          },
          "metadata": {
            "tags": []
          },
          "execution_count": 100
        }
      ]
    },
    {
      "cell_type": "code",
      "metadata": {
        "id": "x5qj4emMm2XD",
        "colab_type": "code",
        "outputId": "62f2b329-6530-4860-b265-b045c6b10ded",
        "colab": {
          "base_uri": "https://localhost:8080/",
          "height": 331
        }
      },
      "source": [
        "re_final_data.describe()"
      ],
      "execution_count": 0,
      "outputs": [
        {
          "output_type": "execute_result",
          "data": {
            "text/html": [
              "<div>\n",
              "<style scoped>\n",
              "    .dataframe tbody tr th:only-of-type {\n",
              "        vertical-align: middle;\n",
              "    }\n",
              "\n",
              "    .dataframe tbody tr th {\n",
              "        vertical-align: top;\n",
              "    }\n",
              "\n",
              "    .dataframe thead th {\n",
              "        text-align: right;\n",
              "    }\n",
              "</style>\n",
              "<table border=\"1\" class=\"dataframe\">\n",
              "  <thead>\n",
              "    <tr style=\"text-align: right;\">\n",
              "      <th></th>\n",
              "      <th>Washrooms</th>\n",
              "      <th>Bedrooms</th>\n",
              "      <th>Den</th>\n",
              "      <th>DaysOnMarket</th>\n",
              "      <th>ListPrice</th>\n",
              "      <th>MainFee</th>\n",
              "      <th>Kitchens</th>\n",
              "      <th>OrigPrice</th>\n",
              "      <th>ParkingSpaces</th>\n",
              "      <th>Rooms</th>\n",
              "      <th>SoldPrice</th>\n",
              "      <th>Taxes</th>\n",
              "      <th>SoldYear</th>\n",
              "      <th>SoldMonth</th>\n",
              "      <th>SoldDay</th>\n",
              "      <th>Latitude</th>\n",
              "      <th>Longitude</th>\n",
              "      <th>Unnamed: 5</th>\n",
              "      <th>Unnamed: 6</th>\n",
              "      <th>runiform</th>\n",
              "    </tr>\n",
              "  </thead>\n",
              "  <tbody>\n",
              "    <tr>\n",
              "      <th>count</th>\n",
              "      <td>239416.000000</td>\n",
              "      <td>239416.000000</td>\n",
              "      <td>239416.000000</td>\n",
              "      <td>239416.000000</td>\n",
              "      <td>2.394160e+05</td>\n",
              "      <td>239416.000000</td>\n",
              "      <td>239416.000000</td>\n",
              "      <td>2.394160e+05</td>\n",
              "      <td>239416.000000</td>\n",
              "      <td>239416.000000</td>\n",
              "      <td>2.394160e+05</td>\n",
              "      <td>239416.000000</td>\n",
              "      <td>239416.000000</td>\n",
              "      <td>239416.000000</td>\n",
              "      <td>239416.000000</td>\n",
              "      <td>239399.000000</td>\n",
              "      <td>239416.000000</td>\n",
              "      <td>17.0</td>\n",
              "      <td>0.0</td>\n",
              "      <td>239416.000000</td>\n",
              "    </tr>\n",
              "    <tr>\n",
              "      <th>mean</th>\n",
              "      <td>1.789530</td>\n",
              "      <td>1.913677</td>\n",
              "      <td>0.358886</td>\n",
              "      <td>29.064524</td>\n",
              "      <td>3.707793e+05</td>\n",
              "      <td>481.799049</td>\n",
              "      <td>1.000777</td>\n",
              "      <td>3.877539e+05</td>\n",
              "      <td>1.718912</td>\n",
              "      <td>5.062870</td>\n",
              "      <td>3.679222e+05</td>\n",
              "      <td>2209.387609</td>\n",
              "      <td>2013.490318</td>\n",
              "      <td>6.135885</td>\n",
              "      <td>15.825789</td>\n",
              "      <td>43.712403</td>\n",
              "      <td>-79.451785</td>\n",
              "      <td>6.0</td>\n",
              "      <td>NaN</td>\n",
              "      <td>0.499644</td>\n",
              "    </tr>\n",
              "    <tr>\n",
              "      <th>std</th>\n",
              "      <td>0.731829</td>\n",
              "      <td>0.815327</td>\n",
              "      <td>0.498153</td>\n",
              "      <td>32.592208</td>\n",
              "      <td>2.228938e+05</td>\n",
              "      <td>349.165320</td>\n",
              "      <td>0.072253</td>\n",
              "      <td>2.320323e+06</td>\n",
              "      <td>24.588761</td>\n",
              "      <td>1.451243</td>\n",
              "      <td>2.199798e+05</td>\n",
              "      <td>3810.647578</td>\n",
              "      <td>2.209829</td>\n",
              "      <td>3.173755</td>\n",
              "      <td>8.704719</td>\n",
              "      <td>0.175617</td>\n",
              "      <td>1.089355</td>\n",
              "      <td>0.0</td>\n",
              "      <td>NaN</td>\n",
              "      <td>0.288299</td>\n",
              "    </tr>\n",
              "    <tr>\n",
              "      <th>min</th>\n",
              "      <td>0.000000</td>\n",
              "      <td>0.000000</td>\n",
              "      <td>0.000000</td>\n",
              "      <td>0.000000</td>\n",
              "      <td>0.000000e+00</td>\n",
              "      <td>0.000000</td>\n",
              "      <td>0.000000</td>\n",
              "      <td>0.000000e+00</td>\n",
              "      <td>0.000000</td>\n",
              "      <td>0.000000</td>\n",
              "      <td>0.000000e+00</td>\n",
              "      <td>0.000000</td>\n",
              "      <td>2010.000000</td>\n",
              "      <td>1.000000</td>\n",
              "      <td>1.000000</td>\n",
              "      <td>42.050200</td>\n",
              "      <td>-113.969500</td>\n",
              "      <td>6.0</td>\n",
              "      <td>NaN</td>\n",
              "      <td>0.000003</td>\n",
              "    </tr>\n",
              "    <tr>\n",
              "      <th>25%</th>\n",
              "      <td>1.000000</td>\n",
              "      <td>1.000000</td>\n",
              "      <td>0.000000</td>\n",
              "      <td>10.000000</td>\n",
              "      <td>2.597752e+05</td>\n",
              "      <td>330.190000</td>\n",
              "      <td>1.000000</td>\n",
              "      <td>2.599000e+05</td>\n",
              "      <td>1.000000</td>\n",
              "      <td>4.000000</td>\n",
              "      <td>2.550000e+05</td>\n",
              "      <td>1612.257500</td>\n",
              "      <td>2012.000000</td>\n",
              "      <td>4.000000</td>\n",
              "      <td>8.000000</td>\n",
              "      <td>43.638300</td>\n",
              "      <td>-79.592900</td>\n",
              "      <td>6.0</td>\n",
              "      <td>NaN</td>\n",
              "      <td>0.249547</td>\n",
              "    </tr>\n",
              "    <tr>\n",
              "      <th>50%</th>\n",
              "      <td>2.000000</td>\n",
              "      <td>2.000000</td>\n",
              "      <td>0.000000</td>\n",
              "      <td>20.000000</td>\n",
              "      <td>3.300000e+05</td>\n",
              "      <td>444.130000</td>\n",
              "      <td>1.000000</td>\n",
              "      <td>3.349000e+05</td>\n",
              "      <td>1.000000</td>\n",
              "      <td>5.000000</td>\n",
              "      <td>3.290000e+05</td>\n",
              "      <td>2098.340000</td>\n",
              "      <td>2014.000000</td>\n",
              "      <td>6.000000</td>\n",
              "      <td>16.000000</td>\n",
              "      <td>43.686100</td>\n",
              "      <td>-79.411100</td>\n",
              "      <td>6.0</td>\n",
              "      <td>NaN</td>\n",
              "      <td>0.499801</td>\n",
              "    </tr>\n",
              "    <tr>\n",
              "      <th>75%</th>\n",
              "      <td>2.000000</td>\n",
              "      <td>2.000000</td>\n",
              "      <td>1.000000</td>\n",
              "      <td>38.000000</td>\n",
              "      <td>4.250000e+05</td>\n",
              "      <td>592.652500</td>\n",
              "      <td>1.000000</td>\n",
              "      <td>4.288000e+05</td>\n",
              "      <td>1.000000</td>\n",
              "      <td>6.000000</td>\n",
              "      <td>4.250000e+05</td>\n",
              "      <td>2626.960000</td>\n",
              "      <td>2015.000000</td>\n",
              "      <td>9.000000</td>\n",
              "      <td>23.000000</td>\n",
              "      <td>43.779700</td>\n",
              "      <td>-79.375400</td>\n",
              "      <td>6.0</td>\n",
              "      <td>NaN</td>\n",
              "      <td>0.749477</td>\n",
              "    </tr>\n",
              "    <tr>\n",
              "      <th>max</th>\n",
              "      <td>10.000000</td>\n",
              "      <td>9.000000</td>\n",
              "      <td>7.000000</td>\n",
              "      <td>3720.000000</td>\n",
              "      <td>1.200000e+07</td>\n",
              "      <td>62745.000000</td>\n",
              "      <td>7.000000</td>\n",
              "      <td>8.150000e+08</td>\n",
              "      <td>5187.000000</td>\n",
              "      <td>31.000000</td>\n",
              "      <td>1.200000e+07</td>\n",
              "      <td>533864.000000</td>\n",
              "      <td>2017.000000</td>\n",
              "      <td>12.000000</td>\n",
              "      <td>31.000000</td>\n",
              "      <td>53.735300</td>\n",
              "      <td>45.168600</td>\n",
              "      <td>6.0</td>\n",
              "      <td>NaN</td>\n",
              "      <td>0.999999</td>\n",
              "    </tr>\n",
              "  </tbody>\n",
              "</table>\n",
              "</div>"
            ],
            "text/plain": [
              "           Washrooms       Bedrooms  ...  Unnamed: 6       runiform\n",
              "count  239416.000000  239416.000000  ...         0.0  239416.000000\n",
              "mean        1.789530       1.913677  ...         NaN       0.499644\n",
              "std         0.731829       0.815327  ...         NaN       0.288299\n",
              "min         0.000000       0.000000  ...         NaN       0.000003\n",
              "25%         1.000000       1.000000  ...         NaN       0.249547\n",
              "50%         2.000000       2.000000  ...         NaN       0.499801\n",
              "75%         2.000000       2.000000  ...         NaN       0.749477\n",
              "max        10.000000       9.000000  ...         NaN       0.999999\n",
              "\n",
              "[8 rows x 20 columns]"
            ]
          },
          "metadata": {
            "tags": []
          },
          "execution_count": 101
        }
      ]
    },
    {
      "cell_type": "markdown",
      "metadata": {
        "id": "OyMJHKuFnqb2",
        "colab_type": "text"
      },
      "source": [
        "***Determine the correlation between the variables***"
      ]
    },
    {
      "cell_type": "code",
      "metadata": {
        "id": "dwLUXrnXm2SE",
        "colab_type": "code",
        "outputId": "5958a553-5264-412d-9804-284c86c5a7dd",
        "colab": {
          "base_uri": "https://localhost:8080/",
          "height": 682
        }
      },
      "source": [
        "#Correlation between the variables\n",
        "corrmatrix = re_final_data.corr()\n",
        "\n",
        "f, ax = plt.subplots(figsize =(15, 10)) \n",
        "sns.heatmap(corrmatrix, ax = ax, cmap =\"YlGnBu\", linewidths = 0.1) \n",
        "plt.title('Correlation Matrix', fontsize = 12)\n",
        "plt.show()"
      ],
      "execution_count": 0,
      "outputs": [
        {
          "output_type": "display_data",
          "data": {
            "image/png": "[encoded data removed]",
            "text/plain": [
              "<Figure size 1080x720 with 2 Axes>"
            ]
          },
          "metadata": {
            "tags": []
          }
        }
      ]
    },
    {
      "cell_type": "markdown",
      "metadata": {
        "id": "6k4Zvm-Fnn9G",
        "colab_type": "text"
      },
      "source": [
        "The variables highly correlated have dark blue and less correlated are a lighter green."
      ]
    },
    {
      "cell_type": "markdown",
      "metadata": {
        "id": "pkAEE-huojdT",
        "colab_type": "text"
      },
      "source": [
        "***Using correlation matrix to determine relationships around SoldPrice***"
      ]
    },
    {
      "cell_type": "code",
      "metadata": {
        "id": "S2JUU9CFm2OB",
        "colab_type": "code",
        "outputId": "de461996-dbbd-43b5-ad52-39ce1b944f29",
        "colab": {
          "base_uri": "https://localhost:8080/",
          "height": 686
        }
      },
      "source": [
        "# SoldPrice correlation matrix \n",
        "# k : number of variables for heatmap \n",
        "k = 15\n",
        "cols = corrmatrix.nlargest(k, 'SoldPrice')['SoldPrice'].index \n",
        "  \n",
        "cm = np.corrcoef(re_final_data[cols].values.T) \n",
        "f, ax = plt.subplots(figsize =(12, 10)) \n",
        "  \n",
        "sns.heatmap(cm, ax = ax, cmap =\"YlGnBu\", \n",
        "            linewidths = 0.1, yticklabels = cols.values,  \n",
        "                              xticklabels = cols.values) "
      ],
      "execution_count": 0,
      "outputs": [
        {
          "output_type": "execute_result",
          "data": {
            "text/plain": [
              "<matplotlib.axes._subplots.AxesSubplot at 0x7f3777657f28>"
            ]
          },
          "metadata": {
            "tags": []
          },
          "execution_count": 103
        },
        {
          "output_type": "display_data",
          "data": {
            "image/png": "[encoded data removed]",
            "text/plain": [
              "<Figure size 864x720 with 2 Axes>"
            ]
          },
          "metadata": {
            "tags": []
          }
        }
      ]
    },
    {
      "cell_type": "markdown",
      "metadata": {
        "id": "va-3xDjYpEtS",
        "colab_type": "text"
      },
      "source": [
        "***Scatter plots for relationship between SoldPrice, Rooms, Washrooms and Bedrooms***\n"
      ]
    },
    {
      "cell_type": "code",
      "metadata": {
        "id": "3k-albVyo8Z0",
        "colab_type": "code",
        "outputId": "048fb5cf-3de8-40a1-ac7a-33980b45c93d",
        "colab": {
          "base_uri": "https://localhost:8080/",
          "height": 545
        }
      },
      "source": [
        "#Scatter plot for Rooms and Bedrooms\n",
        "sns.set(rc={'figure.figsize':(11.7, 8.27)})\n",
        "sns.scatterplot(re_final_data['Rooms'], re_final_data['SoldPrice'], hue = re_final_data['Style'])"
      ],
      "execution_count": 0,
      "outputs": [
        {
          "output_type": "execute_result",
          "data": {
            "text/plain": [
              "<matplotlib.axes._subplots.AxesSubplot at 0x7f37774ca898>"
            ]
          },
          "metadata": {
            "tags": []
          },
          "execution_count": 104
        },
        {
          "output_type": "display_data",
          "data": {
            "image/png": "[encoded data removed]",
            "text/plain": [
              "<Figure size 842.4x595.44 with 1 Axes>"
            ]
          },
          "metadata": {
            "tags": []
          }
        }
      ]
    },
    {
      "cell_type": "code",
      "metadata": {
        "id": "wYeN5l_wo8g7",
        "colab_type": "code",
        "outputId": "72e0e093-d4f5-45a2-d320-31eb86de319a",
        "colab": {
          "base_uri": "https://localhost:8080/",
          "height": 545
        }
      },
      "source": [
        "# Determining the regression line in the plot\n",
        "sns.regplot(re_final_data.Rooms, re_final_data.SoldPrice)"
      ],
      "execution_count": 0,
      "outputs": [
        {
          "output_type": "execute_result",
          "data": {
            "text/plain": [
              "<matplotlib.axes._subplots.AxesSubplot at 0x7f377745f400>"
            ]
          },
          "metadata": {
            "tags": []
          },
          "execution_count": 105
        },
        {
          "output_type": "display_data",
          "data": {
            "image/png": "[encoded data removed]",
            "text/plain": [
              "<Figure size 842.4x595.44 with 1 Axes>"
            ]
          },
          "metadata": {
            "tags": []
          }
        }
      ]
    },
    {
      "cell_type": "code",
      "metadata": {
        "id": "ydhJIeFio8e9",
        "colab_type": "code",
        "outputId": "9613c58a-f815-491c-c88a-7156d6a2d427",
        "colab": {
          "base_uri": "https://localhost:8080/",
          "height": 469
        }
      },
      "source": [
        "# Regression plot using seaborn.\n",
        "fig = plt.figure(figsize=(10,7))\n",
        "sns.regplot(x=re_final_data.Rooms,y=re_final_data.SoldPrice,color='blue', marker='+')\n",
        "sns.regplot(x=re_final_data.Bedrooms,y=re_final_data.SoldPrice,color='magenta', marker='+')\n",
        "\n",
        "# Legend, title and labels.\n",
        "plt.legend(labels=['Rooms','Bedrooms'])\n",
        "plt.title('Relationship between Rooms, Bedrooms and SoldPrice', size=12)\n",
        "plt.xlabel('Rooms/Bedrooms', size=18)\n",
        "plt.ylabel('SoldPrice', size=18);"
      ],
      "execution_count": 0,
      "outputs": [
        {
          "output_type": "display_data",
          "data": {
            "image/png": "[encoded data removed]",
            "text/plain": [
              "<Figure size 720x504 with 1 Axes>"
            ]
          },
          "metadata": {
            "tags": []
          }
        }
      ]
    },
    {
      "cell_type": "markdown",
      "metadata": {
        "id": "G7AoSBqAp-d7",
        "colab_type": "text"
      },
      "source": [
        "***Ploting a Univariate Histogram***"
      ]
    },
    {
      "cell_type": "code",
      "metadata": {
        "id": "W-5JtjEoo8W1",
        "colab_type": "code",
        "outputId": "a6e0c522-a373-4035-ce4f-44fbba755a05",
        "colab": {
          "base_uri": "https://localhost:8080/",
          "height": 882
        }
      },
      "source": [
        "#Univariate Histogram\n",
        "re_final_data.hist(bins=20, figsize = (20, 15))\n",
        "plt.show()"
      ],
      "execution_count": 0,
      "outputs": [
        {
          "output_type": "display_data",
          "data": {
            "image/png": "[encoded data removed]",
            "text/plain": [
              "<Figure size 1440x1080 with 20 Axes>"
            ]
          },
          "metadata": {
            "tags": []
          }
        }
      ]
    },
    {
      "cell_type": "markdown",
      "metadata": {
        "id": "OyMCddP4qYeS",
        "colab_type": "text"
      },
      "source": [
        "**Regression Models**"
      ]
    },
    {
      "cell_type": "code",
      "metadata": {
        "id": "bC7WLwD2o8PH",
        "colab_type": "code",
        "colab": {}
      },
      "source": [
        "# Packages needed for the model\n",
        "\n",
        "from scipy.stats import uniform  # for training-and-test split\n",
        "import statsmodels.api as sm  # statistical models (including regression)\n",
        "import statsmodels.formula.api as smf  # R-like model specification"
      ],
      "execution_count": 0,
      "outputs": []
    },
    {
      "cell_type": "code",
      "metadata": {
        "id": "kn0yeuDVo8Lq",
        "colab_type": "code",
        "outputId": "00e0e5cd-286e-4b55-f1ab-ba35f6139b83",
        "colab": {
          "base_uri": "https://localhost:8080/",
          "height": 51
        }
      },
      "source": [
        "# Splitting Dataset into train and test for models training.\n",
        "\n",
        "np.random.seed(1234)\n",
        "re_final_data['runiform'] = uniform.rvs(loc = 0, scale = 1, size = len(re_final_data))\n",
        "#coaches['runiform']\n",
        "final_data_train = re_final_data[re_final_data['runiform'] >= 0.33]\n",
        "final_data_test = re_final_data[re_final_data['runiform'] < 0.33]\n",
        "#print(final_data_train)\n",
        "#print(final_data_test)\n",
        "print(final_data_train.shape)\n",
        "print(final_data_test.shape)"
      ],
      "execution_count": 0,
      "outputs": [
        {
          "output_type": "stream",
          "text": [
            "(160448, 47)\n",
            "(78968, 47)\n"
          ],
          "name": "stdout"
        }
      ]
    },
    {
      "cell_type": "markdown",
      "metadata": {
        "id": "R7MHBCTprKsi",
        "colab_type": "text"
      },
      "source": [
        "***Building a first model with Rooms to determine SoldPrice***\n"
      ]
    },
    {
      "cell_type": "code",
      "metadata": {
        "id": "_LXxmwp3q589",
        "colab_type": "code",
        "outputId": "81d2a159-a68f-43c2-fc5b-37cbb1ea6271",
        "colab": {
          "base_uri": "https://localhost:8080/",
          "height": 450
        }
      },
      "source": [
        "#Building a simple model with Rooms to determine if it is a function of SoldPrice\n",
        "Model_One = str('SoldPrice ~ Rooms')\n",
        "\n",
        "# fit the model to the training set\n",
        "train_model_fit = smf.ols(Model_One, data = final_data_train).fit()\n",
        "\n",
        "# summary of model fit to the training set\n",
        "print(train_model_fit.summary())\n",
        "\n",
        "# training set predictions from the model fit to the training set\n",
        "final_data_train['predict_SalesPrice'] = train_model_fit.fittedvalues\n",
        "\n",
        "# test set predictions from the model fit to the training set\n",
        "final_data_test['predict_SalesPrice'] = train_model_fit.predict(final_data_test)\n",
        "\n",
        "#final_data_train #run for predicted salaries\n",
        "#final_data_test"
      ],
      "execution_count": 0,
      "outputs": [
        {
          "output_type": "stream",
          "text": [
            "                            OLS Regression Results                            \n",
            "==============================================================================\n",
            "Dep. Variable:              SoldPrice   R-squared:                       0.075\n",
            "Model:                            OLS   Adj. R-squared:                  0.075\n",
            "Method:                 Least Squares   F-statistic:                 1.303e+04\n",
            "Date:                Fri, 13 Dec 2019   Prob (F-statistic):               0.00\n",
            "Time:                        16:38:23   Log-Likelihood:            -2.1943e+06\n",
            "No. Observations:              160448   AIC:                         4.389e+06\n",
            "Df Residuals:                  160446   BIC:                         4.389e+06\n",
            "Df Model:                           1                                         \n",
            "Covariance Type:            nonrobust                                         \n",
            "==============================================================================\n",
            "                 coef    std err          t      P>|t|      [0.025      0.975]\n",
            "------------------------------------------------------------------------------\n",
            "Intercept   1.588e+05   1906.907     83.286      0.000    1.55e+05    1.63e+05\n",
            "Rooms       4.132e+04    361.987    114.136      0.000    4.06e+04     4.2e+04\n",
            "==============================================================================\n",
            "Omnibus:                   201153.456   Durbin-Watson:                   1.112\n",
            "Prob(Omnibus):                  0.000   Jarque-Bera (JB):         87477681.122\n",
            "Skew:                           6.508   Prob(JB):                         0.00\n",
            "Kurtosis:                     116.647   Cond. No.                         19.8\n",
            "==============================================================================\n",
            "\n",
            "Warnings:\n",
            "[1] Standard Errors assume that the covariance matrix of the errors is correctly specified.\n"
          ],
          "name": "stdout"
        }
      ]
    },
    {
      "cell_type": "markdown",
      "metadata": {
        "id": "DEZ51pH7JlIt",
        "colab_type": "text"
      },
      "source": [
        "This model even though small p-values, the R-sqaured of 0.075 indicating the proportion of the variance for the dependent variable(SOLDPRICE) that's explained by the independent variable."
      ]
    },
    {
      "cell_type": "markdown",
      "metadata": {
        "id": "OSr_L-ZG-0o0",
        "colab_type": "text"
      },
      "source": [
        "***Building a second model with Rooms and Washrooms to determine if it is a function of SoldPrice***"
      ]
    },
    {
      "cell_type": "code",
      "metadata": {
        "id": "P7yPU1HZq6D5",
        "colab_type": "code",
        "outputId": "7770139a-8464-4c18-8ee7-3a23a6ace93a",
        "colab": {
          "base_uri": "https://localhost:8080/",
          "height": 467
        }
      },
      "source": [
        "#Building second model with Rooms and Washrooms to determine if it is a function of SoldPrice\n",
        "Model_Two = str('SoldPrice ~ Rooms + Washrooms')\n",
        "\n",
        "\n",
        "# fit the model to the training set\n",
        "train_model_fit = smf.ols(Model_Two, data = final_data_train).fit()\n",
        "\n",
        "# summary of model fit to the training set\n",
        "print(train_model_fit.summary())\n",
        "\n",
        "# training set predictions from the model fit to the training set\n",
        "final_data_train['predict_SalesPrice'] = train_model_fit.fittedvalues\n",
        "\n",
        "# test set predictions from the model fit to the training set\n",
        "final_data_test['predict_SalesPrice'] = train_model_fit.predict(final_data_test)"
      ],
      "execution_count": 0,
      "outputs": [
        {
          "output_type": "stream",
          "text": [
            "                            OLS Regression Results                            \n",
            "==============================================================================\n",
            "Dep. Variable:              SoldPrice   R-squared:                       0.133\n",
            "Model:                            OLS   Adj. R-squared:                  0.133\n",
            "Method:                 Least Squares   F-statistic:                 1.229e+04\n",
            "Date:                Fri, 13 Dec 2019   Prob (F-statistic):               0.00\n",
            "Time:                        16:38:23   Log-Likelihood:            -2.1892e+06\n",
            "No. Observations:              160448   AIC:                         4.378e+06\n",
            "Df Residuals:                  160445   BIC:                         4.378e+06\n",
            "Df Model:                           2                                         \n",
            "Covariance Type:            nonrobust                                         \n",
            "==============================================================================\n",
            "                 coef    std err          t      P>|t|      [0.025      0.975]\n",
            "------------------------------------------------------------------------------\n",
            "Intercept   2.326e+05   1979.581    117.502      0.000    2.29e+05    2.36e+05\n",
            "Rooms      -2.802e+04    756.790    -37.025      0.000   -2.95e+04   -2.65e+04\n",
            "Washrooms   1.549e+05   1498.374    103.374      0.000    1.52e+05    1.58e+05\n",
            "==============================================================================\n",
            "Omnibus:                   200334.493   Durbin-Watson:                   1.151\n",
            "Prob(Omnibus):                  0.000   Jarque-Bera (JB):         88911852.751\n",
            "Skew:                           6.447   Prob(JB):                         0.00\n",
            "Kurtosis:                     117.600   Cond. No.                         24.8\n",
            "==============================================================================\n",
            "\n",
            "Warnings:\n",
            "[1] Standard Errors assume that the covariance matrix of the errors is correctly specified.\n"
          ],
          "name": "stdout"
        }
      ]
    },
    {
      "cell_type": "markdown",
      "metadata": {
        "id": "nnsOloheK9vs",
        "colab_type": "text"
      },
      "source": [
        "This model even though small p-values, the R-sqaured of 0.133(which is low) indicating the proportion of the variance for the dependent variable(SOLDPRICE) that's explained by the independent variables."
      ]
    },
    {
      "cell_type": "markdown",
      "metadata": {
        "id": "a1Q75LVp-8Bm",
        "colab_type": "text"
      },
      "source": [
        "***Building a third model with Rooms, Washrooms, Bedrooms to determine if it is a function of SoldPrice***"
      ]
    },
    {
      "cell_type": "code",
      "metadata": {
        "id": "CHq7XBcWq6Bf",
        "colab_type": "code",
        "outputId": "c2fab336-7488-46e8-fa61-a23e45135047",
        "colab": {
          "base_uri": "https://localhost:8080/",
          "height": 485
        }
      },
      "source": [
        "#Building a third model with Rooms, Washrooms, Bedrooms to determine if it is a function of SoldPrice\n",
        "Model_Three = str('SoldPrice ~ Rooms + Washrooms + Bedrooms')\n",
        "\n",
        "\n",
        "# fit the model to the training set\n",
        "train_model_fit = smf.ols(Model_Three, data = final_data_train).fit()\n",
        "\n",
        "# summary of model fit to the training set\n",
        "print(train_model_fit.summary())\n",
        "\n",
        "# training set predictions from the model fit to the training set\n",
        "final_data_train['predict_SalesPrice'] = train_model_fit.fittedvalues\n",
        "\n",
        "# test set predictions from the model fit to the training set\n",
        "final_data_test['predict_SalesPrice'] = train_model_fit.predict(final_data_test)"
      ],
      "execution_count": 0,
      "outputs": [
        {
          "output_type": "stream",
          "text": [
            "                            OLS Regression Results                            \n",
            "==============================================================================\n",
            "Dep. Variable:              SoldPrice   R-squared:                       0.156\n",
            "Model:                            OLS   Adj. R-squared:                  0.156\n",
            "Method:                 Least Squares   F-statistic:                     9921.\n",
            "Date:                Fri, 13 Dec 2019   Prob (F-statistic):               0.00\n",
            "Time:                        16:38:23   Log-Likelihood:            -2.1869e+06\n",
            "No. Observations:              160448   AIC:                         4.374e+06\n",
            "Df Residuals:                  160444   BIC:                         4.374e+06\n",
            "Df Model:                           3                                         \n",
            "Covariance Type:            nonrobust                                         \n",
            "==============================================================================\n",
            "                 coef    std err          t      P>|t|      [0.025      0.975]\n",
            "------------------------------------------------------------------------------\n",
            "Intercept   1.843e+05   2080.986     88.584      0.000     1.8e+05    1.88e+05\n",
            "Rooms       1.931e+04   1027.532     18.796      0.000    1.73e+04    2.13e+04\n",
            "Washrooms   1.312e+05   1519.384     86.376      0.000    1.28e+05    1.34e+05\n",
            "Bedrooms    -7.79e+04   1162.189    -67.028      0.000   -8.02e+04   -7.56e+04\n",
            "==============================================================================\n",
            "Omnibus:                   201888.117   Durbin-Watson:                   1.210\n",
            "Prob(Omnibus):                  0.000   Jarque-Bera (JB):         93948624.457\n",
            "Skew:                           6.528   Prob(JB):                         0.00\n",
            "Kurtosis:                     120.824   Cond. No.                         29.6\n",
            "==============================================================================\n",
            "\n",
            "Warnings:\n",
            "[1] Standard Errors assume that the covariance matrix of the errors is correctly specified.\n"
          ],
          "name": "stdout"
        }
      ]
    },
    {
      "cell_type": "markdown",
      "metadata": {
        "id": "5dklXKPALMBc",
        "colab_type": "text"
      },
      "source": [
        "This model even though small p-values, the R-sqaured of 0.156 (which is low) indicating the proportion of the variance for the dependent variable(SOLDPRICE) that's explained by the independent variables."
      ]
    },
    {
      "cell_type": "markdown",
      "metadata": {
        "id": "Pw_nQ3OW_BWH",
        "colab_type": "text"
      },
      "source": [
        "***Building a fourth model with ListPrice to determine if it is a function of SoldPrice***"
      ]
    },
    {
      "cell_type": "code",
      "metadata": {
        "id": "Kcn8t3I2q55o",
        "colab_type": "code",
        "outputId": "f9f6e1c3-1a83-45f2-a2d5-0d4568135939",
        "colab": {
          "base_uri": "https://localhost:8080/",
          "height": 485
        }
      },
      "source": [
        "#Building a fourth model with ListPrice to determine if it is a function of SoldPrice\n",
        "Model_Four = str('SoldPrice ~ ListPrice')\n",
        "\n",
        "# fit the model to the training set\n",
        "train_model_fit = smf.ols(Model_Four, data = final_data_train).fit()\n",
        "\n",
        "# summary of model fit to the training set\n",
        "print(train_model_fit.summary())\n",
        "\n",
        "# training set predictions from the model fit to the training set\n",
        "final_data_train['predict_SalesPrice'] = train_model_fit.fittedvalues\n",
        "\n",
        "# test set predictions from the model fit to the training set\n",
        "final_data_test['predict_SalesPrice'] = train_model_fit.predict(final_data_test)"
      ],
      "execution_count": 0,
      "outputs": [
        {
          "output_type": "stream",
          "text": [
            "                            OLS Regression Results                            \n",
            "==============================================================================\n",
            "Dep. Variable:              SoldPrice   R-squared:                       0.985\n",
            "Model:                            OLS   Adj. R-squared:                  0.985\n",
            "Method:                 Least Squares   F-statistic:                 1.033e+07\n",
            "Date:                Fri, 13 Dec 2019   Prob (F-statistic):               0.00\n",
            "Time:                        16:38:23   Log-Likelihood:            -1.8652e+06\n",
            "No. Observations:              160448   AIC:                         3.730e+06\n",
            "Df Residuals:                  160446   BIC:                         3.731e+06\n",
            "Df Model:                           1                                         \n",
            "Covariance Type:            nonrobust                                         \n",
            "==============================================================================\n",
            "                 coef    std err          t      P>|t|      [0.025      0.975]\n",
            "------------------------------------------------------------------------------\n",
            "Intercept   4614.3234    131.732     35.028      0.000    4356.132    4872.514\n",
            "ListPrice      0.9799      0.000   3214.067      0.000       0.979       0.980\n",
            "==============================================================================\n",
            "Omnibus:                   298119.951   Durbin-Watson:                   1.544\n",
            "Prob(Omnibus):                  0.000   Jarque-Bera (JB):       9948925685.917\n",
            "Skew:                          12.823   Prob(JB):                         0.00\n",
            "Kurtosis:                    1222.637   Cond. No.                     8.42e+05\n",
            "==============================================================================\n",
            "\n",
            "Warnings:\n",
            "[1] Standard Errors assume that the covariance matrix of the errors is correctly specified.\n",
            "[2] The condition number is large, 8.42e+05. This might indicate that there are\n",
            "strong multicollinearity or other numerical problems.\n"
          ],
          "name": "stdout"
        }
      ]
    },
    {
      "cell_type": "markdown",
      "metadata": {
        "id": "RMHHryVMLT44",
        "colab_type": "text"
      },
      "source": [
        "This model even though small p-values, the R-sqaured of 0.985 (which is high and possibly a good model) indicating the proportion of the variance for the dependent variable(SOLDPRICE) that's explained by the independent variables."
      ]
    },
    {
      "cell_type": "markdown",
      "metadata": {
        "id": "5wzfIC80_Hbu",
        "colab_type": "text"
      },
      "source": [
        "***Building a Fifth model with Rooms, Rooms, Bedrooms and ListPrice to determine if it is a function of SoldPrice***"
      ]
    },
    {
      "cell_type": "code",
      "metadata": {
        "id": "LoYWsNvwsG8D",
        "colab_type": "code",
        "outputId": "0e60eac6-bdaa-44a4-bda4-378eeef5601c",
        "colab": {
          "base_uri": "https://localhost:8080/",
          "height": 537
        }
      },
      "source": [
        "#Building a Fifth model with Rooms, Rooms, Bedrooms and ListPrice to determine if it is a function of SoldPrice\n",
        "Model_Five = str('SoldPrice ~ Rooms + Washrooms + Bedrooms + ListPrice')\n",
        "\n",
        "\n",
        "# fit the model to the training set\n",
        "train_model_fit = smf.ols(Model_Five, data = final_data_train).fit()\n",
        "\n",
        "# summary of model fit to the training set\n",
        "print(train_model_fit.summary())\n",
        "\n",
        "# training set predictions from the model fit to the training set\n",
        "final_data_train['predict_SalesPrice'] = train_model_fit.fittedvalues\n",
        "\n",
        "# test set predictions from the model fit to the training set\n",
        "final_data_test['predict_SalesPrice'] = train_model_fit.predict(final_data_test)"
      ],
      "execution_count": 0,
      "outputs": [
        {
          "output_type": "stream",
          "text": [
            "                            OLS Regression Results                            \n",
            "==============================================================================\n",
            "Dep. Variable:              SoldPrice   R-squared:                       0.985\n",
            "Model:                            OLS   Adj. R-squared:                  0.985\n",
            "Method:                 Least Squares   F-statistic:                 2.588e+06\n",
            "Date:                Fri, 13 Dec 2019   Prob (F-statistic):               0.00\n",
            "Time:                        16:38:23   Log-Likelihood:            -1.8651e+06\n",
            "No. Observations:              160448   AIC:                         3.730e+06\n",
            "Df Residuals:                  160443   BIC:                         3.730e+06\n",
            "Df Model:                           4                                         \n",
            "Covariance Type:            nonrobust                                         \n",
            "==============================================================================\n",
            "                 coef    std err          t      P>|t|      [0.025      0.975]\n",
            "------------------------------------------------------------------------------\n",
            "Intercept   1341.9550    286.684      4.681      0.000     780.060    1903.850\n",
            "Rooms        265.9553    138.356      1.922      0.055      -5.219     537.130\n",
            "Washrooms    364.1805    209.117      1.742      0.082     -45.685     774.046\n",
            "Bedrooms     913.1392    158.582      5.758      0.000     602.322    1223.957\n",
            "ListPrice      0.9786      0.000   2950.993      0.000       0.978       0.979\n",
            "==============================================================================\n",
            "Omnibus:                   298950.937   Durbin-Watson:                   1.537\n",
            "Prob(Omnibus):                  0.000   Jarque-Bera (JB):      10023814101.674\n",
            "Skew:                          12.908   Prob(JB):                         0.00\n",
            "Kurtosis:                    1227.217   Cond. No.                     2.16e+06\n",
            "==============================================================================\n",
            "\n",
            "Warnings:\n",
            "[1] Standard Errors assume that the covariance matrix of the errors is correctly specified.\n",
            "[2] The condition number is large, 2.16e+06. This might indicate that there are\n",
            "strong multicollinearity or other numerical problems.\n"
          ],
          "name": "stdout"
        }
      ]
    },
    {
      "cell_type": "markdown",
      "metadata": {
        "id": "re8knr7__Lf3",
        "colab_type": "text"
      },
      "source": [
        "***Building a sixth model with Rooms, Bedrooms, ListPrice to determine if it is a function of SoldPrice***"
      ]
    },
    {
      "cell_type": "code",
      "metadata": {
        "id": "NCs8AcWIsHCJ",
        "colab_type": "code",
        "outputId": "37ef5723-bfaa-4e3d-dde8-3feac933495d",
        "colab": {
          "base_uri": "https://localhost:8080/",
          "height": 519
        }
      },
      "source": [
        "#Building a sixth model with Rooms, Bedrooms, ListPrice to determine if it is a function of SoldPrice\n",
        "Model_Six = str('SoldPrice ~ Rooms + Bedrooms + ListPrice')\n",
        "\n",
        "\n",
        "# fit the model to the training set\n",
        "train_model_fit = smf.ols(Model_Six, data = final_data_train).fit()\n",
        "\n",
        "# summary of model fit to the training set\n",
        "print(train_model_fit.summary())\n",
        "\n",
        "# training set predictions from the model fit to the training set\n",
        "final_data_train['predict_SalesPrice'] = train_model_fit.fittedvalues\n",
        "\n",
        "# test set predictions from the model fit to the training set\n",
        "final_data_test['predict_SalesPrice'] = train_model_fit.predict(final_data_test)"
      ],
      "execution_count": 0,
      "outputs": [
        {
          "output_type": "stream",
          "text": [
            "                            OLS Regression Results                            \n",
            "==============================================================================\n",
            "Dep. Variable:              SoldPrice   R-squared:                       0.985\n",
            "Model:                            OLS   Adj. R-squared:                  0.985\n",
            "Method:                 Least Squares   F-statistic:                 3.451e+06\n",
            "Date:                Fri, 13 Dec 2019   Prob (F-statistic):               0.00\n",
            "Time:                        16:38:24   Log-Likelihood:            -1.8651e+06\n",
            "No. Observations:              160448   AIC:                         3.730e+06\n",
            "Df Residuals:                  160444   BIC:                         3.730e+06\n",
            "Df Model:                           3                                         \n",
            "Covariance Type:            nonrobust                                         \n",
            "==============================================================================\n",
            "                 coef    std err          t      P>|t|      [0.025      0.975]\n",
            "------------------------------------------------------------------------------\n",
            "Intercept   1124.0225    257.932      4.358      0.000     618.481    1629.564\n",
            "Rooms        448.4074     90.368      4.962      0.000     271.287     625.528\n",
            "Bedrooms     861.2112    155.754      5.529      0.000     555.936    1166.487\n",
            "ListPrice      0.9787      0.000   3020.041      0.000       0.978       0.979\n",
            "==============================================================================\n",
            "Omnibus:                   298912.243   Durbin-Watson:                   1.537\n",
            "Prob(Omnibus):                  0.000   Jarque-Bera (JB):      10025409533.162\n",
            "Skew:                          12.904   Prob(JB):                         0.00\n",
            "Kurtosis:                    1227.315   Cond. No.                     1.73e+06\n",
            "==============================================================================\n",
            "\n",
            "Warnings:\n",
            "[1] Standard Errors assume that the covariance matrix of the errors is correctly specified.\n",
            "[2] The condition number is large, 1.73e+06. This might indicate that there are\n",
            "strong multicollinearity or other numerical problems.\n"
          ],
          "name": "stdout"
        }
      ]
    },
    {
      "cell_type": "markdown",
      "metadata": {
        "id": "4QOfKlKttXe-",
        "colab_type": "text"
      },
      "source": [
        "This is the best model since the p-values for the all the independenent variables are small and less than the alpha(0.05) and with a good R-squared of 98.5%. This is the good model as well"
      ]
    },
    {
      "cell_type": "markdown",
      "metadata": {
        "id": "wh7zG4JM_Tso",
        "colab_type": "text"
      },
      "source": [
        "***Building a seventh model with Rooms, Bedroom, MainFee, Taxes, SoldYear to determine if it is a function of SoldPrice***"
      ]
    },
    {
      "cell_type": "code",
      "metadata": {
        "id": "Lz3QGjQ4sG5V",
        "colab_type": "code",
        "outputId": "bbb51043-f827-48da-87f8-a7afe57320ea",
        "colab": {
          "base_uri": "https://localhost:8080/",
          "height": 554
        }
      },
      "source": [
        "#Building a seventh model with Rooms, Bedroom, MainFee, Taxes, SoldYear to determine if it is a function of SoldPrice\n",
        "Model_Seven = str('SoldPrice ~ Rooms + Bedrooms + MainFee + Taxes + SoldYear')\n",
        "\n",
        "\n",
        "# fit the model to the training set\n",
        "train_model_fit = smf.ols(Model_Seven, data = final_data_train).fit()\n",
        "\n",
        "# summary of model fit to the training set\n",
        "print(train_model_fit.summary())\n",
        "\n",
        "# training set predictions from the model fit to the training set\n",
        "final_data_train['predict_SalesPrice'] = train_model_fit.fittedvalues\n",
        "\n",
        "# test set predictions from the model fit to the training set\n",
        "final_data_test['predict_SalesPrice'] = train_model_fit.predict(final_data_test)"
      ],
      "execution_count": 0,
      "outputs": [
        {
          "output_type": "stream",
          "text": [
            "                            OLS Regression Results                            \n",
            "==============================================================================\n",
            "Dep. Variable:              SoldPrice   R-squared:                       0.309\n",
            "Model:                            OLS   Adj. R-squared:                  0.309\n",
            "Method:                 Least Squares   F-statistic:                 1.438e+04\n",
            "Date:                Fri, 13 Dec 2019   Prob (F-statistic):               0.00\n",
            "Time:                        16:38:24   Log-Likelihood:            -2.1709e+06\n",
            "No. Observations:              160448   AIC:                         4.342e+06\n",
            "Df Residuals:                  160442   BIC:                         4.342e+06\n",
            "Df Model:                           5                                         \n",
            "Covariance Type:            nonrobust                                         \n",
            "==============================================================================\n",
            "                 coef    std err          t      P>|t|      [0.025      0.975]\n",
            "------------------------------------------------------------------------------\n",
            "Intercept  -3.882e+07   4.17e+05    -93.167      0.000   -3.96e+07    -3.8e+07\n",
            "Rooms       7.157e+04    582.580    122.854      0.000    7.04e+04    7.27e+04\n",
            "Bedrooms    -8.07e+04   1027.679    -78.529      0.000   -8.27e+04   -7.87e+04\n",
            "MainFee      227.0210      1.479    153.491      0.000     224.122     229.920\n",
            "Taxes          9.0933      0.122     74.325      0.000       8.853       9.333\n",
            "SoldYear    1.929e+04    206.929     93.235      0.000    1.89e+04    1.97e+04\n",
            "==============================================================================\n",
            "Omnibus:                    93853.799   Durbin-Watson:                   1.328\n",
            "Prob(Omnibus):                  0.000   Jarque-Bera (JB):        801652168.209\n",
            "Skew:                           0.956   Prob(JB):                         0.00\n",
            "Kurtosis:                     349.278   Cond. No.                     4.15e+06\n",
            "==============================================================================\n",
            "\n",
            "Warnings:\n",
            "[1] Standard Errors assume that the covariance matrix of the errors is correctly specified.\n",
            "[2] The condition number is large, 4.15e+06. This might indicate that there are\n",
            "strong multicollinearity or other numerical problems.\n"
          ],
          "name": "stdout"
        }
      ]
    },
    {
      "cell_type": "markdown",
      "metadata": {
        "id": "VxFsZGTzLm2D",
        "colab_type": "text"
      },
      "source": [
        "**kNN Algorithm Model**"
      ]
    },
    {
      "cell_type": "markdown",
      "metadata": {
        "id": "Il0Q6ytqQ4QN",
        "colab_type": "text"
      },
      "source": [
        "Using the previously cleaned data as previous models."
      ]
    },
    {
      "cell_type": "code",
      "metadata": {
        "id": "-68vT4tlLqit",
        "colab_type": "code",
        "colab": {}
      },
      "source": [
        "#Read in the clean file\n",
        "path_F = \"/content/drive/My Drive/IST718_Project/Data/RealAlyze_2010to2017_PostCleaning.csv\"\n",
        "RE_Final_S = pd.read_csv(path_F)"
      ],
      "execution_count": 0,
      "outputs": []
    },
    {
      "cell_type": "markdown",
      "metadata": {
        "id": "32Z2b7FpQ_Gq",
        "colab_type": "text"
      },
      "source": [
        "Viewing the data"
      ]
    },
    {
      "cell_type": "code",
      "metadata": {
        "id": "A4MzLioXQ9bP",
        "colab_type": "code",
        "outputId": "22f7fda7-ba5f-4630-afb3-5d8d1f902bb5",
        "colab": {
          "base_uri": "https://localhost:8080/",
          "height": 308
        }
      },
      "source": [
        "RE_Final_S.head()\n",
        "dataset = RE_Final_S\n",
        "dataset.head()"
      ],
      "execution_count": 0,
      "outputs": [
        {
          "output_type": "execute_result",
          "data": {
            "text/html": [
              "<div>\n",
              "<style scoped>\n",
              "    .dataframe tbody tr th:only-of-type {\n",
              "        vertical-align: middle;\n",
              "    }\n",
              "\n",
              "    .dataframe tbody tr th {\n",
              "        vertical-align: top;\n",
              "    }\n",
              "\n",
              "    .dataframe thead th {\n",
              "        text-align: right;\n",
              "    }\n",
              "</style>\n",
              "<table border=\"1\" class=\"dataframe\">\n",
              "  <thead>\n",
              "    <tr style=\"text-align: right;\">\n",
              "      <th></th>\n",
              "      <th>AirCond</th>\n",
              "      <th>Address</th>\n",
              "      <th>CompUnitNo</th>\n",
              "      <th>Area</th>\n",
              "      <th>Washrooms</th>\n",
              "      <th>Bedrooms</th>\n",
              "      <th>Den</th>\n",
              "      <th>SoldDate</th>\n",
              "      <th>Exposure</th>\n",
              "      <th>Province</th>\n",
              "      <th>Dir_CrossStreets</th>\n",
              "      <th>DaysOnMarket</th>\n",
              "      <th>HeatSource</th>\n",
              "      <th>ListingEntryDate</th>\n",
              "      <th>LaundryLevel</th>\n",
              "      <th>ListPrice</th>\n",
              "      <th>LastStatus</th>\n",
              "      <th>MainFee</th>\n",
              "      <th>MLNum</th>\n",
              "      <th>Kitchens</th>\n",
              "      <th>OrigPrice</th>\n",
              "      <th>ParkingType</th>\n",
              "      <th>ParkingSpaces</th>\n",
              "      <th>Balcony</th>\n",
              "      <th>Rooms</th>\n",
              "      <th>Sale/Lease</th>\n",
              "      <th>SoldPrice</th>\n",
              "      <th>SqFootage</th>\n",
              "      <th>FloorNo</th>\n",
              "      <th>Style</th>\n",
              "      <th>Taxes</th>\n",
              "      <th>ClosedDate</th>\n",
              "      <th>Type</th>\n",
              "      <th>WaterIncl</th>\n",
              "      <th>Age</th>\n",
              "      <th>PostalCode</th>\n",
              "      <th>SoldYear</th>\n",
              "      <th>SoldMonth</th>\n",
              "      <th>SoldDay</th>\n",
              "    </tr>\n",
              "  </thead>\n",
              "  <tbody>\n",
              "    <tr>\n",
              "      <th>0</th>\n",
              "      <td>central air</td>\n",
              "      <td>600fleetst</td>\n",
              "      <td>504</td>\n",
              "      <td>toronto</td>\n",
              "      <td>1.0</td>\n",
              "      <td>1.0</td>\n",
              "      <td>1.0</td>\n",
              "      <td>2010-01-06</td>\n",
              "      <td>e</td>\n",
              "      <td>ontario</td>\n",
              "      <td>lakeshorebathurstst</td>\n",
              "      <td>158.0</td>\n",
              "      <td>gas</td>\n",
              "      <td>8/1/2009 0:00</td>\n",
              "      <td>unknown</td>\n",
              "      <td>319000.0</td>\n",
              "      <td>sld</td>\n",
              "      <td>320.46</td>\n",
              "      <td>c1677165</td>\n",
              "      <td>1.0</td>\n",
              "      <td>299000.0</td>\n",
              "      <td>none</td>\n",
              "      <td>0.0</td>\n",
              "      <td>open</td>\n",
              "      <td>4.0</td>\n",
              "      <td>sale</td>\n",
              "      <td>290000.0</td>\n",
              "      <td>500-699</td>\n",
              "      <td>5</td>\n",
              "      <td>apartment</td>\n",
              "      <td>0.0</td>\n",
              "      <td>2010-02-01 00:00:00</td>\n",
              "      <td>condo apartment</td>\n",
              "      <td>y</td>\n",
              "      <td>zero to five</td>\n",
              "      <td>m5v1b7</td>\n",
              "      <td>2010</td>\n",
              "      <td>1</td>\n",
              "      <td>6</td>\n",
              "    </tr>\n",
              "    <tr>\n",
              "      <th>1</th>\n",
              "      <td>central air</td>\n",
              "      <td>65harboursq</td>\n",
              "      <td>ph7</td>\n",
              "      <td>toronto</td>\n",
              "      <td>4.0</td>\n",
              "      <td>5.0</td>\n",
              "      <td>0.0</td>\n",
              "      <td>2010-01-15</td>\n",
              "      <td>e</td>\n",
              "      <td>ontario</td>\n",
              "      <td>bayqueensquay</td>\n",
              "      <td>155.0</td>\n",
              "      <td>electric</td>\n",
              "      <td>8/13/2009 0:00</td>\n",
              "      <td>upper</td>\n",
              "      <td>1449000.0</td>\n",
              "      <td>sld</td>\n",
              "      <td>1780.00</td>\n",
              "      <td>c1684466</td>\n",
              "      <td>1.0</td>\n",
              "      <td>1499999.0</td>\n",
              "      <td>exclusive</td>\n",
              "      <td>2.0</td>\n",
              "      <td>open</td>\n",
              "      <td>10.0</td>\n",
              "      <td>sale</td>\n",
              "      <td>1395000.0</td>\n",
              "      <td>3500-5000</td>\n",
              "      <td>38</td>\n",
              "      <td>3-storey</td>\n",
              "      <td>10500.0</td>\n",
              "      <td>2010-03-01 00:00:00</td>\n",
              "      <td>condo apartment</td>\n",
              "      <td>y</td>\n",
              "      <td>unknown</td>\n",
              "      <td>m5j2l4</td>\n",
              "      <td>2010</td>\n",
              "      <td>1</td>\n",
              "      <td>15</td>\n",
              "    </tr>\n",
              "    <tr>\n",
              "      <th>2</th>\n",
              "      <td>central air</td>\n",
              "      <td>16yongest</td>\n",
              "      <td>ph7</td>\n",
              "      <td>toronto</td>\n",
              "      <td>3.0</td>\n",
              "      <td>3.0</td>\n",
              "      <td>0.0</td>\n",
              "      <td>2010-01-14</td>\n",
              "      <td>sw</td>\n",
              "      <td>ontario</td>\n",
              "      <td>yongelakeshore</td>\n",
              "      <td>119.0</td>\n",
              "      <td>gas</td>\n",
              "      <td>9/18/2009 0:00</td>\n",
              "      <td>unknown</td>\n",
              "      <td>799900.0</td>\n",
              "      <td>sld</td>\n",
              "      <td>0.00</td>\n",
              "      <td>c1706859</td>\n",
              "      <td>1.0</td>\n",
              "      <td>799900.0</td>\n",
              "      <td>none</td>\n",
              "      <td>0.0</td>\n",
              "      <td>open</td>\n",
              "      <td>7.0</td>\n",
              "      <td>sale</td>\n",
              "      <td>807400.0</td>\n",
              "      <td>1300-1499</td>\n",
              "      <td>40</td>\n",
              "      <td>apartment</td>\n",
              "      <td>0.0</td>\n",
              "      <td>2010-03-31 00:00:00</td>\n",
              "      <td>condo apartment</td>\n",
              "      <td>y</td>\n",
              "      <td>new</td>\n",
              "      <td>m5e1r4</td>\n",
              "      <td>2010</td>\n",
              "      <td>1</td>\n",
              "      <td>14</td>\n",
              "    </tr>\n",
              "    <tr>\n",
              "      <th>3</th>\n",
              "      <td>central air</td>\n",
              "      <td>18harbourst</td>\n",
              "      <td>1602</td>\n",
              "      <td>toronto</td>\n",
              "      <td>2.0</td>\n",
              "      <td>2.0</td>\n",
              "      <td>1.0</td>\n",
              "      <td>2010-01-27</td>\n",
              "      <td>nw</td>\n",
              "      <td>ontario</td>\n",
              "      <td>yongelakeshore</td>\n",
              "      <td>117.0</td>\n",
              "      <td>gas</td>\n",
              "      <td>10/2/2009 0:00</td>\n",
              "      <td>unknown</td>\n",
              "      <td>497000.0</td>\n",
              "      <td>sld</td>\n",
              "      <td>440.63</td>\n",
              "      <td>c1715732</td>\n",
              "      <td>1.0</td>\n",
              "      <td>497000.0</td>\n",
              "      <td>owned</td>\n",
              "      <td>1.0</td>\n",
              "      <td>open</td>\n",
              "      <td>6.0</td>\n",
              "      <td>sale</td>\n",
              "      <td>492000.0</td>\n",
              "      <td>900-1099</td>\n",
              "      <td>16</td>\n",
              "      <td>apartment</td>\n",
              "      <td>0.0</td>\n",
              "      <td>2010-04-01 00:00:00</td>\n",
              "      <td>condo apartment</td>\n",
              "      <td>y</td>\n",
              "      <td>new</td>\n",
              "      <td>m5j2z6</td>\n",
              "      <td>2010</td>\n",
              "      <td>1</td>\n",
              "      <td>27</td>\n",
              "    </tr>\n",
              "    <tr>\n",
              "      <th>4</th>\n",
              "      <td>unknown</td>\n",
              "      <td>1338yorkmillsrd</td>\n",
              "      <td>1601</td>\n",
              "      <td>toronto</td>\n",
              "      <td>2.0</td>\n",
              "      <td>3.0</td>\n",
              "      <td>0.0</td>\n",
              "      <td>2010-01-31</td>\n",
              "      <td>se</td>\n",
              "      <td>ontario</td>\n",
              "      <td>vicpark401</td>\n",
              "      <td>115.0</td>\n",
              "      <td>gas</td>\n",
              "      <td>10/8/2009 0:00</td>\n",
              "      <td>main</td>\n",
              "      <td>220000.0</td>\n",
              "      <td>sld</td>\n",
              "      <td>613.84</td>\n",
              "      <td>c1720379</td>\n",
              "      <td>1.0</td>\n",
              "      <td>220000.0</td>\n",
              "      <td>owned</td>\n",
              "      <td>1.0</td>\n",
              "      <td>open</td>\n",
              "      <td>6.0</td>\n",
              "      <td>sale</td>\n",
              "      <td>210000.0</td>\n",
              "      <td>unknown</td>\n",
              "      <td>15</td>\n",
              "      <td>apartment</td>\n",
              "      <td>1620.0</td>\n",
              "      <td>2010-03-26 00:00:00</td>\n",
              "      <td>condo apartment</td>\n",
              "      <td>y</td>\n",
              "      <td>unknown</td>\n",
              "      <td>m3a3m3</td>\n",
              "      <td>2010</td>\n",
              "      <td>1</td>\n",
              "      <td>31</td>\n",
              "    </tr>\n",
              "  </tbody>\n",
              "</table>\n",
              "</div>"
            ],
            "text/plain": [
              "       AirCond          Address CompUnitNo  ... SoldYear  SoldMonth  SoldDay\n",
              "0  central air       600fleetst        504  ...     2010          1        6\n",
              "1  central air      65harboursq        ph7  ...     2010          1       15\n",
              "2  central air        16yongest        ph7  ...     2010          1       14\n",
              "3  central air      18harbourst       1602  ...     2010          1       27\n",
              "4      unknown  1338yorkmillsrd       1601  ...     2010          1       31\n",
              "\n",
              "[5 rows x 39 columns]"
            ]
          },
          "metadata": {
            "tags": []
          },
          "execution_count": 119
        }
      ]
    },
    {
      "cell_type": "markdown",
      "metadata": {
        "id": "M_Fw2HybRET8",
        "colab_type": "text"
      },
      "source": [
        "While the data has already been \"cleaned\" here we're breaking it up into train and test sets -- 80/20."
      ]
    },
    {
      "cell_type": "code",
      "metadata": {
        "id": "hat_UPuxRBHF",
        "colab_type": "code",
        "colab": {}
      },
      "source": [
        "X = dataset[['DaysOnMarket','ListPrice','Washrooms','Bedrooms','Den','Kitchens','Taxes','SoldDay']].values\n",
        "y = dataset[['Type']].values"
      ],
      "execution_count": 0,
      "outputs": []
    },
    {
      "cell_type": "code",
      "metadata": {
        "id": "Z-B59BXZRGXA",
        "colab_type": "code",
        "colab": {}
      },
      "source": [
        "from sklearn.model_selection import train_test_split\n",
        "X_train, X_test, y_train, y_test = train_test_split(X, y, test_size=0.20)"
      ],
      "execution_count": 0,
      "outputs": []
    },
    {
      "cell_type": "code",
      "metadata": {
        "id": "jGVU5jM2RHh2",
        "colab_type": "code",
        "colab": {}
      },
      "source": [
        "from sklearn.preprocessing import StandardScaler\n",
        "scaler = StandardScaler()\n",
        "scaler.fit(X_train)\n",
        "\n",
        "X_train = scaler.transform(X_train)\n",
        "X_test = scaler.transform(X_test)"
      ],
      "execution_count": 0,
      "outputs": []
    },
    {
      "cell_type": "markdown",
      "metadata": {
        "id": "KAgr-1f_RLXW",
        "colab_type": "text"
      },
      "source": [
        "Setting up the kNN model"
      ]
    },
    {
      "cell_type": "code",
      "metadata": {
        "id": "prw2hDPCRIiI",
        "colab_type": "code",
        "outputId": "8aa6b6fc-c346-4d87-d93b-4551bac8ba11",
        "colab": {
          "base_uri": "https://localhost:8080/",
          "height": 69
        }
      },
      "source": [
        "from sklearn.neighbors import KNeighborsClassifier\n",
        "classifier = KNeighborsClassifier(n_neighbors=5, n_jobs=10000)\n",
        "classifier.fit(X_train, y_train.ravel())"
      ],
      "execution_count": 0,
      "outputs": [
        {
          "output_type": "execute_result",
          "data": {
            "text/plain": [
              "KNeighborsClassifier(algorithm='auto', leaf_size=30, metric='minkowski',\n",
              "                     metric_params=None, n_jobs=10000, n_neighbors=5, p=2,\n",
              "                     weights='uniform')"
            ]
          },
          "metadata": {
            "tags": []
          },
          "execution_count": 123
        }
      ]
    },
    {
      "cell_type": "markdown",
      "metadata": {
        "id": "abS3MdStRPnx",
        "colab_type": "text"
      },
      "source": [
        "Running the model against the test set."
      ]
    },
    {
      "cell_type": "code",
      "metadata": {
        "id": "-iQ4ZVZ9RODI",
        "colab_type": "code",
        "colab": {}
      },
      "source": [
        "y_pred = classifier.predict(X_test)"
      ],
      "execution_count": 0,
      "outputs": []
    },
    {
      "cell_type": "code",
      "metadata": {
        "id": "7dLcEkPDRRMN",
        "colab_type": "code",
        "outputId": "895bb304-c294-4371-d623-86f3caa0ba45",
        "colab": {
          "base_uri": "https://localhost:8080/",
          "height": 814
        }
      },
      "source": [
        "from sklearn.metrics import classification_report, confusion_matrix\n",
        "print(confusion_matrix(y_test, y_pred))\n",
        "print(classification_report(y_test, y_pred))"
      ],
      "execution_count": 0,
      "outputs": [
        {
          "output_type": "stream",
          "text": [
            "[[   15     0     0   166     9     0     0     0     0     0     0     0\n",
            "      0]\n",
            " [    5     2     0   110     4     0     0     0     0     0     0     0\n",
            "      0]\n",
            " [    0     1     1   610    77     0     0     0     0     4     0     0\n",
            "      0]\n",
            " [   15    11    30 33428  1847     3     1     0     2    12     0     0\n",
            "      0]\n",
            " [    4     2     8  2955  8392    10     0     0     0     0     6     0\n",
            "      0]\n",
            " [    0     0     0    50    67    25     0     0     0     0    10     0\n",
            "      0]\n",
            " [    0     0     0    29     1     0     0     0     0     0     0     0\n",
            "      0]\n",
            " [    0     0     0     1     0     0     0     0     1     2     0     0\n",
            "      0]\n",
            " [    0     0     1    31     2     0     0     1     3     9     0     0\n",
            "      0]\n",
            " [    0     0     0    12     0     0     0     2    11    24     0     0\n",
            "      0]\n",
            " [    0     0     0    30    77     8     0     0     0     0     4     0\n",
            "      0]\n",
            " [    0     0     0     1     0     0     0     0     0     0     0     0\n",
            "      0]\n",
            " [    0     0     0     2     1     0     0     0     0     0     0     0\n",
            "      0]]\n",
            "                    precision    recall  f1-score   support\n",
            "\n",
            "         co-op apt       0.38      0.08      0.13       190\n",
            "  co-ownership apt       0.12      0.02      0.03       121\n",
            "comm element condo       0.03      0.00      0.00       693\n",
            "   condo apartment       0.89      0.95      0.92     35349\n",
            "   condo townhouse       0.80      0.74      0.77     11377\n",
            "         det condo       0.54      0.16      0.25       152\n",
            "   leasehold condo       0.00      0.00      0.00        30\n",
            "            locker       0.00      0.00      0.00         4\n",
            "             other       0.18      0.06      0.09        47\n",
            "     parking space       0.47      0.49      0.48        49\n",
            "    semi-det condo       0.20      0.03      0.06       119\n",
            "        time share       0.00      0.00      0.00         1\n",
            " vacant land condo       0.00      0.00      0.00         3\n",
            "\n",
            "          accuracy                           0.87     48135\n",
            "         macro avg       0.28      0.19      0.21     48135\n",
            "      weighted avg       0.85      0.87      0.86     48135\n",
            "\n"
          ],
          "name": "stdout"
        }
      ]
    },
    {
      "cell_type": "markdown",
      "metadata": {
        "id": "uPZjUJdeRUyV",
        "colab_type": "text"
      },
      "source": [
        "Predicting against the test set."
      ]
    },
    {
      "cell_type": "markdown",
      "metadata": {
        "id": "HhSlM7qvRZaP",
        "colab_type": "text"
      },
      "source": [
        "Calculating error"
      ]
    },
    {
      "cell_type": "code",
      "metadata": {
        "id": "ma8RZPs9RUsT",
        "colab_type": "code",
        "colab": {}
      },
      "source": [
        "# from multiprocessing import Pool, cpu_count\n",
        "error = []\n",
        "kvar = 10\n",
        "# Calculating error for K values between 1 and 20\n",
        "for i in range(1, kvar):\n",
        "    knn = KNeighborsClassifier(n_neighbors=i, n_jobs=10000)\n",
        "    knn.fit(X_train, y_train.ravel())\n",
        "    pred_i = knn.predict(X_test)\n",
        "    error.append(np.mean(pred_i != y_test))"
      ],
      "execution_count": 0,
      "outputs": []
    },
    {
      "cell_type": "markdown",
      "metadata": {
        "id": "hzfyr9g6RbHO",
        "colab_type": "text"
      },
      "source": [
        "Plotting the results."
      ]
    },
    {
      "cell_type": "code",
      "metadata": {
        "id": "HGcQ1vctRcbp",
        "colab_type": "code",
        "outputId": "5cce2775-0d0b-4d2a-d551-af40edd4fad0",
        "colab": {
          "base_uri": "https://localhost:8080/",
          "height": 427
        }
      },
      "source": [
        "plt.figure(figsize=(12, 6))\n",
        "plt.plot(range(1, kvar), error, color='red', linestyle='dashed', marker='o',\n",
        "         markerfacecolor='blue', markersize=10)\n",
        "plt.title('Error Rate K Value')\n",
        "plt.xlabel('K Value')\n",
        "plt.ylabel('Mean Error')"
      ],
      "execution_count": 0,
      "outputs": [
        {
          "output_type": "execute_result",
          "data": {
            "text/plain": [
              "Text(0, 0.5, 'Mean Error')"
            ]
          },
          "metadata": {
            "tags": []
          },
          "execution_count": 127
        },
        {
          "output_type": "display_data",
          "data": {
            "image/png": "[encoded data removed]",
            "text/plain": [
              "<Figure size 864x432 with 1 Axes>"
            ]
          },
          "metadata": {
            "tags": []
          }
        }
      ]
    },
    {
      "cell_type": "markdown",
      "metadata": {
        "id": "t2VOgADmRfKI",
        "colab_type": "text"
      },
      "source": [
        "In Conclusion, the kNN model is an unsupervised learning classifier.  The best use for this model in the context of our real estate project might be to develop a \"comp\" list for specific home listings.  \n",
        "\n",
        "The overall accuracy of this model was 87% -- not very good.  The accuracy would likely improve if we used specific variables targeted at \"comps\" and additional \"accurized\" data such as the actual square footage as a metric variable instead of a range of square footage as a categorical value.  Collecting variables which were common to all of the listings (both the target and the \"comps\")."
      ]
    },
    {
      "cell_type": "markdown",
      "metadata": {
        "id": "4ehaWd4aSG4X",
        "colab_type": "text"
      },
      "source": [
        "### **Conclusion**"
      ]
    },
    {
      "cell_type": "markdown",
      "metadata": {
        "id": "lbNNXvE1Rl6c",
        "colab_type": "text"
      },
      "source": [
        "The models explored and corresponding accuracy rates are outline below."
      ]
    },
    {
      "cell_type": "markdown",
      "metadata": {
        "id": "GUkjvy_KRp_l",
        "colab_type": "text"
      },
      "source": [
        "\n",
        "Keras - 87% - Without more specific data as part of the data points (e.g., year home was built and exact square footage),  predicting housing prices is difficult using a deep learning model like Keras\n",
        "\n",
        "Regression - 98% R-square with Rooms, Bedrooms and List Price have small p-value. Model Six is the best model since the p-values of the independent variables are small and with an R-sqaured of 0.985 (which is high) indicating the proportion of the variance for the dependent variable(SOLDPRICE) that's explained by the independent variables. \n",
        "\n",
        "ARIMA - Without significantly more data points, forecasting home values using a time series model creates a wide range and significant errors\n",
        "\n",
        "kNN - 87% - kNN did not generate sufficient accuracy to predict home prices reliably and performance was less than desirable\n"
      ]
    },
    {
      "cell_type": "markdown",
      "metadata": {
        "id": "34keJpfZSJ2o",
        "colab_type": "text"
      },
      "source": [
        "Overall, Regression and Keras model would be the best choice for this problem using the data in its current state.  In order to increase accuracy using the models, more refined data is needed.  Specifically the 'notes' feature from the original dataset contains specifc metric values of square footage and other qualitative elements which may benefit our modeling.  Text Mining has to be used to mine and get information from this field which has the exact square footage of a unit\\house.  Sentiment analysis may be used to deterimine specifc language used by realtors to market homes.  More specific spatial data and metrics such as priximity to public transportation, shopping and medical facilities may increase the accuracy of our outcomes..  This geospatial data may be obtained by geocoding the addresses into XY coordinates and identifying the proximity to the aforementioned services.  This is a similar albeit simpler version of Risk Terrain Modeling for Crime Analysis. \n",
        "\n",
        "Additional analysis which may support our modeling efforts is the historical pricing of a unit over the past 15 years and the current market scenario which significantly impacts market values.  \n",
        "\n",
        "With the addition of these added elements, we believe this model will accurately predict and potentially classify values for homes in the Toronto area.  This informaiton can then be used by realtors as a substitute over \"comps\" to price homes, or as a means for identifying realistic sales within a timeframe and listing price."
      ]
    }
  ]
}